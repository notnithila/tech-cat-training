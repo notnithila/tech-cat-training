{
 "cells": [
  {
   "cell_type": "code",
   "execution_count": 1,
   "id": "5dc29acf-55ef-4623-ab06-e1d43b4c9082",
   "metadata": {},
   "outputs": [],
   "source": [
    "import pandas as pd"
   ]
  },
  {
   "cell_type": "code",
   "execution_count": 3,
   "id": "9cf5a2a2-9613-49ce-93b7-0c5b2c66a077",
   "metadata": {},
   "outputs": [],
   "source": [
    "df = pd.read_parquet('s3://techcatalyst-public/yellow_tripdata_2024-01.parquet')"
   ]
  },
  {
   "cell_type": "code",
   "execution_count": 20,
   "id": "c5b5435d-ae27-483b-b932-10c0c9094178",
   "metadata": {},
   "outputs": [
    {
     "data": {
      "text/plain": [
       "Index(['VendorID', 'tpep_pickup_datetime', 'tpep_dropoff_datetime',\n",
       "       'passenger_count', 'trip_distance', 'RatecodeID', 'store_and_fwd_flag',\n",
       "       'PULocationID', 'DOLocationID', 'payment_type', 'fare_amount', 'extra',\n",
       "       'mta_tax', 'tip_amount', 'tolls_amount', 'improvement_surcharge',\n",
       "       'total_amount', 'congestion_surcharge', 'Airport_fee'],\n",
       "      dtype='object')"
      ]
     },
     "execution_count": 20,
     "metadata": {},
     "output_type": "execute_result"
    }
   ],
   "source": [
    "df.columns"
   ]
  },
  {
   "cell_type": "code",
   "execution_count": 21,
   "id": "83a6140c-1378-4b90-b9f6-e224aa6db4b5",
   "metadata": {},
   "outputs": [
    {
     "name": "stdout",
     "output_type": "stream",
     "text": [
      "<class 'pandas.core.frame.DataFrame'>\n",
      "RangeIndex: 2964624 entries, 0 to 2964623\n",
      "Data columns (total 19 columns):\n",
      " #   Column                 Dtype         \n",
      "---  ------                 -----         \n",
      " 0   VendorID               int32         \n",
      " 1   tpep_pickup_datetime   datetime64[us]\n",
      " 2   tpep_dropoff_datetime  datetime64[us]\n",
      " 3   passenger_count        float64       \n",
      " 4   trip_distance          float64       \n",
      " 5   RatecodeID             float64       \n",
      " 6   store_and_fwd_flag     object        \n",
      " 7   PULocationID           int32         \n",
      " 8   DOLocationID           int32         \n",
      " 9   payment_type           int64         \n",
      " 10  fare_amount            float64       \n",
      " 11  extra                  float64       \n",
      " 12  mta_tax                float64       \n",
      " 13  tip_amount             float64       \n",
      " 14  tolls_amount           float64       \n",
      " 15  improvement_surcharge  float64       \n",
      " 16  total_amount           float64       \n",
      " 17  congestion_surcharge   float64       \n",
      " 18  Airport_fee            float64       \n",
      "dtypes: datetime64[us](2), float64(12), int32(3), int64(1), object(1)\n",
      "memory usage: 395.8+ MB\n"
     ]
    }
   ],
   "source": [
    "df.info()"
   ]
  },
  {
   "cell_type": "code",
   "execution_count": 55,
   "id": "4a9efc75-3a0e-453e-85f8-5cfad3044dd5",
   "metadata": {},
   "outputs": [
    {
     "data": {
      "text/plain": [
       "(30000, 19)"
      ]
     },
     "execution_count": 55,
     "metadata": {},
     "output_type": "execute_result"
    }
   ],
   "source": [
    "df_final = df.head(30000)\n",
    "df_final.shape"
   ]
  },
  {
   "cell_type": "code",
   "execution_count": 56,
   "id": "2d907add-4954-4c92-a3cc-62b03397a8a6",
   "metadata": {},
   "outputs": [],
   "source": [
    "df_final.to_csv('s3://techcatalyst-public/tatwan/yellow_tripdata_2024-01.csv')\n",
    "df_final.to_csv('yellow_tripdata.csv', index=False)\n",
    "df_final.to_json('yellow_tripdata.json', orient='records', index=False)\n",
    "df_final.to_parquet('yellow_tripdata.parquet', index=False)"
   ]
  },
  {
   "cell_type": "code",
   "execution_count": 44,
   "id": "6663e98d-ebcd-4d3f-882d-f2c6450bfda2",
   "metadata": {},
   "outputs": [
    {
     "data": {
      "text/plain": [
       "'[{\"VendorID\":2,\"tpep_pickup_datetime\":1704070675,\"tpep_dropoff_datetime\":1704071863,\"passenger_count\":1.0,\"trip_distance\":1.72,\"RatecodeID\":1.0,\"store_and_fwd_flag\":\"N\",\"PULocationID\":186,\"DOLocationID\":79,\"payment_type\":2,\"fare_amount\":17.7,\"extra\":1.0,\"mta_tax\":0.5,\"tip_amount\":0.0,\"tolls_amount\":0.0,\"improvement_surcharge\":1.0,\"total_amount\":22.7,\"congestion_surcharge\":2.5,\"Airport_fee\":0.0},{\"VendorID\":1,\"tpep_pickup_datetime\":1704067380,\"tpep_dropoff_datetime\":1704067776,\"passenger_count\":1.0,\"trip_distance\":1.8,\"RatecodeID\":1.0,\"store_and_fwd_flag\":\"N\",\"PULocationID\":140,\"DOLocationID\":236,\"payment_type\":1,\"fare_amount\":10.0,\"extra\":3.5,\"mta_tax\":0.5,\"tip_amount\":3.75,\"tolls_amount\":0.0,\"improvement_surcharge\":1.0,\"total_amount\":18.75,\"congestion_surcharge\":2.5,\"Airport_fee\":0.0},{\"VendorID\":1,\"tpep_pickup_datetime\":1704068226,\"tpep_dropoff_datetime\":1704069301,\"passenger_count\":1.0,\"trip_distance\":4.7,\"RatecodeID\":1.0,\"store_and_fwd_flag\":\"N\",\"PULocationID\":236,\"DOLocationID\":79,\"payment_type\":1,\"fare_amount\":23.3,\"extra\":3.5,\"mta_tax\":0.5,\"tip_amount\":3.0,\"tolls_amount\":0.0,\"improvement_surcharge\":1.0,\"total_amount\":31.3,\"congestion_surcharge\":2.5,\"Airport_fee\":0.0},{\"VendorID\":1,\"tpep_pickup_datetime\":1704069398,\"tpep_dropoff_datetime\":1704069896,\"passenger_count\":1.0,\"trip_distance\":1.4,\"RatecodeID\":1.0,\"store_and_fwd_flag\":\"N\",\"PULocationID\":79,\"DOLocationID\":211,\"payment_type\":1,\"fare_amount\":10.0,\"extra\":3.5,\"mta_tax\":0.5,\"tip_amount\":2.0,\"tolls_amount\":0.0,\"improvement_surcharge\":1.0,\"total_amount\":17.0,\"congestion_surcharge\":2.5,\"Airport_fee\":0.0},{\"VendorID\":1,\"tpep_pickup_datetime\":1704070011,\"tpep_dropoff_datetime\":1704070377,\"passenger_count\":1.0,\"trip_distance\":0.8,\"RatecodeID\":1.0,\"store_and_fwd_flag\":\"N\",\"PULocationID\":211,\"DOLocationID\":148,\"payment_type\":1,\"fare_amount\":7.9,\"extra\":3.5,\"mta_tax\":0.5,\"tip_amount\":3.2,\"tolls_amount\":0.0,\"improvement_surcharge\":1.0,\"total_amount\":16.1,\"congestion_surcharge\":2.5,\"Airport_fee\":0.0}]'"
      ]
     },
     "execution_count": 44,
     "metadata": {},
     "output_type": "execute_result"
    }
   ],
   "source": [
    "df_final.head().to_json(orient='records')"
   ]
  },
  {
   "cell_type": "code",
   "execution_count": 41,
   "id": "249c0c82-225c-407a-995c-be1f2ee3b777",
   "metadata": {},
   "outputs": [],
   "source": [
    "#df_final.to_json('s3://techcatalyst-public/tatwan/yellow_tripdata_2024-01.json', orient='records')"
   ]
  },
  {
   "cell_type": "code",
   "execution_count": 42,
   "id": "0ec5fb21-97dc-4011-8d66-5d404d310df2",
   "metadata": {},
   "outputs": [],
   "source": [
    "#df_final.to_xml('s3://techcatalyst-public/tatwan/yellow_tripdata_2024-01.xml')"
   ]
  },
  {
   "cell_type": "code",
   "execution_count": 2,
   "id": "403b875d-4fb6-47fc-92f7-c0f0b3870062",
   "metadata": {},
   "outputs": [
    {
     "name": "stdout",
     "output_type": "stream",
     "text": [
      "# packages in environment at /opt/anaconda3/envs/dev2:\n",
      "#\n",
      "# Name                    Version                   Build  Channel\n",
      "pandas-datareader         0.10.0                   pypi_0    pypi\n"
     ]
    }
   ],
   "source": [
    "# !pip install pandas-datareader\n",
    "!conda list datareader"
   ]
  },
  {
   "cell_type": "code",
   "execution_count": 3,
   "id": "901a6bd4-ba06-4fe1-b9eb-11fb02552b88",
   "metadata": {},
   "outputs": [
    {
     "name": "stdout",
     "output_type": "stream",
     "text": [
      "/opt/anaconda3/envs/dev2/bin/python\n"
     ]
    }
   ],
   "source": [
    "!which python"
   ]
  },
  {
   "cell_type": "code",
   "execution_count": 8,
   "id": "ec9bc84c-c7f3-4dee-a6a7-cbf6d97c9654",
   "metadata": {},
   "outputs": [],
   "source": [
    "import pandas_datareader.data as web\n",
    "import pandas as pd\n",
    "import datetime as dt\n",
    "from pandas_datareader import yahoo"
   ]
  },
  {
   "cell_type": "code",
   "execution_count": 13,
   "id": "decfbe9d-56d1-4fb2-b6ef-a5a79c58aa94",
   "metadata": {},
   "outputs": [],
   "source": [
    "y = yahoo.daily.YahooDailyReader"
   ]
  },
  {
   "cell_type": "code",
   "execution_count": 14,
   "id": "d1fe5b12-56c3-4806-8b63-0a73efa947ef",
   "metadata": {},
   "outputs": [],
   "source": [
    "ge = y('GE', start='2019-09-10', end='2024-07-09')"
   ]
  },
  {
   "cell_type": "code",
   "execution_count": 18,
   "id": "d654d02e-d2fe-4b47-809f-b5146c217767",
   "metadata": {},
   "outputs": [],
   "source": [
    "# ge.read()"
   ]
  },
  {
   "cell_type": "code",
   "execution_count": 19,
   "id": "7651f145-1e53-45cd-8575-d039543e72ee",
   "metadata": {},
   "outputs": [],
   "source": [
    "# df = web.DataReader('GE', 'yahoo', start='2019-09-10', end='2024-07-09')\n"
   ]
  },
  {
   "cell_type": "code",
   "execution_count": 31,
   "id": "3ad36e0d-160c-4cfe-b612-f66c3328e8b6",
   "metadata": {},
   "outputs": [
    {
     "data": {
      "text/html": [
       "<div>\n",
       "<style scoped>\n",
       "    .dataframe tbody tr th:only-of-type {\n",
       "        vertical-align: middle;\n",
       "    }\n",
       "\n",
       "    .dataframe tbody tr th {\n",
       "        vertical-align: top;\n",
       "    }\n",
       "\n",
       "    .dataframe thead th {\n",
       "        text-align: right;\n",
       "    }\n",
       "</style>\n",
       "<table border=\"1\" class=\"dataframe\">\n",
       "  <thead>\n",
       "    <tr style=\"text-align: right;\">\n",
       "      <th></th>\n",
       "      <th>Date</th>\n",
       "      <th>Open</th>\n",
       "      <th>High</th>\n",
       "      <th>Low</th>\n",
       "      <th>Close</th>\n",
       "      <th>Adj Close</th>\n",
       "      <th>Volume</th>\n",
       "    </tr>\n",
       "  </thead>\n",
       "  <tbody>\n",
       "    <tr>\n",
       "      <th>0</th>\n",
       "      <td>2019-09-10</td>\n",
       "      <td>53.465000</td>\n",
       "      <td>54.195000</td>\n",
       "      <td>52.927502</td>\n",
       "      <td>54.174999</td>\n",
       "      <td>52.482788</td>\n",
       "      <td>127111600</td>\n",
       "    </tr>\n",
       "    <tr>\n",
       "      <th>1</th>\n",
       "      <td>2019-09-11</td>\n",
       "      <td>54.517502</td>\n",
       "      <td>55.927502</td>\n",
       "      <td>54.432499</td>\n",
       "      <td>55.897499</td>\n",
       "      <td>54.151485</td>\n",
       "      <td>177158400</td>\n",
       "    </tr>\n",
       "    <tr>\n",
       "      <th>2</th>\n",
       "      <td>2019-09-12</td>\n",
       "      <td>56.200001</td>\n",
       "      <td>56.605000</td>\n",
       "      <td>55.715000</td>\n",
       "      <td>55.772499</td>\n",
       "      <td>54.030388</td>\n",
       "      <td>128906800</td>\n",
       "    </tr>\n",
       "    <tr>\n",
       "      <th>3</th>\n",
       "      <td>2019-09-13</td>\n",
       "      <td>55.000000</td>\n",
       "      <td>55.197498</td>\n",
       "      <td>54.255001</td>\n",
       "      <td>54.687500</td>\n",
       "      <td>52.979282</td>\n",
       "      <td>159053200</td>\n",
       "    </tr>\n",
       "    <tr>\n",
       "      <th>4</th>\n",
       "      <td>2019-09-16</td>\n",
       "      <td>54.432499</td>\n",
       "      <td>55.032501</td>\n",
       "      <td>54.389999</td>\n",
       "      <td>54.974998</td>\n",
       "      <td>53.257793</td>\n",
       "      <td>84632400</td>\n",
       "    </tr>\n",
       "    <tr>\n",
       "      <th>...</th>\n",
       "      <td>...</td>\n",
       "      <td>...</td>\n",
       "      <td>...</td>\n",
       "      <td>...</td>\n",
       "      <td>...</td>\n",
       "      <td>...</td>\n",
       "      <td>...</td>\n",
       "    </tr>\n",
       "    <tr>\n",
       "      <th>1210</th>\n",
       "      <td>2024-07-02</td>\n",
       "      <td>216.149994</td>\n",
       "      <td>220.380005</td>\n",
       "      <td>215.100006</td>\n",
       "      <td>220.270004</td>\n",
       "      <td>220.270004</td>\n",
       "      <td>58046200</td>\n",
       "    </tr>\n",
       "    <tr>\n",
       "      <th>1211</th>\n",
       "      <td>2024-07-03</td>\n",
       "      <td>220.000000</td>\n",
       "      <td>221.550003</td>\n",
       "      <td>219.029999</td>\n",
       "      <td>221.550003</td>\n",
       "      <td>221.550003</td>\n",
       "      <td>37369800</td>\n",
       "    </tr>\n",
       "    <tr>\n",
       "      <th>1212</th>\n",
       "      <td>2024-07-05</td>\n",
       "      <td>221.649994</td>\n",
       "      <td>226.449997</td>\n",
       "      <td>221.649994</td>\n",
       "      <td>226.339996</td>\n",
       "      <td>226.339996</td>\n",
       "      <td>60412400</td>\n",
       "    </tr>\n",
       "    <tr>\n",
       "      <th>1213</th>\n",
       "      <td>2024-07-08</td>\n",
       "      <td>227.089996</td>\n",
       "      <td>227.850006</td>\n",
       "      <td>223.250000</td>\n",
       "      <td>227.820007</td>\n",
       "      <td>227.820007</td>\n",
       "      <td>59085900</td>\n",
       "    </tr>\n",
       "    <tr>\n",
       "      <th>1214</th>\n",
       "      <td>2024-07-09</td>\n",
       "      <td>227.929993</td>\n",
       "      <td>229.399994</td>\n",
       "      <td>226.369995</td>\n",
       "      <td>228.679993</td>\n",
       "      <td>228.679993</td>\n",
       "      <td>48076100</td>\n",
       "    </tr>\n",
       "  </tbody>\n",
       "</table>\n",
       "<p>1215 rows × 7 columns</p>\n",
       "</div>"
      ],
      "text/plain": [
       "           Date        Open        High         Low       Close   Adj Close  \\\n",
       "0    2019-09-10   53.465000   54.195000   52.927502   54.174999   52.482788   \n",
       "1    2019-09-11   54.517502   55.927502   54.432499   55.897499   54.151485   \n",
       "2    2019-09-12   56.200001   56.605000   55.715000   55.772499   54.030388   \n",
       "3    2019-09-13   55.000000   55.197498   54.255001   54.687500   52.979282   \n",
       "4    2019-09-16   54.432499   55.032501   54.389999   54.974998   53.257793   \n",
       "...         ...         ...         ...         ...         ...         ...   \n",
       "1210 2024-07-02  216.149994  220.380005  215.100006  220.270004  220.270004   \n",
       "1211 2024-07-03  220.000000  221.550003  219.029999  221.550003  221.550003   \n",
       "1212 2024-07-05  221.649994  226.449997  221.649994  226.339996  226.339996   \n",
       "1213 2024-07-08  227.089996  227.850006  223.250000  227.820007  227.820007   \n",
       "1214 2024-07-09  227.929993  229.399994  226.369995  228.679993  228.679993   \n",
       "\n",
       "         Volume  \n",
       "0     127111600  \n",
       "1     177158400  \n",
       "2     128906800  \n",
       "3     159053200  \n",
       "4      84632400  \n",
       "...         ...  \n",
       "1210   58046200  \n",
       "1211   37369800  \n",
       "1212   60412400  \n",
       "1213   59085900  \n",
       "1214   48076100  \n",
       "\n",
       "[1215 rows x 7 columns]"
      ]
     },
     "execution_count": 31,
     "metadata": {},
     "output_type": "execute_result"
    }
   ],
   "source": [
    "# !pip install yfinance"
   ]
  },
  {
   "cell_type": "code",
   "execution_count": 24,
   "id": "e736a477-5a0a-440c-9ce8-b80ca2b78aa0",
   "metadata": {},
   "outputs": [
    {
     "name": "stderr",
     "output_type": "stream",
     "text": [
      "[*********************100%%**********************]  1 of 1 completed\n"
     ]
    }
   ],
   "source": [
    "import yfinance as yf\n",
    "aapl = yf.download(\"AAPL\", start='2019-09-10', end='2024-07-10')"
   ]
  },
  {
   "cell_type": "code",
   "execution_count": 25,
   "id": "d1a256f0-1378-4b35-a2f0-1f80af57511e",
   "metadata": {},
   "outputs": [
    {
     "name": "stderr",
     "output_type": "stream",
     "text": [
      "[*********************100%%**********************]  1 of 1 completed\n"
     ]
    }
   ],
   "source": [
    "ge = yf.download(\"GE\", start='2019-09-10', end='2024-07-10')"
   ]
  },
  {
   "cell_type": "code",
   "execution_count": 26,
   "id": "e692e741-d3ec-47d7-adbc-ae9deebbb8c5",
   "metadata": {},
   "outputs": [
    {
     "name": "stderr",
     "output_type": "stream",
     "text": [
      "[*********************100%%**********************]  1 of 1 completed\n"
     ]
    }
   ],
   "source": [
    "Google = yf.download(\"GOOG\", start='2019-09-10', end='2024-07-10')"
   ]
  },
  {
   "cell_type": "code",
   "execution_count": 32,
   "id": "e757755e-925a-4fbc-87ca-862bbff53973",
   "metadata": {},
   "outputs": [],
   "source": [
    "Google.reset_index().to_csv('goog.csv', index=False)\n",
    "aapl.reset_index().to_parquet('aapl.parquet', index=False)\n",
    "ge.reset_index().to_json('ge.json', index=False, orient='records')"
   ]
  },
  {
   "cell_type": "code",
   "execution_count": 29,
   "id": "bc4f99a6-7096-454b-9431-6a2360b0caae",
   "metadata": {},
   "outputs": [
    {
     "data": {
      "text/html": [
       "<div>\n",
       "<style scoped>\n",
       "    .dataframe tbody tr th:only-of-type {\n",
       "        vertical-align: middle;\n",
       "    }\n",
       "\n",
       "    .dataframe tbody tr th {\n",
       "        vertical-align: top;\n",
       "    }\n",
       "\n",
       "    .dataframe thead th {\n",
       "        text-align: right;\n",
       "    }\n",
       "</style>\n",
       "<table border=\"1\" class=\"dataframe\">\n",
       "  <thead>\n",
       "    <tr style=\"text-align: right;\">\n",
       "      <th></th>\n",
       "      <th>Open</th>\n",
       "      <th>High</th>\n",
       "      <th>Low</th>\n",
       "      <th>Close</th>\n",
       "      <th>Adj Close</th>\n",
       "      <th>Volume</th>\n",
       "    </tr>\n",
       "    <tr>\n",
       "      <th>Date</th>\n",
       "      <th></th>\n",
       "      <th></th>\n",
       "      <th></th>\n",
       "      <th></th>\n",
       "      <th></th>\n",
       "      <th></th>\n",
       "    </tr>\n",
       "  </thead>\n",
       "  <tbody>\n",
       "    <tr>\n",
       "      <th>2019-09-10</th>\n",
       "      <td>59.757500</td>\n",
       "      <td>60.500000</td>\n",
       "      <td>59.729000</td>\n",
       "      <td>60.299999</td>\n",
       "      <td>60.231457</td>\n",
       "      <td>25202000</td>\n",
       "    </tr>\n",
       "    <tr>\n",
       "      <th>2019-09-11</th>\n",
       "      <td>60.170502</td>\n",
       "      <td>61.130001</td>\n",
       "      <td>60.110001</td>\n",
       "      <td>61.008499</td>\n",
       "      <td>60.939152</td>\n",
       "      <td>26140000</td>\n",
       "    </tr>\n",
       "    <tr>\n",
       "      <th>2019-09-12</th>\n",
       "      <td>61.215000</td>\n",
       "      <td>62.092999</td>\n",
       "      <td>61.151001</td>\n",
       "      <td>61.712502</td>\n",
       "      <td>61.642357</td>\n",
       "      <td>34518000</td>\n",
       "    </tr>\n",
       "    <tr>\n",
       "      <th>2019-09-13</th>\n",
       "      <td>61.567501</td>\n",
       "      <td>62.043999</td>\n",
       "      <td>61.350498</td>\n",
       "      <td>61.978001</td>\n",
       "      <td>61.907551</td>\n",
       "      <td>26028000</td>\n",
       "    </tr>\n",
       "    <tr>\n",
       "      <th>2019-09-16</th>\n",
       "      <td>61.476002</td>\n",
       "      <td>61.978001</td>\n",
       "      <td>61.280499</td>\n",
       "      <td>61.564999</td>\n",
       "      <td>61.495022</td>\n",
       "      <td>21066000</td>\n",
       "    </tr>\n",
       "  </tbody>\n",
       "</table>\n",
       "</div>"
      ],
      "text/plain": [
       "                 Open       High        Low      Close  Adj Close    Volume\n",
       "Date                                                                       \n",
       "2019-09-10  59.757500  60.500000  59.729000  60.299999  60.231457  25202000\n",
       "2019-09-11  60.170502  61.130001  60.110001  61.008499  60.939152  26140000\n",
       "2019-09-12  61.215000  62.092999  61.151001  61.712502  61.642357  34518000\n",
       "2019-09-13  61.567501  62.043999  61.350498  61.978001  61.907551  26028000\n",
       "2019-09-16  61.476002  61.978001  61.280499  61.564999  61.495022  21066000"
      ]
     },
     "execution_count": 29,
     "metadata": {},
     "output_type": "execute_result"
    }
   ],
   "source": [
    "Google.head()"
   ]
  },
  {
   "cell_type": "code",
   "execution_count": 2,
   "id": "0b6ae864-c822-4725-a9e1-a919b41a5d9c",
   "metadata": {},
   "outputs": [],
   "source": [
    "import pandas as pd"
   ]
  },
  {
   "cell_type": "code",
   "execution_count": 4,
   "id": "d6e002e3-86d1-4e50-a0d4-3ecc0385409f",
   "metadata": {},
   "outputs": [
    {
     "data": {
      "text/html": [
       "<div>\n",
       "<style scoped>\n",
       "    .dataframe tbody tr th:only-of-type {\n",
       "        vertical-align: middle;\n",
       "    }\n",
       "\n",
       "    .dataframe tbody tr th {\n",
       "        vertical-align: top;\n",
       "    }\n",
       "\n",
       "    .dataframe thead th {\n",
       "        text-align: right;\n",
       "    }\n",
       "</style>\n",
       "<table border=\"1\" class=\"dataframe\">\n",
       "  <thead>\n",
       "    <tr style=\"text-align: right;\">\n",
       "      <th></th>\n",
       "      <th>Date</th>\n",
       "      <th>Open</th>\n",
       "      <th>High</th>\n",
       "      <th>Low</th>\n",
       "      <th>Close</th>\n",
       "      <th>Adj Close</th>\n",
       "      <th>Volume</th>\n",
       "    </tr>\n",
       "  </thead>\n",
       "  <tbody>\n",
       "    <tr>\n",
       "      <th>0</th>\n",
       "      <td>2019-09-10</td>\n",
       "      <td>53.465000</td>\n",
       "      <td>54.195000</td>\n",
       "      <td>52.927502</td>\n",
       "      <td>54.174999</td>\n",
       "      <td>52.482788</td>\n",
       "      <td>127111600</td>\n",
       "    </tr>\n",
       "    <tr>\n",
       "      <th>1</th>\n",
       "      <td>2019-09-11</td>\n",
       "      <td>54.517502</td>\n",
       "      <td>55.927502</td>\n",
       "      <td>54.432499</td>\n",
       "      <td>55.897499</td>\n",
       "      <td>54.151485</td>\n",
       "      <td>177158400</td>\n",
       "    </tr>\n",
       "    <tr>\n",
       "      <th>2</th>\n",
       "      <td>2019-09-12</td>\n",
       "      <td>56.200001</td>\n",
       "      <td>56.605000</td>\n",
       "      <td>55.715000</td>\n",
       "      <td>55.772499</td>\n",
       "      <td>54.030388</td>\n",
       "      <td>128906800</td>\n",
       "    </tr>\n",
       "    <tr>\n",
       "      <th>3</th>\n",
       "      <td>2019-09-13</td>\n",
       "      <td>55.000000</td>\n",
       "      <td>55.197498</td>\n",
       "      <td>54.255001</td>\n",
       "      <td>54.687500</td>\n",
       "      <td>52.979282</td>\n",
       "      <td>159053200</td>\n",
       "    </tr>\n",
       "    <tr>\n",
       "      <th>4</th>\n",
       "      <td>2019-09-16</td>\n",
       "      <td>54.432499</td>\n",
       "      <td>55.032501</td>\n",
       "      <td>54.389999</td>\n",
       "      <td>54.974998</td>\n",
       "      <td>53.257793</td>\n",
       "      <td>84632400</td>\n",
       "    </tr>\n",
       "    <tr>\n",
       "      <th>...</th>\n",
       "      <td>...</td>\n",
       "      <td>...</td>\n",
       "      <td>...</td>\n",
       "      <td>...</td>\n",
       "      <td>...</td>\n",
       "      <td>...</td>\n",
       "      <td>...</td>\n",
       "    </tr>\n",
       "    <tr>\n",
       "      <th>1210</th>\n",
       "      <td>2024-07-02</td>\n",
       "      <td>216.149994</td>\n",
       "      <td>220.380005</td>\n",
       "      <td>215.100006</td>\n",
       "      <td>220.270004</td>\n",
       "      <td>220.270004</td>\n",
       "      <td>58046200</td>\n",
       "    </tr>\n",
       "    <tr>\n",
       "      <th>1211</th>\n",
       "      <td>2024-07-03</td>\n",
       "      <td>220.000000</td>\n",
       "      <td>221.550003</td>\n",
       "      <td>219.029999</td>\n",
       "      <td>221.550003</td>\n",
       "      <td>221.550003</td>\n",
       "      <td>37369800</td>\n",
       "    </tr>\n",
       "    <tr>\n",
       "      <th>1212</th>\n",
       "      <td>2024-07-05</td>\n",
       "      <td>221.649994</td>\n",
       "      <td>226.449997</td>\n",
       "      <td>221.649994</td>\n",
       "      <td>226.339996</td>\n",
       "      <td>226.339996</td>\n",
       "      <td>60412400</td>\n",
       "    </tr>\n",
       "    <tr>\n",
       "      <th>1213</th>\n",
       "      <td>2024-07-08</td>\n",
       "      <td>227.089996</td>\n",
       "      <td>227.850006</td>\n",
       "      <td>223.250000</td>\n",
       "      <td>227.820007</td>\n",
       "      <td>227.820007</td>\n",
       "      <td>59085900</td>\n",
       "    </tr>\n",
       "    <tr>\n",
       "      <th>1214</th>\n",
       "      <td>2024-07-09</td>\n",
       "      <td>227.929993</td>\n",
       "      <td>229.399994</td>\n",
       "      <td>226.369995</td>\n",
       "      <td>228.679993</td>\n",
       "      <td>228.679993</td>\n",
       "      <td>48076100</td>\n",
       "    </tr>\n",
       "  </tbody>\n",
       "</table>\n",
       "<p>1215 rows × 7 columns</p>\n",
       "</div>"
      ],
      "text/plain": [
       "           Date        Open        High         Low       Close   Adj Close  \\\n",
       "0    2019-09-10   53.465000   54.195000   52.927502   54.174999   52.482788   \n",
       "1    2019-09-11   54.517502   55.927502   54.432499   55.897499   54.151485   \n",
       "2    2019-09-12   56.200001   56.605000   55.715000   55.772499   54.030388   \n",
       "3    2019-09-13   55.000000   55.197498   54.255001   54.687500   52.979282   \n",
       "4    2019-09-16   54.432499   55.032501   54.389999   54.974998   53.257793   \n",
       "...         ...         ...         ...         ...         ...         ...   \n",
       "1210 2024-07-02  216.149994  220.380005  215.100006  220.270004  220.270004   \n",
       "1211 2024-07-03  220.000000  221.550003  219.029999  221.550003  221.550003   \n",
       "1212 2024-07-05  221.649994  226.449997  221.649994  226.339996  226.339996   \n",
       "1213 2024-07-08  227.089996  227.850006  223.250000  227.820007  227.820007   \n",
       "1214 2024-07-09  227.929993  229.399994  226.369995  228.679993  228.679993   \n",
       "\n",
       "         Volume  \n",
       "0     127111600  \n",
       "1     177158400  \n",
       "2     128906800  \n",
       "3     159053200  \n",
       "4      84632400  \n",
       "...         ...  \n",
       "1210   58046200  \n",
       "1211   37369800  \n",
       "1212   60412400  \n",
       "1213   59085900  \n",
       "1214   48076100  \n",
       "\n",
       "[1215 rows x 7 columns]"
      ]
     },
     "execution_count": 4,
     "metadata": {},
     "output_type": "execute_result"
    }
   ],
   "source": [
    "pd.read_parquet('s3://techcatalyst-public/stocks/aapl.parquet')"
   ]
  },
  {
   "cell_type": "code",
   "execution_count": null,
   "id": "a7c808a1-6940-4340-8c1c-ab4e45f9dc95",
   "metadata": {},
   "outputs": [],
   "source": [
    "pd.read_csv('s3://techcatalyst-public/stocks/aapl.parquet')"
   ]
  }
 ],
 "metadata": {
  "kernelspec": {
   "display_name": "Python [conda env:dev2]",
   "language": "python",
   "name": "conda-env-dev2-py"
  },
  "language_info": {
   "codemirror_mode": {
    "name": "ipython",
    "version": 3
   },
   "file_extension": ".py",
   "mimetype": "text/x-python",
   "name": "python",
   "nbconvert_exporter": "python",
   "pygments_lexer": "ipython3",
   "version": "3.11.9"
  }
 },
 "nbformat": 4,
 "nbformat_minor": 5
}
