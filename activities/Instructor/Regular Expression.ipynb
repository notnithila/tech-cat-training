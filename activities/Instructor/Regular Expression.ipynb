{
 "cells": [
  {
   "cell_type": "markdown",
   "id": "4e945bd2",
   "metadata": {},
   "source": [
    "Lists all files and directories in the current working directory."
   ]
  },
  {
   "cell_type": "code",
   "execution_count": 2,
   "id": "58dd18ab",
   "metadata": {},
   "outputs": [
    {
     "name": "stdout",
     "output_type": "stream",
     "text": [
      "/workspaces/TechCatalyst_DE/activities/Instructor\n"
     ]
    }
   ],
   "source": [
    "!pwd"
   ]
  },
  {
   "cell_type": "code",
   "execution_count": 6,
   "id": "46158e64-0606-4730-8dd2-dba79c487e81",
   "metadata": {},
   "outputs": [
    {
     "name": "stdout",
     "output_type": "stream",
     "text": [
      " GREP\t\t\t     hello.txt\t   redacted_reviews.csv   states.csv\n",
      "'Regular Expression.ipynb'   product.csv   review.csv\t\t  test.csv\n"
     ]
    }
   ],
   "source": [
    "!ls "
   ]
  },
  {
   "cell_type": "markdown",
   "id": "ffcd966f",
   "metadata": {},
   "source": [
    "Displays the directory structure of the current directory in a tree-like format."
   ]
  },
  {
   "cell_type": "code",
   "execution_count": 7,
   "id": "91b5c0a1-9ff3-461c-9426-19e7045246b8",
   "metadata": {},
   "outputs": [
    {
     "name": "stdout",
     "output_type": "stream",
     "text": [
      "\u001b[01;34m.\u001b[00m\n",
      "├── \u001b[01;34mGREP\u001b[00m\n",
      "│   ├── hamlet.txt\n",
      "│   ├── linux_and_bash.ipynb\n",
      "│   └── poem\n",
      "├── Regular Expression.ipynb\n",
      "├── hello.txt\n",
      "├── product.csv\n",
      "├── redacted_reviews.csv\n",
      "├── review.csv\n",
      "├── states.csv\n",
      "└── test.csv\n",
      "\n",
      "1 directory, 10 files\n"
     ]
    }
   ],
   "source": [
    "!tree"
   ]
  },
  {
   "cell_type": "markdown",
   "id": "f7eda83e",
   "metadata": {},
   "source": [
    "Searches for the string \"battery\" in the file product.csv."
   ]
  },
  {
   "cell_type": "code",
   "execution_count": 10,
   "id": "2d389d0a-498a-4d71-8d06-4c9df31db8e5",
   "metadata": {},
   "outputs": [
    {
     "name": "stdout",
     "output_type": "stream",
     "text": [
      "3,Wireless noise-canceling headphones.,R5\n",
      "3,Wireless noise-canceling headphones.,R6\n"
     ]
    }
   ],
   "source": [
    "!grep \"headphones\" product.csv"
   ]
  },
  {
   "cell_type": "markdown",
   "id": "69d9684e",
   "metadata": {},
   "source": [
    "Searches for files with a .csv extension starting from the current directory."
   ]
  },
  {
   "cell_type": "code",
   "execution_count": 13,
   "id": "3a9ffacf",
   "metadata": {},
   "outputs": [
    {
     "name": "stdout",
     "output_type": "stream",
     "text": [
      "./states.csv\n",
      "./test.csv\n",
      "./redacted_reviews.csv\n",
      "./product.csv\n",
      "./review.csv\n"
     ]
    }
   ],
   "source": [
    "!find . -name \"*.csv\" "
   ]
  },
  {
   "cell_type": "markdown",
   "id": "1d4ee678",
   "metadata": {},
   "source": [
    "Searches for files with a .ipynb extension in the GREP directory."
   ]
  },
  {
   "cell_type": "code",
   "execution_count": 14,
   "id": "c5c015f2",
   "metadata": {},
   "outputs": [
    {
     "name": "stdout",
     "output_type": "stream",
     "text": [
      "GREP/linux_and_bash.ipynb\n"
     ]
    }
   ],
   "source": [
    "!find GREP/ -name \"*.ipynb\""
   ]
  },
  {
   "cell_type": "markdown",
   "id": "3b62640d",
   "metadata": {},
   "source": [
    "Searches for the word \"really\" in the file poem within the GREP directory."
   ]
  },
  {
   "cell_type": "code",
   "execution_count": 15,
   "id": "e310c4ba",
   "metadata": {},
   "outputs": [
    {
     "name": "stdout",
     "output_type": "stream",
     "text": [
      "Had worn them really about the same,\n"
     ]
    }
   ],
   "source": [
    "!grep \"really\" GREP/poem"
   ]
  },
  {
   "cell_type": "markdown",
   "id": "50ebd37e",
   "metadata": {},
   "source": [
    "Searches for .txt files in the GREP directory and executes grep to search for the word \"sick\" within those files."
   ]
  },
  {
   "cell_type": "code",
   "execution_count": 17,
   "id": "7a2a3f69",
   "metadata": {},
   "outputs": [
    {
     "name": "stdout",
     "output_type": "stream",
     "text": [
      "And I am sick at heart.\n",
      "Was sick almost to doomsday with eclipse:\n",
      "That so his sickness, age and impotence\n",
      "Is sicklied o'er with the pale cast of thought,\n",
      "But, woe is me, you are so sick of late,\n",
      "This physic but prolongs thy sickly days.\n",
      "Is thought-sick at the act.\n",
      "Or but a sickly part of one true sense\n",
      "To my sick soul, as sin's true nature is,\n",
      "It warms the very sickness in my heart,\n"
     ]
    }
   ],
   "source": [
    "! find GREP/ -name \"*.txt\" -exec grep \"sick\" {} +"
   ]
  },
  {
   "cell_type": "markdown",
   "id": "c6abac8f",
   "metadata": {},
   "source": [
    "Searches for the pattern b.y in the file review.csv (dot matches any single character)."
   ]
  },
  {
   "cell_type": "code",
   "execution_count": 19,
   "id": "61416613",
   "metadata": {},
   "outputs": [],
   "source": [
    "!grep \"s.y\" review.csv"
   ]
  },
  {
   "cell_type": "markdown",
   "id": "bc271388",
   "metadata": {},
   "source": [
    "Searches for the pattern b?y in the file review.csv (? makes the preceding character optional)."
   ]
  },
  {
   "cell_type": "code",
   "execution_count": 20,
   "id": "47318246",
   "metadata": {},
   "outputs": [],
   "source": [
    "!grep \"b?y\" review.csv"
   ]
  },
  {
   "cell_type": "markdown",
   "id": "0464ab91",
   "metadata": {},
   "source": [
    "Searches for the pattern b*y in the file review.csv (* matches zero or more occurrences of the preceding character)."
   ]
  },
  {
   "cell_type": "code",
   "execution_count": 21,
   "id": "88c4e0c7",
   "metadata": {},
   "outputs": [
    {
     "name": "stdout",
     "output_type": "stream",
     "text": [
      "R1,\"Great camera quality, but battery life could be better.\"\n",
      "R2,Very satisfied with this smartphone. Worth every penny.\n",
      "R3,Excellent performance and battery life. Highly recommend.\n",
      "R4,Disappointed with the build quality. Feels cheap.\n",
      "R5,Fantastic noise cancellation and sound quality.\n",
      "R8,Love the design and functionality. Would buy again.\n",
      "R9,Sound quality is amazing for its size.\n",
      "R10,Battery life is too short for outdoor use.\n",
      "R11,Crisp and clear display. Perfect for gaming.\n",
      "R16,Image quality is poor in low light conditions.\n",
      "R17,Very comfortable and responsive keys.\n",
      "R18,Keys started sticking after a week of use.\n",
      "R19,Charges multiple devices quickly.\n"
     ]
    }
   ],
   "source": [
    "!grep \"b*y\" review.csv"
   ]
  },
  {
   "cell_type": "markdown",
   "id": "8e8f9cee",
   "metadata": {},
   "source": [
    "Searches for the word \"BATTERY\" in the file review.csv."
   ]
  },
  {
   "cell_type": "code",
   "execution_count": 27,
   "id": "b98a1ecd",
   "metadata": {},
   "outputs": [],
   "source": [
    "!grep \"HEADPHONES\" product.csv"
   ]
  },
  {
   "cell_type": "markdown",
   "id": "ec79b9ad",
   "metadata": {},
   "source": [
    "Searches for the word \"battery\" in any case (case insensitive) in the file review.csv."
   ]
  },
  {
   "cell_type": "code",
   "execution_count": 26,
   "id": "6019061e",
   "metadata": {},
   "outputs": [
    {
     "name": "stdout",
     "output_type": "stream",
     "text": [
      "3,Wireless noise-canceling headphones.,R5\n",
      "3,Wireless noise-canceling headphones.,R6\n"
     ]
    }
   ],
   "source": [
    "!grep -i \"HEADPHONES\" product.csv"
   ]
  },
  {
   "cell_type": "markdown",
   "id": "ab9106bb",
   "metadata": {},
   "source": [
    "Searches for the word \"battery\" in any case and displays line numbers in the file review.csv."
   ]
  },
  {
   "cell_type": "code",
   "execution_count": 28,
   "id": "7654a2ce",
   "metadata": {},
   "outputs": [
    {
     "name": "stdout",
     "output_type": "stream",
     "text": [
      "6:3,Wireless noise-canceling headphones.,R5\n",
      "7:3,Wireless noise-canceling headphones.,R6\n"
     ]
    }
   ],
   "source": [
    "!grep -n -i \"HEADPHONES\" product.csv"
   ]
  },
  {
   "cell_type": "markdown",
   "id": "9e468c0b",
   "metadata": {},
   "source": [
    "Searches for lines that do not contain the word \"battery\" in any case and displays line numbers in the file review.csv."
   ]
  },
  {
   "cell_type": "code",
   "execution_count": 34,
   "id": "90998868",
   "metadata": {},
   "outputs": [
    {
     "name": "stdout",
     "output_type": "stream",
     "text": [
      "1:PRODUCT ID,PRODUCT DESCRIPTION,REVIEW ID\n",
      "2:1,High-quality smartphone with excellent camera.,R1\n",
      "3:1,High-quality smartphone with excellent camera.,R2\n",
      "4:2,Durable laptop with long BATTERY life.,R3\n",
      "5:2,Durable laptop with long BATTERY life.,R4\n",
      "8:4,Smartwatch with various health tracking features.,R7\n",
      "9:4,Smartwatch with various health tracking features.,R8\n",
      "10:5,Portable Bluetooth speaker with rich sound.,R9\n",
      "11:5,Portable Bluetooth speaker with rich sound.,R10\n",
      "12:6,High-resolution monitor with wide viewing angles.,R11\n",
      "13:6,High-resolution monitor with wide viewing angles.,R12\n",
      "14:7,Fast and reliable external hard drive.,R13\n",
      "15:7,Fast and reliable external hard drive.,R14\n",
      "16:8,Compact digital camera with 4K video recording.,R15\n",
      "17:8,Compact digital camera with 4K video recording.,R16\n",
      "18:9,Ergonomic mechanical keyboard.,R17\n",
      "19:9,Ergonomic mechanical keyboard.,R18\n",
      "20:10,Versatile multi-port USB charger.,R19\n",
      "21:10,Versatile multi-port USB charger.,R20\n"
     ]
    }
   ],
   "source": [
    "!grep -n -i -v \"HEAD\" product.csv"
   ]
  },
  {
   "cell_type": "markdown",
   "id": "64eebda7",
   "metadata": {},
   "source": [
    "Searches for the word \"to\" in any case and displays line numbers in the file review.csv."
   ]
  },
  {
   "cell_type": "code",
   "execution_count": 30,
   "id": "f337d0b5",
   "metadata": {},
   "outputs": [
    {
     "name": "stdout",
     "output_type": "stream",
     "text": [
      "7:R6,Not comfortable to wear for long periods.\n",
      "8:R7,Great health tracking features but too expensive.\n",
      "11:R10,Battery life is too short for outdoor use.\n",
      "15:R14,Stopped working after a month of use.\n"
     ]
    }
   ],
   "source": [
    "!grep -n -i \"to\" review.csv"
   ]
  },
  {
   "cell_type": "markdown",
   "id": "d0f90732",
   "metadata": {},
   "source": [
    "Searches for the exact word \"to\" in any case and displays line numbers in the file review.csv."
   ]
  },
  {
   "cell_type": "code",
   "execution_count": 36,
   "id": "f39ff1f1",
   "metadata": {},
   "outputs": [
    {
     "name": "stdout",
     "output_type": "stream",
     "text": [
      "Usage: grep [OPTION]... PATTERNS [FILE]...\n",
      "Search for PATTERNS in each FILE.\n",
      "Example: grep -i 'hello world' menu.h main.c\n",
      "PATTERNS can contain multiple patterns separated by newlines.\n",
      "\n",
      "Pattern selection and interpretation:\n",
      "  -E, --extended-regexp     PATTERNS are extended regular expressions\n",
      "  -F, --fixed-strings       PATTERNS are strings\n",
      "  -G, --basic-regexp        PATTERNS are basic regular expressions\n",
      "  -P, --perl-regexp         PATTERNS are Perl regular expressions\n",
      "  -e, --regexp=PATTERNS     use PATTERNS for matching\n",
      "  -f, --file=FILE           take PATTERNS from FILE\n",
      "  -i, --ignore-case         ignore case distinctions in patterns and data\n",
      "      --no-ignore-case      do not ignore case distinctions (default)\n",
      "  -w, --word-regexp         match only whole words\n",
      "  -x, --line-regexp         match only whole lines\n",
      "  -z, --null-data           a data line ends in 0 byte, not newline\n",
      "\n",
      "Miscellaneous:\n",
      "  -s, --no-messages         suppress error messages\n",
      "  -v, --invert-match        select non-matching lines\n",
      "  -V, --version             display version information and exit\n",
      "      --help                display this help text and exit\n",
      "\n",
      "Output control:\n",
      "  -m, --max-count=NUM       stop after NUM selected lines\n",
      "  -b, --byte-offset         print the byte offset with output lines\n",
      "  -n, --line-number         print line number with output lines\n",
      "      --line-buffered       flush output on every line\n",
      "  -H, --with-filename       print file name with output lines\n",
      "  -h, --no-filename         suppress the file name prefix on output\n",
      "      --label=LABEL         use LABEL as the standard input file name prefix\n",
      "  -o, --only-matching       show only nonempty parts of lines that match\n",
      "  -q, --quiet, --silent     suppress all normal output\n",
      "      --binary-files=TYPE   assume that binary files are TYPE;\n",
      "                            TYPE is 'binary', 'text', or 'without-match'\n",
      "  -a, --text                equivalent to --binary-files=text\n",
      "  -I                        equivalent to --binary-files=without-match\n",
      "  -d, --directories=ACTION  how to handle directories;\n",
      "                            ACTION is 'read', 'recurse', or 'skip'\n",
      "  -D, --devices=ACTION      how to handle devices, FIFOs and sockets;\n",
      "                            ACTION is 'read' or 'skip'\n",
      "  -r, --recursive           like --directories=recurse\n",
      "  -R, --dereference-recursive  likewise, but follow all symlinks\n",
      "      --include=GLOB        search only files that match GLOB (a file pattern)\n",
      "      --exclude=GLOB        skip files that match GLOB\n",
      "      --exclude-from=FILE   skip files that match any file pattern from FILE\n",
      "      --exclude-dir=GLOB    skip directories that match GLOB\n",
      "  -L, --files-without-match  print only names of FILEs with no selected lines\n",
      "  -l, --files-with-matches  print only names of FILEs with selected lines\n",
      "  -c, --count               print only a count of selected lines per FILE\n",
      "  -T, --initial-tab         make tabs line up (if needed)\n",
      "  -Z, --null                print 0 byte after FILE name\n",
      "\n",
      "Context control:\n",
      "  -B, --before-context=NUM  print NUM lines of leading context\n",
      "  -A, --after-context=NUM   print NUM lines of trailing context\n",
      "  -C, --context=NUM         print NUM lines of output context\n",
      "  -NUM                      same as --context=NUM\n",
      "      --color[=WHEN],\n",
      "      --colour[=WHEN]       use markers to highlight the matching strings;\n",
      "                            WHEN is 'always', 'never', or 'auto'\n",
      "  -U, --binary              do not strip CR characters at EOL (MSDOS/Windows)\n",
      "\n",
      "When FILE is '-', read standard input.  With no FILE, read '.' if\n",
      "recursive, '-' otherwise.  With fewer than two FILEs, assume -h.\n",
      "Exit status is 0 if any line (or file if -L) is selected, 1 otherwise;\n",
      "if any error occurs and -q is not given, the exit status is 2.\n",
      "\n",
      "Report bugs to: bug-grep@gnu.org\n",
      "GNU grep home page: <http://www.gnu.org/software/grep/>\n",
      "General help using GNU software: <https://www.gnu.org/gethelp/>\n"
     ]
    }
   ],
   "source": [
    "!grep --help"
   ]
  },
  {
   "cell_type": "code",
   "execution_count": 33,
   "id": "a6376d51",
   "metadata": {},
   "outputs": [
    {
     "name": "stdout",
     "output_type": "stream",
     "text": [
      "7:R6,Not comfortable to wear for long periods.\n"
     ]
    }
   ],
   "source": [
    "!grep -n -i -w \"to\" review.csv"
   ]
  },
  {
   "cell_type": "code",
   "execution_count": 35,
   "id": "11378c5d",
   "metadata": {},
   "outputs": [
    {
     "name": "stdout",
     "output_type": "stream",
     "text": [
      "7:R6,Not comfortable to wear for long periods.\n"
     ]
    }
   ],
   "source": [
    "!grep -niw \"to\" review.csv"
   ]
  },
  {
   "cell_type": "markdown",
   "id": "d76b07f7",
   "metadata": {},
   "source": [
    "Counts the number of lines that contain the word \"battery\" in any case in the file review.csv."
   ]
  },
  {
   "cell_type": "code",
   "execution_count": 42,
   "id": "393ce6e1",
   "metadata": {},
   "outputs": [
    {
     "name": "stdout",
     "output_type": "stream",
     "text": [
      "1\n"
     ]
    }
   ],
   "source": [
    "!grep -c -i -w \"to\" review.csv\n"
   ]
  },
  {
   "cell_type": "markdown",
   "id": "dddc44bb",
   "metadata": {},
   "source": [
    "Searches for the word \"battery\" in any case and displays only the matching parts of each line in the file review.csv."
   ]
  },
  {
   "cell_type": "code",
   "execution_count": 45,
   "id": "82324e50",
   "metadata": {},
   "outputs": [
    {
     "name": "stdout",
     "output_type": "stream",
     "text": [
      "10\n"
     ]
    }
   ],
   "source": [
    "!grep -i -o -c \"sick\" GREP/hamlet.txt"
   ]
  },
  {
   "cell_type": "code",
   "execution_count": 49,
   "id": "ab8851b7",
   "metadata": {},
   "outputs": [
    {
     "name": "stdout",
     "output_type": "stream",
     "text": [
      "26:And I am sick at heart.\n",
      "200:Was sick almost to doomsday with eclipse:\n",
      "1514:That so his sickness, age and impotence\n",
      "2368:Is sicklied o'er with the pale cast of thought,\n",
      "2753:But, woe is me, you are so sick of late,\n",
      "3212:This physic but prolongs thy sickly days.\n",
      "3316:Is thought-sick at the act.\n",
      "3348:Or but a sickly part of one true sense\n",
      "3892:To my sick soul, as sin's true nature is,\n",
      "4328:It warms the very sickness in my heart,\n"
     ]
    }
   ],
   "source": [
    "!grep -i -n \"sick\" GREP/hamlet.txt"
   ]
  },
  {
   "cell_type": "markdown",
   "id": "921b17f6",
   "metadata": {},
   "source": [
    "Searches for lines containing any digit in the file test.csv."
   ]
  },
  {
   "cell_type": "code",
   "execution_count": 54,
   "id": "6accb065",
   "metadata": {},
   "outputs": [
    {
     "name": "stdout",
     "output_type": "stream",
     "text": [
      "Carlos,7\n",
      "Praful,4\n",
      "Shilpa,2\n",
      "Ha-yoon,9\n",
      "Elizabeth,8\n",
      "Mary,1\n",
      "Roger,2\n",
      "Jack,7\n",
      "Francisco,5\n"
     ]
    }
   ],
   "source": [
    "!grep -w  \"[0-9]\" test.csv"
   ]
  },
  {
   "cell_type": "markdown",
   "id": "39309739",
   "metadata": {},
   "source": [
    "Searches for the word \"FRANCISCO\" in the file hamlet.txt and pipes the output to wc -l to count the number of matches."
   ]
  },
  {
   "cell_type": "code",
   "execution_count": 56,
   "id": "98b56cb2",
   "metadata": {},
   "outputs": [
    {
     "name": "stdout",
     "output_type": "stream",
     "text": [
      "9\n"
     ]
    }
   ],
   "source": [
    "!grep -o \"FRANCISCO\" GREP/hamlet.txt | wc -l"
   ]
  },
  {
   "cell_type": "code",
   "execution_count": 57,
   "id": "55643d15",
   "metadata": {},
   "outputs": [
    {
     "name": "stdout",
     "output_type": "stream",
     "text": [
      "9\n"
     ]
    }
   ],
   "source": [
    "!grep -o -c \"FRANCISCO\" GREP/hamlet.txt"
   ]
  },
  {
   "cell_type": "markdown",
   "id": "de499d9a",
   "metadata": {},
   "source": [
    "Searches for the word \"FRANCISCO\" in any case in the file hamlet.txt and pipes the output to wc -l to count the number of matches."
   ]
  },
  {
   "cell_type": "code",
   "execution_count": null,
   "id": "ce4b0ffb",
   "metadata": {},
   "outputs": [],
   "source": [
    "!grep -io \"FRANCISCO\" GREP/hamlet.txt | wc -l"
   ]
  },
  {
   "cell_type": "markdown",
   "id": "cf2a8326",
   "metadata": {},
   "source": [
    "Searches for the exact word \"to\" in any case and displays line numbers in the file review.csv."
   ]
  },
  {
   "cell_type": "code",
   "execution_count": 58,
   "id": "88d64c2f",
   "metadata": {},
   "outputs": [
    {
     "name": "stdout",
     "output_type": "stream",
     "text": [
      "7:R6,Not comfortable to wear for long periods.\n"
     ]
    }
   ],
   "source": [
    "!grep -niw \"to\" review.csv"
   ]
  },
  {
   "cell_type": "markdown",
   "id": "03825788",
   "metadata": {},
   "source": [
    "Recursively searches for the word \"FRANCISCO\" starting from the current directory."
   ]
  },
  {
   "cell_type": "code",
   "execution_count": 63,
   "id": "4809e2b1",
   "metadata": {},
   "outputs": [
    {
     "name": "stdout",
     "output_type": "stream",
     "text": [
      "../../activities/Instructor/Regular Expression.ipynb:    \"Searches for .txt files in the GREP directory and executes grep to search for the word \\\"sick\\\" within those files.\"\n",
      "../../activities/Instructor/Regular Expression.ipynb:      \"And I am sick at heart.\\n\",\n",
      "../../activities/Instructor/Regular Expression.ipynb:      \"Was sick almost to doomsday with eclipse:\\n\",\n",
      "../../activities/Instructor/Regular Expression.ipynb:      \"That so his sickness, age and impotence\\n\",\n",
      "../../activities/Instructor/Regular Expression.ipynb:      \"Is sicklied o'er with the pale cast of thought,\\n\",\n",
      "../../activities/Instructor/Regular Expression.ipynb:      \"But, woe is me, you are so sick of late,\\n\",\n",
      "../../activities/Instructor/Regular Expression.ipynb:      \"This physic but prolongs thy sickly days.\\n\",\n",
      "../../activities/Instructor/Regular Expression.ipynb:      \"Is thought-sick at the act.\\n\",\n",
      "../../activities/Instructor/Regular Expression.ipynb:      \"Or but a sickly part of one true sense\\n\",\n",
      "../../activities/Instructor/Regular Expression.ipynb:      \"To my sick soul, as sin's true nature is,\\n\",\n",
      "../../activities/Instructor/Regular Expression.ipynb:      \"It warms the very sickness in my heart,\\n\"\n",
      "../../activities/Instructor/Regular Expression.ipynb:    \"! find GREP/ -name \\\"*.txt\\\" -exec grep \\\"sick\\\" {} +\"\n",
      "../../activities/Instructor/Regular Expression.ipynb:    \"!grep -i -o -c \\\"sick\\\" GREP/hamlet.txt\"\n",
      "../../activities/Instructor/Regular Expression.ipynb:      \"26:And I am sick at heart.\\n\",\n",
      "../../activities/Instructor/Regular Expression.ipynb:      \"200:Was sick almost to doomsday with eclipse:\\n\",\n",
      "../../activities/Instructor/Regular Expression.ipynb:      \"1514:That so his sickness, age and impotence\\n\",\n",
      "../../activities/Instructor/Regular Expression.ipynb:      \"2368:Is sicklied o'er with the pale cast of thought,\\n\",\n",
      "../../activities/Instructor/Regular Expression.ipynb:      \"2753:But, woe is me, you are so sick of late,\\n\",\n",
      "../../activities/Instructor/Regular Expression.ipynb:      \"3212:This physic but prolongs thy sickly days.\\n\",\n",
      "../../activities/Instructor/Regular Expression.ipynb:      \"3316:Is thought-sick at the act.\\n\",\n",
      "../../activities/Instructor/Regular Expression.ipynb:      \"3348:Or but a sickly part of one true sense\\n\",\n",
      "../../activities/Instructor/Regular Expression.ipynb:      \"3892:To my sick soul, as sin's true nature is,\\n\",\n",
      "../../activities/Instructor/Regular Expression.ipynb:      \"4328:It warms the very sickness in my heart,\\n\"\n",
      "../../activities/Instructor/Regular Expression.ipynb:    \"!grep -i -n \\\"sick\\\" GREP/hamlet.txt\"\n",
      "../../activities/Instructor/Regular Expression.ipynb:    \"!grep -r \\\"sick\\\" ../../\"\n",
      "../../activities/Instructor/Regular Expression.ipynb:    \"!find GREP/ -name \\\"*.txt\\\" -exec grep \\\"sick\\\" {} +\\n\"\n",
      "../../activities/Instructor/GREP/hamlet.txt:And I am sick at heart.\n",
      "../../activities/Instructor/GREP/hamlet.txt:Was sick almost to doomsday with eclipse:\n",
      "../../activities/Instructor/GREP/hamlet.txt:That so his sickness, age and impotence\n",
      "../../activities/Instructor/GREP/hamlet.txt:Is sicklied o'er with the pale cast of thought,\n",
      "../../activities/Instructor/GREP/hamlet.txt:But, woe is me, you are so sick of late,\n",
      "../../activities/Instructor/GREP/hamlet.txt:This physic but prolongs thy sickly days.\n",
      "../../activities/Instructor/GREP/hamlet.txt:Is thought-sick at the act.\n",
      "../../activities/Instructor/GREP/hamlet.txt:Or but a sickly part of one true sense\n",
      "../../activities/Instructor/GREP/hamlet.txt:To my sick soul, as sin's true nature is,\n",
      "../../activities/Instructor/GREP/hamlet.txt:It warms the very sickness in my heart,\n",
      "../../activities/wk2/Day 2/Pandas/Student Activities/05-Evr_PandasRecap/Unsolved/Resources/ufoSightings.csv:10/18/2002 21:30,memphis,in,us,unknown,5,5 seconds,Bright shooting object passes above clouds&#44 several people get sick the nest day,10/28/2002,38.4833333,-85.7616667\n",
      "../../activities/wk2/Day 2/Pandas/Student Activities/05-Evr_PandasRecap/Unsolved/Resources/ufoSightings.csv:11/18/2011 0:30,brandon,fl,us,other,5,approx 5 seconds,I saw a glowing&#44 boomerang/sickle shaped object in the sky over Brandon,12/12/2011,27.9375,-82.2861111\n",
      "../../activities/wk2/Day 2/Pandas/Student Activities/05-Evr_PandasRecap/Unsolved/Resources/ufoSightings.csv:1/12/2006 5:54,sicklerville,nj,us,light,120,2 min.,Very bright light or lights in close proximity seemed to hover over South Jersey in the Sicklerville area.,2/14/2006,39.7172222,-74.9697222\n",
      "../../activities/wk2/Day 2/Pandas/Student Activities/05-Evr_PandasRecap/Unsolved/Resources/ufoSightings.csv:2/2/2013 0:00,sicklerville,nj,us,light,300,5 minutes,Large orange lights in formation over south jersey.,11/11/2013,39.7172222,-74.9697222\n",
      "../../activities/wk2/Day 2/Pandas/Student Activities/05-Evr_PandasRecap/Unsolved/Resources/ufoSightings.csv:4/20/2008 22:00,cape coral,fl,us,disk,3600,1 hour,A small gray saucer on golf course&#44  they where pulling at me they wanted me to go with them I got very sick from attack  n,10/30/2012,26.5625,-81.9497222\n",
      "../../activities/wk2/Day 2/Pandas/Student Activities/05-Evr_PandasRecap/Unsolved/Resources/ufoSightings.csv:4/27/2013 21:45,sicklerville,nj,us,light,300,5 minutes,Red lights and grey objects floating in and across the sky after disappearing.,5/15/2013,39.7172222,-74.9697222\n",
      "../../activities/wk2/Day 2/Pandas/Student Activities/05-Evr_PandasRecap/Unsolved/Resources/ufoSightings.csv:4/9/2005 21:33,sicklerville,nj,us,triangle,120,2 min,I noticed in the sky this Triangle  Yellow Light moving slowly around a little forest that we have between our complex (Asten Woods),4/16/2005,39.7172222,-74.9697222\n",
      "../../activities/wk2/Day 2/Pandas/Student Activities/05-Evr_PandasRecap/Unsolved/Resources/ufoSightings.csv:5/19/2012 22:00,sicklerville,nj,us,other,180,3 minutes,((HOAX??))  Two flying green human looking objects  with a slender looking female body&#44 with butterfly wings arms and leggs.,5/29/2012,39.7172222,-74.9697222\n",
      "../../activities/wk2/Day 2/Pandas/Student Activities/05-Evr_PandasRecap/Unsolved/Resources/ufoSightings.csv:5/5/1992 4:00,orlando,fl,us,,300,5 minutes,Back in 1992 I was workin at a dining facility on the Naval Base in Orlando&#44 Florida. One morning&#44 I had to call in sick but because I,11/8/2003,28.5380556,-81.3794444\n",
      "../../activities/wk2/Day 2/Pandas/Student Activities/05-Evr_PandasRecap/Unsolved/Resources/ufoSightings.csv:6/11/2007 3:00,oxford,ny,us,circle,30,20-30 seconds,I was sleeping in the downstairs guestroom of our farmhouse since my husband was sick in our bedroom upstairs. In a partial sleep&#44 I he,10/31/2008,42.4419444,-75.5980556\n",
      "../../activities/wk2/Day 2/Pandas/Student Activities/05-Evr_PandasRecap/Unsolved/Resources/ufoSightings.csv:6/23/2012 23:00,hoosick,ny,us,light,3600,1 hour,Bright star like object moving across the sky&#44 then fading and disappearing.,7/4/2012,42.8625,-73.3286111\n",
      "../../activities/wk2/Day 2/Pandas/Student Activities/05-Evr_PandasRecap/Unsolved/Resources/ufoSightings.csv:6/6/2001 12:30,cusick,wa,us,cigar,3000,45 to 50 minutes,I was walking in a field when at my three o&#39clock I saw a UFO.,8/5/2001,48.3375,-117.2961111\n",
      "../../activities/wk2/Day 2/Pandas/Student Activities/05-Evr_PandasRecap/Unsolved/Resources/ufoSightings.csv:7/18/2010 22:00,sicklerville,nj,us,light,3600,1 hour,flashing lights swirling in the night.  ((NUFORC Note:  From witness #2.  Possible sighting of Venus??  PD)),7/19/2010,39.7172222,-74.9697222\n",
      "../../activities/wk2/Day 2/Pandas/Student Activities/05-Evr_PandasRecap/Unsolved/Resources/ufoSightings.csv:7/18/2010 22:00,sicklerville,nj,us,light,3600,1 hour,Flashing lights swirling in the night.  ((NUFORC Note:  Venus in the western sky??  Date is flawed.  Possible hoax.  PD)),7/19/2010,39.7172222,-74.9697222\n",
      "../../activities/wk2/Day 2/Pandas/Student Activities/05-Evr_PandasRecap/Unsolved/Resources/ufoSightings.csv:7/21/2006 16:00,middletown,oh,us,other,30,20-30 seconds,I saw two black objects  --a large bug shape and a sickle looking shape  parade across the sky one cloudy afternoon.,10/30/2006,39.515,-84.3983333\n",
      "../../activities/wk2/Day 2/Pandas/Student Activities/05-Evr_PandasRecap/Unsolved/Resources/ufoSightings.csv:7/30/2012 1:00,sicklerville,nj,us,flash,30,30 seconds,Bright white lights flashing then faded away with an orange glow,10/30/2012,39.7172222,-74.9697222\n",
      "../../activities/wk2/Day 2/Pandas/Student Activities/05-Evr_PandasRecap/Unsolved/Resources/ufoSightings.csv:8/11/2013 23:30,sicklerville,nj,us,diamond,10,10 seconds,First time I ever witnesed something like that.,8/30/2013,39.7172222,-74.9697222\n",
      "../../activities/wk2/Day 2/Pandas/Student Activities/05-Evr_PandasRecap/Unsolved/Resources/ufoSightings.csv:8/19/2007 19:45,vacaville,ca,us,changing,120,2 minutes,Bright white kite shaped light morphs into sickle shape as it turns before flattening out over Vacaville Hills on Aug. 19&#44 7:45pm.,10/8/2007,38.3566667,-121.9866667\n",
      "../../activities/wk2/Day 2/Pandas/Student Activities/05-Evr_PandasRecap/Unsolved/Resources/ufoSightings.csv:8/4/2012 21:30,sicklerville,nj,us,sphere,240,4 minutes,7 Red/White pulsating spheres moving in a line parallel to the ground apx. 4 minutes,8/19/2012,39.7172222,-74.9697222\n",
      "../../activities/wk2/Day 2/Pandas/Student Activities/05-Evr_PandasRecap/Unsolved/Resources/ufoSightings.csv:9/1/1979 22:00,sickles,ok,us,triangle,600,ten minutes,It followed behind us for three miles.  Appeared to be triangle shape with three lights.  Made no Sound.,4/16/2005,35.3627778,-98.4475\n",
      "../../activities/wk2/Day 2/Pandas/Student Activities/05-Evr_PandasRecap/Unsolved/Resources/ufoSightings.csv:9/18/2004 1:00,marion,mi,us,disk,60,1min,round shiny object overhead about 1000 ft and climbed in a stairstep manner like a homesick angel(very fast) and was gone,2/24/2005,44.1025,-85.1469444\n",
      "../../activities/wk2/Day 2/Pandas/Student Activities/05-Evr_PandasRecap/Unsolved/Resources/ufoSightings.csv:9/6/2013 1:23,sicklerville,nj,us,fireball,180,3 minutes,8 Formation fireballs with 2 distinct lights IN each one then a 9th that came later.,9/30/2013,39.7172222,-74.9697222\n",
      "../../activities/wk2/Day 2/Pandas/Student Activities/In Class/11-Stu_ComicBooksSummary/Unsolved/Resources/books_clean.csv:9781848564169,A sickness in the family,,\"Mina, Denise\",\"Fuso, Antonio [person] ; Mina, Denise [person]\",England,London,Titan,2010\n",
      "../../activities/wk2/Day 2/Pandas/Student Activities/In Class/11-Stu_ComicBooksSummary/Unsolved/Resources/books_clean.csv:9781401210816 ; 9781401228323,A sickness in the family,,\"Mina, Denise\",\"Fuso, Antonio [person] ; Robins, Clem, 1955- [person] ; Mina, Denise [person]\",United States of America,New York,DC Comics ; Vertigo Crime,2010\n",
      "../../activities/wk2/Day 2/Pandas/Student Activities/In Class/11-Stu_ComicBooksSummary/Unsolved/Resources/books_clean.csv:9781848564176,A sickness in the family,,\"Mina, Denise\",\"Fuso, Antonio [person] ; Robins, Clem, 1955- [person] ; Mina, Denise [person]\",England,London,Titan,2011\n",
      "../../activities/wk2/Day 2/Pandas/Student Activities/In Class/11-Stu_ComicBooksSummary/Unsolved/Resources/books_clean.csv:9780752891545 ; 9780752891552,Asterix and the Goths,Asterix and the golden sickle ; Asterix omnibus ; Asterix the Gaul,Goscinny,\"Uderzo [person] ; Goscinny, 1926-1977 [person]\",England,London,Orion,2007\n",
      "../../activities/wk2/Day 2/Pandas/Student Activities/In Class/11-Stu_ComicBooksSummary/Unsolved/Resources/books_clean.csv:9781444004236,Asterix and the Goths,Asterix and the golden sickle ; Asterix omnibus ; Asterix the Gaul,Goscinny,\"Uderzo [person] ; Goscinny, 1926-1977 [person]\",England,London,Orion,2011\n",
      "../../activities/wk2/Day 2/Pandas/Student Activities/In Class/11-Stu_ComicBooksSummary/Unsolved/Resources/books_clean.csv:9780752866123 ; 9780752866130,Asterix and the golden sickle,,Goscinny,\"Uderzo [person] ; Goscinny, 1926-1977 [person]\",England,London,Orion Media,2004\n",
      "../../activities/wk2/Day 2/Pandas/Student Activities/In Class/11-Stu_ComicBooksSummary/Unsolved/Resources/books_clean.csv:9780752891545 ; 9780752891552,Asterix and the golden sickle,Asterix and the Goths ; Asterix omnibus ; Asterix the Gaul,Goscinny,\"Uderzo [person] ; Goscinny, 1926-1977 [person]\",England,London,Orion,2007\n",
      "../../activities/wk2/Day 2/Pandas/Student Activities/In Class/11-Stu_ComicBooksSummary/Unsolved/Resources/books_clean.csv:9781444004236,Asterix and the golden sickle,Asterix and the Goths ; Asterix omnibus ; Asterix the Gaul,Goscinny,\"Uderzo [person] ; Goscinny, 1926-1977 [person]\",England,London,Orion,2011\n",
      "../../activities/wk2/Day 2/Pandas/Student Activities/In Class/11-Stu_ComicBooksSummary/Unsolved/Resources/books_clean.csv:9781444013092,Asterix and the golden sickle,Serpe d'or. English,Goscinny,\"Uderzo, artist [person] ; Goscinny, 1926-1977, author [person] ; Hockridge, Derek, translator [person] ; Bell, Anthea, translator [person]\",England,London,Orion,2014\n",
      "../../activities/wk2/Day 2/Pandas/Student Activities/In Class/11-Stu_ComicBooksSummary/Unsolved/Resources/books_clean.csv:9780752891545 ; 9780752891552,Asterix omnibus,Asterix and the Goths ; Asterix and the golden sickle ; Asterix the Gaul,Goscinny,\"Uderzo [person] ; Goscinny, 1926-1977 [person]\",England,London,Orion,2007\n",
      "../../activities/wk2/Day 2/Pandas/Student Activities/In Class/11-Stu_ComicBooksSummary/Unsolved/Resources/books_clean.csv:9781444004236,Asterix omnibus,Asterix and the Goths ; Asterix and the golden sickle ; Asterix the Gaul,Goscinny,\"Uderzo [person] ; Goscinny, 1926-1977 [person]\",England,London,Orion,2011\n",
      "../../activities/wk2/Day 2/Pandas/Student Activities/In Class/11-Stu_ComicBooksSummary/Unsolved/Resources/books_clean.csv:9780752891545 ; 9780752891552,Asterix the Gaul,Asterix and the Goths ; Asterix and the golden sickle ; Asterix omnibus,Goscinny,\"Uderzo [person] ; Goscinny, 1926-1977 [person]\",England,London,Orion,2007\n",
      "../../activities/wk2/Day 2/Pandas/Student Activities/In Class/11-Stu_ComicBooksSummary/Unsolved/Resources/books_clean.csv:9781444004236,Asterix the Gaul,Asterix and the Goths ; Asterix and the golden sickle ; Asterix omnibus,Goscinny,\"Uderzo [person] ; Goscinny, 1926-1977 [person]\",England,London,Orion,2011\n",
      "../../activities/wk2/Day 2/Pandas/Student Activities/In Class/11-Stu_ComicBooksSummary/Unsolved/Resources/books_clean.csv:9781932563801,\"Brenda Starr, reporter : the collected dailies and Sundays, 1940-1946\",,\"Messick, Dale\",\"Messick, Dale [person]\",United States of America,\"Neshannock, Pennsylvania\",Hermes Press,2012\n",
      "../../activities/wk2/Day 2/Pandas/Student Activities/In Class/11-Stu_ComicBooksSummary/Unsolved/Resources/books_clean.csv:9781859027608,Dysgu caru,Lovesick. Welsh,\"Waterhouse, Lynda\",\"Meek, Elin [person] ; Kent, John, 1937- [person] ; Waterhouse, Lynda [person]\",Wales,Llandysul,Gwasg Gomer,1999\n",
      "../../activities/wk2/Day 2/Pandas/Student Activities/In Class/11-Stu_ComicBooksSummary/Unsolved/Resources/books_clean.csv:9781434242259,Homesick witch,,\"O'Reilly, Sean\",\"O'Reilly, Sean, 1974-, author [person] ; Arcana Studio, illustrator [organisation]\",United States of America,\"Mankato, Minnesota\",Stone Arch,2013\n",
      "../../activities/wk2/Day 2/Pandas/Student Activities/In Class/11-Stu_ComicBooksSummary/Unsolved/Resources/books_clean.csv:9781406279917,Homesick witch,,\"O'Reilly, Sean\",\"O'Reilly, Sean, 1974-, author [person] ; Arcana Studio, artist [organisation]\",England,London,Raintree,2015\n",
      "../../activities/wk2/Day 2/Pandas/Student Activities/In Class/11-Stu_ComicBooksSummary/Unsolved/Resources/books_clean.csv:9781859027608,Lovesick. Welsh,Dysgu caru,\"Waterhouse, Lynda\",\"Meek, Elin [person] ; Kent, John, 1937- [person] ; Waterhouse, Lynda [person]\",Wales,Llandysul,Gwasg Gomer,1999\n",
      "../../activities/wk2/Day 2/Pandas/Student Activities/In Class/11-Stu_ComicBooksSummary/Unsolved/Resources/books_clean.csv:9781444013092,Serpe d'or. English,Asterix and the golden sickle,Goscinny,\"Uderzo, artist [person] ; Goscinny, 1926-1977, author [person] ; Hockridge, Derek, translator [person] ; Bell, Anthea, translator [person]\",England,London,Orion,2014\n",
      "../../activities/wk2/Day 2/Pandas/Student Activities/In Class/09-Stu_SearchForTheWorst/Unsolved/Resources/Soccer2018Data.csv:T. Rosický,36,Czech Republic,79,79,Sparta Praha,RM,78,54,64,76,75,78,62,54,75,64,76,77,71,77,66,78,62,54,75,64,76,77,71,77,66,71\n",
      "../../activities/wk2/Day 2/Pandas/Student Activities/In Class/09-Stu_SearchForTheWorst/Unsolved/Resources/Soccer2018Data.csv:K. Grosicki,29,Poland,76,76,Hull City,LW,74,46,54,75,69,74,54,46,69,54,75,75,74,76,58,74,54,46,69,54,75,75,74,76,58,74\n",
      "../../activities/wk2/Day 2/Pandas/Student Activities/In Class/09-Stu_SearchForTheWorst/Unsolved/Resources/Soccer2018Data.csv:I. Łasicki,22,Poland,59,66,Wisła Płock,CB,42,58,53,43,45,42,57,58,45,53,43,45,43,44,56,42,57,58,45,53,43,45,43,44,56,43\n",
      "../../activities/wk2/Day 2/Pandas/Student Activities/In Class/10-Stu_ComicBooksCSV/Unsolved/Resources/comic_books_expanded.csv:A sickness in the family,,15606832,Monograph,Language material ; Text,Volume,GBB087273,9781848564169,\"Mina, Denise\",,person,,\"Fuso, Antonio [person] ; Mina, Denise [person]\",,,England,London,Titan,2010,,\"1 volume, chiefly illustrations, 20 cm\",741.5,,\"Families--Scotland--Comic books, strips, etc--Fiction ; Witchcraft--Comic books, strips, etc--Fiction ; Death--Comic books, strips, etc--Fiction\",Comic or graphic novel ; Detective and mystery fiction ; Fiction,English,\n",
      "../../activities/wk2/Day 2/Pandas/Student Activities/In Class/10-Stu_ComicBooksCSV/Unsolved/Resources/comic_books_expanded.csv:A sickness in the family,,15687833,Monograph,Language material ; Text,Volume,GBB126999,9781401210816 ; 9781401228323,\"Mina, Denise\",,person,,\"Fuso, Antonio [person] ; Robins, Clem, 1955- [person] ; Mina, Denise [person]\",,,United States of America,New York,DC Comics ; Vertigo Crime,2010,,\"180 pages, chiefly illustrations, 21 cm\",741.5973,YK.2011.a.8826,\"Dysfunctional families--Comic books, strips, etc ; Death--Comic books, strips, etc ; Crime--Comic books, strips, etc\",Comic or graphic novel ; Novel,English,'Suggested for mature readers' -- p [4] of cover\n",
      "../../activities/wk2/Day 2/Pandas/Student Activities/In Class/10-Stu_ComicBooksCSV/Unsolved/Resources/comic_books_expanded.csv:A sickness in the family,,15865424,Monograph,Language material ; Text,Volume,GBB194938,9781848564176,\"Mina, Denise\",,person,,\"Fuso, Antonio [person] ; Robins, Clem, 1955- [person] ; Mina, Denise [person]\",,,England,London,Titan,2011,,\"1 volume, chiefly illustrations, 20 cm\",741.5,,\"Families--Scotland--Comic books, strips, etc--Fiction ; Witchcraft--Comic books, strips, etc--Fiction ; Death--Comic books, strips, etc--Fiction\",Comic or graphic novel ; Detective and mystery ; Fiction,English,Originally published: 2010\n",
      "../../activities/wk2/Day 2/Pandas/Student Activities/In Class/10-Stu_ComicBooksCSV/Unsolved/Resources/comic_books_expanded.csv:Asterix and the Goths,Asterix and the golden sickle ; Asterix omnibus ; Asterix the Gaul,13795324,Monograph,Language material ; Text,Volume,GBA755774,9780752891545 ; 9780752891552,Goscinny,1926-1977,person,,\"Uderzo [person] ; Goscinny, 1926-1977 [person]\",,,England,London,Orion,2007,,\"1 volume, chiefly colour illustrations, 29 cm\",741.5944,,\"Goscinny, 1926-1977--Translations into English ; Obelix (Fictitious character : Uderzo)--Comic books, strips, etc--Juvenile fiction ; Children's stories, French--Translations into English ; Astérix (Fictitious character)--Comic books, strips, etc--Juvenile fiction ; Graphic novels\",Children's fiction ; Comic or graphic novel ; Translations into English,English,\"books 1,2 & 3\"\n",
      "../../activities/wk2/Day 2/Pandas/Student Activities/In Class/10-Stu_ComicBooksCSV/Unsolved/Resources/comic_books_expanded.csv:Asterix and the Goths,Asterix and the golden sickle ; Asterix omnibus ; Asterix the Gaul,15781273,Monograph,Language material ; Text,Volume,GBB140936,9781444004236,Goscinny,1926-1977,person,,\"Uderzo [person] ; Goscinny, 1926-1977 [person]\",,,England,London,Orion,2011,,\"149 pages, chiefly colour illustrations, 29 cm\",741.5944,,\"Goscinny, 1926-1977--Translations into English ; Obelix (Fictitious character : Uderzo)--Comic books, strips, etc--Juvenile fiction ; Children's stories, French--Translations into English ; Astérix (Fictitious character)--Comic books, strips, etc--Juvenile fiction ; Graphic novels\",Children's fiction ; Comic or graphic novel ; Translations into English,English,\n",
      "../../activities/wk2/Day 2/Pandas/Student Activities/In Class/10-Stu_ComicBooksCSV/Unsolved/Resources/comic_books_expanded.csv:Asterix and the golden sickle,,6888947,Monograph,Language material ; Text,Volume,GBA4Z3122,9780752866123 ; 9780752866130,Goscinny,1926-1977,person,,\"Uderzo [person] ; Goscinny, 1926-1977 [person]\",,,England,London,Orion Media,2004,,\"48 pages, colour illustrations, colour map, 29 cm\",741.5,YK.2005.b.2883,\"Obelix (Fictitious character : Uderzo)--Comic books, strips, etc--Juvenile fiction ; Astérix (Fictitious character)--Comic books, strips, etc--Juvenile fiction\",Children's fiction ; Comic or graphic novel ; Novel,English,\"This translation originally published: London: Hodder & Stoughton, 1975\"\n",
      "../../activities/wk2/Day 2/Pandas/Student Activities/In Class/10-Stu_ComicBooksCSV/Unsolved/Resources/comic_books_expanded.csv:Asterix and the golden sickle,Asterix and the Goths ; Asterix omnibus ; Asterix the Gaul,13795324,Monograph,Language material ; Text,Volume,GBA755774,9780752891545 ; 9780752891552,Goscinny,1926-1977,person,,\"Uderzo [person] ; Goscinny, 1926-1977 [person]\",,,England,London,Orion,2007,,\"1 volume, chiefly colour illustrations, 29 cm\",741.5944,,\"Goscinny, 1926-1977--Translations into English ; Obelix (Fictitious character : Uderzo)--Comic books, strips, etc--Juvenile fiction ; Children's stories, French--Translations into English ; Astérix (Fictitious character)--Comic books, strips, etc--Juvenile fiction ; Graphic novels\",Children's fiction ; Comic or graphic novel ; Translations into English,English,\"books 1,2 & 3\"\n",
      "../../activities/wk2/Day 2/Pandas/Student Activities/In Class/10-Stu_ComicBooksCSV/Unsolved/Resources/comic_books_expanded.csv:Asterix and the golden sickle,Asterix and the Goths ; Asterix omnibus ; Asterix the Gaul,15781273,Monograph,Language material ; Text,Volume,GBB140936,9781444004236,Goscinny,1926-1977,person,,\"Uderzo [person] ; Goscinny, 1926-1977 [person]\",,,England,London,Orion,2011,,\"149 pages, chiefly colour illustrations, 29 cm\",741.5944,,\"Goscinny, 1926-1977--Translations into English ; Obelix (Fictitious character : Uderzo)--Comic books, strips, etc--Juvenile fiction ; Children's stories, French--Translations into English ; Astérix (Fictitious character)--Comic books, strips, etc--Juvenile fiction ; Graphic novels\",Children's fiction ; Comic or graphic novel ; Translations into English,English,\n",
      "../../activities/wk2/Day 2/Pandas/Student Activities/In Class/10-Stu_ComicBooksCSV/Unsolved/Resources/comic_books_expanded.csv:Asterix and the golden sickle,Serpe d'or. English,16662829,Monograph,Language material ; Text,Online resource (ebook),GBB435894,9781444013092,Goscinny,1926-1977,person,author,\"Uderzo, artist [person] ; Goscinny, 1926-1977, author [person] ; Hockridge, Derek, translator [person] ; Bell, Anthea, translator [person]\",Asterix,,England,London,Orion,2014,Revised edition,1 online resource,741.5,,\"Obelix (Fictitious character : Uderzo)--Comic books, strips, etc--Juvenile fiction ; Astérix (Fictitious character)--Comic books, strips, etc--Juvenile fiction\",Children's fiction ; Comic or graphic novel ; Novel,English,Additional physical form: Print version. 9780752866123 ; This edition previously issued in print: 2004 ; Translated from the French\n",
      "../../activities/wk2/Day 2/Pandas/Student Activities/In Class/10-Stu_ComicBooksCSV/Unsolved/Resources/comic_books_expanded.csv:Asterix omnibus,Asterix and the Goths ; Asterix and the golden sickle ; Asterix the Gaul,13795324,Monograph,Language material ; Text,Volume,GBA755774,9780752891545 ; 9780752891552,Goscinny,1926-1977,person,,\"Uderzo [person] ; Goscinny, 1926-1977 [person]\",,,England,London,Orion,2007,,\"1 volume, chiefly colour illustrations, 29 cm\",741.5944,,\"Goscinny, 1926-1977--Translations into English ; Obelix (Fictitious character : Uderzo)--Comic books, strips, etc--Juvenile fiction ; Children's stories, French--Translations into English ; Astérix (Fictitious character)--Comic books, strips, etc--Juvenile fiction ; Graphic novels\",Children's fiction ; Comic or graphic novel ; Translations into English,English,\"books 1,2 & 3\"\n",
      "../../activities/wk2/Day 2/Pandas/Student Activities/In Class/10-Stu_ComicBooksCSV/Unsolved/Resources/comic_books_expanded.csv:Asterix omnibus,Asterix and the Goths ; Asterix and the golden sickle ; Asterix the Gaul,15781273,Monograph,Language material ; Text,Volume,GBB140936,9781444004236,Goscinny,1926-1977,person,,\"Uderzo [person] ; Goscinny, 1926-1977 [person]\",,,England,London,Orion,2011,,\"149 pages, chiefly colour illustrations, 29 cm\",741.5944,,\"Goscinny, 1926-1977--Translations into English ; Obelix (Fictitious character : Uderzo)--Comic books, strips, etc--Juvenile fiction ; Children's stories, French--Translations into English ; Astérix (Fictitious character)--Comic books, strips, etc--Juvenile fiction ; Graphic novels\",Children's fiction ; Comic or graphic novel ; Translations into English,English,\n",
      "../../activities/wk2/Day 2/Pandas/Student Activities/In Class/10-Stu_ComicBooksCSV/Unsolved/Resources/comic_books_expanded.csv:Asterix the Gaul,Asterix and the Goths ; Asterix and the golden sickle ; Asterix omnibus,13795324,Monograph,Language material ; Text,Volume,GBA755774,9780752891545 ; 9780752891552,Goscinny,1926-1977,person,,\"Uderzo [person] ; Goscinny, 1926-1977 [person]\",,,England,London,Orion,2007,,\"1 volume, chiefly colour illustrations, 29 cm\",741.5944,,\"Goscinny, 1926-1977--Translations into English ; Obelix (Fictitious character : Uderzo)--Comic books, strips, etc--Juvenile fiction ; Children's stories, French--Translations into English ; Astérix (Fictitious character)--Comic books, strips, etc--Juvenile fiction ; Graphic novels\",Children's fiction ; Comic or graphic novel ; Translations into English,English,\"books 1,2 & 3\"\n",
      "../../activities/wk2/Day 2/Pandas/Student Activities/In Class/10-Stu_ComicBooksCSV/Unsolved/Resources/comic_books_expanded.csv:Asterix the Gaul,Asterix and the Goths ; Asterix and the golden sickle ; Asterix omnibus,15781273,Monograph,Language material ; Text,Volume,GBB140936,9781444004236,Goscinny,1926-1977,person,,\"Uderzo [person] ; Goscinny, 1926-1977 [person]\",,,England,London,Orion,2011,,\"149 pages, chiefly colour illustrations, 29 cm\",741.5944,,\"Goscinny, 1926-1977--Translations into English ; Obelix (Fictitious character : Uderzo)--Comic books, strips, etc--Juvenile fiction ; Children's stories, French--Translations into English ; Astérix (Fictitious character)--Comic books, strips, etc--Juvenile fiction ; Graphic novels\",Children's fiction ; Comic or graphic novel ; Translations into English,English,\n",
      "../../activities/wk2/Day 2/Pandas/Student Activities/In Class/10-Stu_ComicBooksCSV/Unsolved/Resources/comic_books_expanded.csv:\"Brenda Starr, reporter : the collected dailies and Sundays, 1940-1946\",,15753775,Monograph,Language material ; Text,Volume,GBB122064,9781932563801,\"Messick, Dale\",,person,,\"Messick, Dale [person]\",,,United States of America,\"Neshannock, Pennsylvania\",Hermes Press,2012,,\"205 pages, chiefly illustrations (some colour), 20 x 33 cm\",741.56973,LC.37.a.782,\"Comic books, strips, etc--United States\",Comic or graphic novel,English,\n",
      "../../activities/wk2/Day 2/Pandas/Student Activities/In Class/10-Stu_ComicBooksCSV/Unsolved/Resources/comic_books_expanded.csv:Dysgu caru,Lovesick. Welsh,7460003,Monograph,Language material ; Text,Volume,GB9946938,9781859027608,\"Waterhouse, Lynda\",,person,,\"Meek, Elin [person] ; Kent, John, 1937- [person] ; Waterhouse, Lynda [person]\",Graffics Gomer,,Wales,Llandysul,Gwasg Gomer,1999,,\"80 pages, illustrations, 20 cm\",741.5942,YK.2001.a.9595,\"Teachers--Comic books, strips, etc--Fiction ; Fathers and daughters--Comic books, strips, etc--Fiction\",Children's fiction ; Comic or graphic novel ; Fiction ; Novel,Welsh,\"Addasiad Cymraeg gan = Welsh adaptation by: Elin Meek ; Arg. Saesneg gwreiddiol = Original English edition: Llundain: A & C Black (Publishers), 1998\"\n",
      "../../activities/wk2/Day 2/Pandas/Student Activities/In Class/10-Stu_ComicBooksCSV/Unsolved/Resources/comic_books_expanded.csv:Homesick witch,,16489553,Monograph,Language material ; Still image ; Text,Volume,GBB379758,9781434242259,\"O'Reilly, Sean\",1974-,person,author,\"O'Reilly, Sean, 1974-, author [person] ; Arcana Studio, illustrator [organisation]\",Mighty Mighty Monsters,,United States of America,\"Mankato, Minnesota\",Stone Arch,2013,,\"1 volume, chiefly colour illustrations, 24 cm\",741.5,,\"Homesickness--Comic books, strips, etc--Juvenile fiction ; Witches--Comic books, strips, etc--Juvenile fiction ; Friendship--Comic books, strips, etc--Juvenile fiction ; Monsters--Comic books, strips, etc--Juvenile fiction\",Children's fiction ; Comic or graphic novel,English,\n",
      "../../activities/wk2/Day 2/Pandas/Student Activities/In Class/10-Stu_ComicBooksCSV/Unsolved/Resources/comic_books_expanded.csv:Homesick witch,,16855936,Monograph,Language material ; Still image ; Text,Volume,GBB493094,9781406279917,\"O'Reilly, Sean\",1974-,person,author,\"O'Reilly, Sean, 1974-, author [person] ; Arcana Studio, artist [organisation]\",Mighty Mighty Monsters,,England,London,Raintree,2015,,\"42 pages, chiefly colour illustrations, 23 cm\",741.5,YKL.2016.a.8673,\"Homesickness--Comic books, strips, etc--Juvenile fiction ; Witches--Comic books, strips, etc--Juvenile fiction ; Friendship--Comic books, strips, etc--Juvenile fiction ; Monsters--Comic books, strips, etc--Juvenile fiction\",Children's fiction ; Comic or graphic novel,English,\"Originally published: Mankato, Minnesota: Stone Arch, 2013\"\n",
      "../../activities/wk2/Day 2/Pandas/Student Activities/In Class/10-Stu_ComicBooksCSV/Unsolved/Resources/comic_books_expanded.csv:Lovesick. Welsh,Dysgu caru,7460003,Monograph,Language material ; Text,Volume,GB9946938,9781859027608,\"Waterhouse, Lynda\",,person,,\"Meek, Elin [person] ; Kent, John, 1937- [person] ; Waterhouse, Lynda [person]\",Graffics Gomer,,Wales,Llandysul,Gwasg Gomer,1999,,\"80 pages, illustrations, 20 cm\",741.5942,YK.2001.a.9595,\"Teachers--Comic books, strips, etc--Fiction ; Fathers and daughters--Comic books, strips, etc--Fiction\",Children's fiction ; Comic or graphic novel ; Fiction ; Novel,Welsh,\"Addasiad Cymraeg gan = Welsh adaptation by: Elin Meek ; Arg. Saesneg gwreiddiol = Original English edition: Llundain: A & C Black (Publishers), 1998\"\n",
      "../../activities/wk2/Day 2/Pandas/Student Activities/In Class/10-Stu_ComicBooksCSV/Unsolved/Resources/comic_books_expanded.csv:Serpe d'or. English,Asterix and the golden sickle,16662829,Monograph,Language material ; Text,Online resource (ebook),GBB435894,9781444013092,Goscinny,1926-1977,person,author,\"Uderzo, artist [person] ; Goscinny, 1926-1977, author [person] ; Hockridge, Derek, translator [person] ; Bell, Anthea, translator [person]\",Asterix,,England,London,Orion,2014,Revised edition,1 online resource,741.5,,\"Obelix (Fictitious character : Uderzo)--Comic books, strips, etc--Juvenile fiction ; Astérix (Fictitious character)--Comic books, strips, etc--Juvenile fiction\",Children's fiction ; Comic or graphic novel ; Novel,English,Additional physical form: Print version. 9780752866123 ; This edition previously issued in print: 2004 ; Translated from the French\n",
      "../../activities/wk2/Day 2/Pandas/Instructor Demos/06-Ins_GroupBy/Solved/Resources/ufoSightings.csv:10/18/2002 21:30,memphis,in,us,unknown,5,5 seconds,Bright shooting object passes above clouds&#44 several people get sick the nest day,10/28/2002,38.4833333,-85.7616667\n",
      "../../activities/wk2/Day 2/Pandas/Instructor Demos/06-Ins_GroupBy/Solved/Resources/ufoSightings.csv:11/18/2011 0:30,brandon,fl,us,other,5,approx 5 seconds,I saw a glowing&#44 boomerang/sickle shaped object in the sky over Brandon,12/12/2011,27.9375,-82.2861111\n",
      "../../activities/wk2/Day 2/Pandas/Instructor Demos/06-Ins_GroupBy/Solved/Resources/ufoSightings.csv:1/12/2006 5:54,sicklerville,nj,us,light,120,2 min.,Very bright light or lights in close proximity seemed to hover over South Jersey in the Sicklerville area.,2/14/2006,39.7172222,-74.9697222\n",
      "../../activities/wk2/Day 2/Pandas/Instructor Demos/06-Ins_GroupBy/Solved/Resources/ufoSightings.csv:2/2/2013 0:00,sicklerville,nj,us,light,300,5 minutes,Large orange lights in formation over south jersey.,11/11/2013,39.7172222,-74.9697222\n",
      "../../activities/wk2/Day 2/Pandas/Instructor Demos/06-Ins_GroupBy/Solved/Resources/ufoSightings.csv:4/20/2008 22:00,cape coral,fl,us,disk,3600,1 hour,A small gray saucer on golf course&#44  they where pulling at me they wanted me to go with them I got very sick from attack  n,10/30/2012,26.5625,-81.9497222\n",
      "../../activities/wk2/Day 2/Pandas/Instructor Demos/06-Ins_GroupBy/Solved/Resources/ufoSightings.csv:4/27/2013 21:45,sicklerville,nj,us,light,300,5 minutes,Red lights and grey objects floating in and across the sky after disappearing.,5/15/2013,39.7172222,-74.9697222\n",
      "../../activities/wk2/Day 2/Pandas/Instructor Demos/06-Ins_GroupBy/Solved/Resources/ufoSightings.csv:4/9/2005 21:33,sicklerville,nj,us,triangle,120,2 min,I noticed in the sky this Triangle  Yellow Light moving slowly around a little forest that we have between our complex (Asten Woods),4/16/2005,39.7172222,-74.9697222\n",
      "../../activities/wk2/Day 2/Pandas/Instructor Demos/06-Ins_GroupBy/Solved/Resources/ufoSightings.csv:5/19/2012 22:00,sicklerville,nj,us,other,180,3 minutes,((HOAX??))  Two flying green human looking objects  with a slender looking female body&#44 with butterfly wings arms and leggs.,5/29/2012,39.7172222,-74.9697222\n",
      "../../activities/wk2/Day 2/Pandas/Instructor Demos/06-Ins_GroupBy/Solved/Resources/ufoSightings.csv:5/5/1992 4:00,orlando,fl,us,,300,5 minutes,Back in 1992 I was workin at a dining facility on the Naval Base in Orlando&#44 Florida. One morning&#44 I had to call in sick but because I,11/8/2003,28.5380556,-81.3794444\n",
      "../../activities/wk2/Day 2/Pandas/Instructor Demos/06-Ins_GroupBy/Solved/Resources/ufoSightings.csv:6/11/2007 3:00,oxford,ny,us,circle,30,20-30 seconds,I was sleeping in the downstairs guestroom of our farmhouse since my husband was sick in our bedroom upstairs. In a partial sleep&#44 I he,10/31/2008,42.4419444,-75.5980556\n",
      "../../activities/wk2/Day 2/Pandas/Instructor Demos/06-Ins_GroupBy/Solved/Resources/ufoSightings.csv:6/23/2012 23:00,hoosick,ny,us,light,3600,1 hour,Bright star like object moving across the sky&#44 then fading and disappearing.,7/4/2012,42.8625,-73.3286111\n",
      "../../activities/wk2/Day 2/Pandas/Instructor Demos/06-Ins_GroupBy/Solved/Resources/ufoSightings.csv:6/6/2001 12:30,cusick,wa,us,cigar,3000,45 to 50 minutes,I was walking in a field when at my three o&#39clock I saw a UFO.,8/5/2001,48.3375,-117.2961111\n",
      "../../activities/wk2/Day 2/Pandas/Instructor Demos/06-Ins_GroupBy/Solved/Resources/ufoSightings.csv:7/18/2010 22:00,sicklerville,nj,us,light,3600,1 hour,flashing lights swirling in the night.  ((NUFORC Note:  From witness #2.  Possible sighting of Venus??  PD)),7/19/2010,39.7172222,-74.9697222\n",
      "../../activities/wk2/Day 2/Pandas/Instructor Demos/06-Ins_GroupBy/Solved/Resources/ufoSightings.csv:7/18/2010 22:00,sicklerville,nj,us,light,3600,1 hour,Flashing lights swirling in the night.  ((NUFORC Note:  Venus in the western sky??  Date is flawed.  Possible hoax.  PD)),7/19/2010,39.7172222,-74.9697222\n",
      "../../activities/wk2/Day 2/Pandas/Instructor Demos/06-Ins_GroupBy/Solved/Resources/ufoSightings.csv:7/21/2006 16:00,middletown,oh,us,other,30,20-30 seconds,I saw two black objects  --a large bug shape and a sickle looking shape  parade across the sky one cloudy afternoon.,10/30/2006,39.515,-84.3983333\n",
      "../../activities/wk2/Day 2/Pandas/Instructor Demos/06-Ins_GroupBy/Solved/Resources/ufoSightings.csv:7/30/2012 1:00,sicklerville,nj,us,flash,30,30 seconds,Bright white lights flashing then faded away with an orange glow,10/30/2012,39.7172222,-74.9697222\n",
      "../../activities/wk2/Day 2/Pandas/Instructor Demos/06-Ins_GroupBy/Solved/Resources/ufoSightings.csv:8/11/2013 23:30,sicklerville,nj,us,diamond,10,10 seconds,First time I ever witnesed something like that.,8/30/2013,39.7172222,-74.9697222\n",
      "../../activities/wk2/Day 2/Pandas/Instructor Demos/06-Ins_GroupBy/Solved/Resources/ufoSightings.csv:8/19/2007 19:45,vacaville,ca,us,changing,120,2 minutes,Bright white kite shaped light morphs into sickle shape as it turns before flattening out over Vacaville Hills on Aug. 19&#44 7:45pm.,10/8/2007,38.3566667,-121.9866667\n",
      "../../activities/wk2/Day 2/Pandas/Instructor Demos/06-Ins_GroupBy/Solved/Resources/ufoSightings.csv:8/4/2012 21:30,sicklerville,nj,us,sphere,240,4 minutes,7 Red/White pulsating spheres moving in a line parallel to the ground apx. 4 minutes,8/19/2012,39.7172222,-74.9697222\n",
      "../../activities/wk2/Day 2/Pandas/Instructor Demos/06-Ins_GroupBy/Solved/Resources/ufoSightings.csv:9/1/1979 22:00,sickles,ok,us,triangle,600,ten minutes,It followed behind us for three miles.  Appeared to be triangle shape with three lights.  Made no Sound.,4/16/2005,35.3627778,-98.4475\n",
      "../../activities/wk2/Day 2/Pandas/Instructor Demos/06-Ins_GroupBy/Solved/Resources/ufoSightings.csv:9/18/2004 1:00,marion,mi,us,disk,60,1min,round shiny object overhead about 1000 ft and climbed in a stairstep manner like a homesick angel(very fast) and was gone,2/24/2005,44.1025,-85.1469444\n",
      "../../activities/wk2/Day 2/Pandas/Instructor Demos/06-Ins_GroupBy/Solved/Resources/ufoSightings.csv:9/6/2013 1:23,sicklerville,nj,us,fireball,180,3 minutes,8 Formation fireballs with 2 distinct lights IN each one then a 9th that came later.,9/30/2013,39.7172222,-74.9697222\n",
      "../../activities/wk2/Day 1/Python/Solutions/11 Movie Recommender/Example Notebook using Pandas/clean_movie_data.csv:406,The Princess Bride,1987,98 min,8.0,\"['Adventure', ' Family', ' Fantasy']\",Rob Reiner,\"['Cary Elwes', ' Mandy Patinkin', ' Robin Wright', ' Chris Sarandon']\",\"While home sick in bed, a young boy's grandfather reads him the story of a farmboy-turned-pirate who encounters numerous obstacles, enemies and allies in his quest to be reunited with his true love.\"\n",
      "../../activities/wk2/Day 1/Python/Solutions/11 Movie Recommender/Example Notebook using Pandas/clean_movie_data.csv:842,Airplane!,1980,88 min,7.7,['Comedy'],Jim Abrahams,\"['David Zucker', ' Jerry Zucker', ' Robert Hays', ' Julie Hagerty']\",A man afraid to fly must ensure that a plane lands safely after the pilots become sick.\n",
      "Binary file ../../activities/wk2/Day 1/Python/Solutions/11 Movie Recommender/Example Solution /movie_nested_dict.pickle matches\n",
      "../../activities/wk2/Day 1/Python/Solutions/11 Movie Recommender/Example Solution /Dataset/imdb_top_1000.csv:\"https://m.media-amazon.com/images/M/MV5BMGM4M2Q5N2MtNThkZS00NTc1LTk1NTItNWEyZjJjNDRmNDk5XkEyXkFqcGdeQXVyMjA0MDQ0Mjc@._V1_UX67_CR0,0,67,98_AL_.jpg\",The Princess Bride,1987,U,98 min,\"Adventure, Family, Fantasy\",8,\"While home sick in bed, a young boy's grandfather reads him the story of a farmboy-turned-pirate who encounters numerous obstacles, enemies and allies in his quest to be reunited with his true love.\",77,Rob Reiner,Cary Elwes,Mandy Patinkin,Robin Wright,Chris Sarandon,393899,\"30,857,814\"\n",
      "../../activities/wk2/Day 1/Python/Solutions/11 Movie Recommender/Example Solution /Dataset/imdb_top_1000.csv:\"https://m.media-amazon.com/images/M/MV5BZjA3YjdhMWEtYjc2Ni00YzVlLWI0MTUtMGZmNTJjNmU0Yzk2XkEyXkFqcGdeQXVyNzkwMjQ5NzM@._V1_UX67_CR0,0,67,98_AL_.jpg\",Airplane!,1980,U,88 min,Comedy,7.7,A man afraid to fly must ensure that a plane lands safely after the pilots become sick.,78,Jim Abrahams,David Zucker,Jerry Zucker,Robert Hays,Julie Hagerty,214882,\"83,400,000\"\n",
      "Binary file ../../activities/wk2/Day 1/Python/Student Activities/11 Movie Recommender/movie_nested_dict.pickle matches\n",
      "../../activities/wk2/Day 3/Pandas/Student Activities/Bonus activities/05-Evr_PandasRecap/Unsolved/Resources/ufoSightings.csv:10/18/2002 21:30,memphis,in,us,unknown,5,5 seconds,Bright shooting object passes above clouds&#44 several people get sick the nest day,10/28/2002,38.4833333,-85.7616667\n",
      "../../activities/wk2/Day 3/Pandas/Student Activities/Bonus activities/05-Evr_PandasRecap/Unsolved/Resources/ufoSightings.csv:11/18/2011 0:30,brandon,fl,us,other,5,approx 5 seconds,I saw a glowing&#44 boomerang/sickle shaped object in the sky over Brandon,12/12/2011,27.9375,-82.2861111\n",
      "../../activities/wk2/Day 3/Pandas/Student Activities/Bonus activities/05-Evr_PandasRecap/Unsolved/Resources/ufoSightings.csv:1/12/2006 5:54,sicklerville,nj,us,light,120,2 min.,Very bright light or lights in close proximity seemed to hover over South Jersey in the Sicklerville area.,2/14/2006,39.7172222,-74.9697222\n",
      "../../activities/wk2/Day 3/Pandas/Student Activities/Bonus activities/05-Evr_PandasRecap/Unsolved/Resources/ufoSightings.csv:2/2/2013 0:00,sicklerville,nj,us,light,300,5 minutes,Large orange lights in formation over south jersey.,11/11/2013,39.7172222,-74.9697222\n",
      "../../activities/wk2/Day 3/Pandas/Student Activities/Bonus activities/05-Evr_PandasRecap/Unsolved/Resources/ufoSightings.csv:4/20/2008 22:00,cape coral,fl,us,disk,3600,1 hour,A small gray saucer on golf course&#44  they where pulling at me they wanted me to go with them I got very sick from attack  n,10/30/2012,26.5625,-81.9497222\n",
      "../../activities/wk2/Day 3/Pandas/Student Activities/Bonus activities/05-Evr_PandasRecap/Unsolved/Resources/ufoSightings.csv:4/27/2013 21:45,sicklerville,nj,us,light,300,5 minutes,Red lights and grey objects floating in and across the sky after disappearing.,5/15/2013,39.7172222,-74.9697222\n",
      "../../activities/wk2/Day 3/Pandas/Student Activities/Bonus activities/05-Evr_PandasRecap/Unsolved/Resources/ufoSightings.csv:4/9/2005 21:33,sicklerville,nj,us,triangle,120,2 min,I noticed in the sky this Triangle  Yellow Light moving slowly around a little forest that we have between our complex (Asten Woods),4/16/2005,39.7172222,-74.9697222\n",
      "../../activities/wk2/Day 3/Pandas/Student Activities/Bonus activities/05-Evr_PandasRecap/Unsolved/Resources/ufoSightings.csv:5/19/2012 22:00,sicklerville,nj,us,other,180,3 minutes,((HOAX??))  Two flying green human looking objects  with a slender looking female body&#44 with butterfly wings arms and leggs.,5/29/2012,39.7172222,-74.9697222\n",
      "../../activities/wk2/Day 3/Pandas/Student Activities/Bonus activities/05-Evr_PandasRecap/Unsolved/Resources/ufoSightings.csv:5/5/1992 4:00,orlando,fl,us,,300,5 minutes,Back in 1992 I was workin at a dining facility on the Naval Base in Orlando&#44 Florida. One morning&#44 I had to call in sick but because I,11/8/2003,28.5380556,-81.3794444\n",
      "../../activities/wk2/Day 3/Pandas/Student Activities/Bonus activities/05-Evr_PandasRecap/Unsolved/Resources/ufoSightings.csv:6/11/2007 3:00,oxford,ny,us,circle,30,20-30 seconds,I was sleeping in the downstairs guestroom of our farmhouse since my husband was sick in our bedroom upstairs. In a partial sleep&#44 I he,10/31/2008,42.4419444,-75.5980556\n",
      "../../activities/wk2/Day 3/Pandas/Student Activities/Bonus activities/05-Evr_PandasRecap/Unsolved/Resources/ufoSightings.csv:6/23/2012 23:00,hoosick,ny,us,light,3600,1 hour,Bright star like object moving across the sky&#44 then fading and disappearing.,7/4/2012,42.8625,-73.3286111\n",
      "../../activities/wk2/Day 3/Pandas/Student Activities/Bonus activities/05-Evr_PandasRecap/Unsolved/Resources/ufoSightings.csv:6/6/2001 12:30,cusick,wa,us,cigar,3000,45 to 50 minutes,I was walking in a field when at my three o&#39clock I saw a UFO.,8/5/2001,48.3375,-117.2961111\n",
      "../../activities/wk2/Day 3/Pandas/Student Activities/Bonus activities/05-Evr_PandasRecap/Unsolved/Resources/ufoSightings.csv:7/18/2010 22:00,sicklerville,nj,us,light,3600,1 hour,flashing lights swirling in the night.  ((NUFORC Note:  From witness #2.  Possible sighting of Venus??  PD)),7/19/2010,39.7172222,-74.9697222\n",
      "../../activities/wk2/Day 3/Pandas/Student Activities/Bonus activities/05-Evr_PandasRecap/Unsolved/Resources/ufoSightings.csv:7/18/2010 22:00,sicklerville,nj,us,light,3600,1 hour,Flashing lights swirling in the night.  ((NUFORC Note:  Venus in the western sky??  Date is flawed.  Possible hoax.  PD)),7/19/2010,39.7172222,-74.9697222\n",
      "../../activities/wk2/Day 3/Pandas/Student Activities/Bonus activities/05-Evr_PandasRecap/Unsolved/Resources/ufoSightings.csv:7/21/2006 16:00,middletown,oh,us,other,30,20-30 seconds,I saw two black objects  --a large bug shape and a sickle looking shape  parade across the sky one cloudy afternoon.,10/30/2006,39.515,-84.3983333\n",
      "../../activities/wk2/Day 3/Pandas/Student Activities/Bonus activities/05-Evr_PandasRecap/Unsolved/Resources/ufoSightings.csv:7/30/2012 1:00,sicklerville,nj,us,flash,30,30 seconds,Bright white lights flashing then faded away with an orange glow,10/30/2012,39.7172222,-74.9697222\n",
      "../../activities/wk2/Day 3/Pandas/Student Activities/Bonus activities/05-Evr_PandasRecap/Unsolved/Resources/ufoSightings.csv:8/11/2013 23:30,sicklerville,nj,us,diamond,10,10 seconds,First time I ever witnesed something like that.,8/30/2013,39.7172222,-74.9697222\n",
      "../../activities/wk2/Day 3/Pandas/Student Activities/Bonus activities/05-Evr_PandasRecap/Unsolved/Resources/ufoSightings.csv:8/19/2007 19:45,vacaville,ca,us,changing,120,2 minutes,Bright white kite shaped light morphs into sickle shape as it turns before flattening out over Vacaville Hills on Aug. 19&#44 7:45pm.,10/8/2007,38.3566667,-121.9866667\n",
      "../../activities/wk2/Day 3/Pandas/Student Activities/Bonus activities/05-Evr_PandasRecap/Unsolved/Resources/ufoSightings.csv:8/4/2012 21:30,sicklerville,nj,us,sphere,240,4 minutes,7 Red/White pulsating spheres moving in a line parallel to the ground apx. 4 minutes,8/19/2012,39.7172222,-74.9697222\n",
      "../../activities/wk2/Day 3/Pandas/Student Activities/Bonus activities/05-Evr_PandasRecap/Unsolved/Resources/ufoSightings.csv:9/1/1979 22:00,sickles,ok,us,triangle,600,ten minutes,It followed behind us for three miles.  Appeared to be triangle shape with three lights.  Made no Sound.,4/16/2005,35.3627778,-98.4475\n",
      "../../activities/wk2/Day 3/Pandas/Student Activities/Bonus activities/05-Evr_PandasRecap/Unsolved/Resources/ufoSightings.csv:9/18/2004 1:00,marion,mi,us,disk,60,1min,round shiny object overhead about 1000 ft and climbed in a stairstep manner like a homesick angel(very fast) and was gone,2/24/2005,44.1025,-85.1469444\n",
      "../../activities/wk2/Day 3/Pandas/Student Activities/Bonus activities/05-Evr_PandasRecap/Unsolved/Resources/ufoSightings.csv:9/6/2013 1:23,sicklerville,nj,us,fireball,180,3 minutes,8 Formation fireballs with 2 distinct lights IN each one then a 9th that came later.,9/30/2013,39.7172222,-74.9697222\n",
      "../../activities/wk2/Day 3/Pandas/Student Activities/In Class/11-Stu_ComicBooksSummary/Solved/Resources/books_clean.csv:9781848564169,A sickness in the family,,\"Mina, Denise\",\"Fuso, Antonio [person] ; Mina, Denise [person]\",England,London,Titan,2010\n",
      "../../activities/wk2/Day 3/Pandas/Student Activities/In Class/11-Stu_ComicBooksSummary/Solved/Resources/books_clean.csv:9781401210816 ; 9781401228323,A sickness in the family,,\"Mina, Denise\",\"Fuso, Antonio [person] ; Robins, Clem, 1955- [person] ; Mina, Denise [person]\",United States of America,New York,DC Comics ; Vertigo Crime,2010\n",
      "../../activities/wk2/Day 3/Pandas/Student Activities/In Class/11-Stu_ComicBooksSummary/Solved/Resources/books_clean.csv:9781848564176,A sickness in the family,,\"Mina, Denise\",\"Fuso, Antonio [person] ; Robins, Clem, 1955- [person] ; Mina, Denise [person]\",England,London,Titan,2011\n",
      "../../activities/wk2/Day 3/Pandas/Student Activities/In Class/11-Stu_ComicBooksSummary/Solved/Resources/books_clean.csv:9780752891545 ; 9780752891552,Asterix and the Goths,Asterix and the golden sickle ; Asterix omnibus ; Asterix the Gaul,Goscinny,\"Uderzo [person] ; Goscinny, 1926-1977 [person]\",England,London,Orion,2007\n",
      "../../activities/wk2/Day 3/Pandas/Student Activities/In Class/11-Stu_ComicBooksSummary/Solved/Resources/books_clean.csv:9781444004236,Asterix and the Goths,Asterix and the golden sickle ; Asterix omnibus ; Asterix the Gaul,Goscinny,\"Uderzo [person] ; Goscinny, 1926-1977 [person]\",England,London,Orion,2011\n",
      "../../activities/wk2/Day 3/Pandas/Student Activities/In Class/11-Stu_ComicBooksSummary/Solved/Resources/books_clean.csv:9780752866123 ; 9780752866130,Asterix and the golden sickle,,Goscinny,\"Uderzo [person] ; Goscinny, 1926-1977 [person]\",England,London,Orion Media,2004\n",
      "../../activities/wk2/Day 3/Pandas/Student Activities/In Class/11-Stu_ComicBooksSummary/Solved/Resources/books_clean.csv:9780752891545 ; 9780752891552,Asterix and the golden sickle,Asterix and the Goths ; Asterix omnibus ; Asterix the Gaul,Goscinny,\"Uderzo [person] ; Goscinny, 1926-1977 [person]\",England,London,Orion,2007\n",
      "../../activities/wk2/Day 3/Pandas/Student Activities/In Class/11-Stu_ComicBooksSummary/Solved/Resources/books_clean.csv:9781444004236,Asterix and the golden sickle,Asterix and the Goths ; Asterix omnibus ; Asterix the Gaul,Goscinny,\"Uderzo [person] ; Goscinny, 1926-1977 [person]\",England,London,Orion,2011\n",
      "../../activities/wk2/Day 3/Pandas/Student Activities/In Class/11-Stu_ComicBooksSummary/Solved/Resources/books_clean.csv:9781444013092,Asterix and the golden sickle,Serpe d'or. English,Goscinny,\"Uderzo, artist [person] ; Goscinny, 1926-1977, author [person] ; Hockridge, Derek, translator [person] ; Bell, Anthea, translator [person]\",England,London,Orion,2014\n",
      "../../activities/wk2/Day 3/Pandas/Student Activities/In Class/11-Stu_ComicBooksSummary/Solved/Resources/books_clean.csv:9780752891545 ; 9780752891552,Asterix omnibus,Asterix and the Goths ; Asterix and the golden sickle ; Asterix the Gaul,Goscinny,\"Uderzo [person] ; Goscinny, 1926-1977 [person]\",England,London,Orion,2007\n",
      "../../activities/wk2/Day 3/Pandas/Student Activities/In Class/11-Stu_ComicBooksSummary/Solved/Resources/books_clean.csv:9781444004236,Asterix omnibus,Asterix and the Goths ; Asterix and the golden sickle ; Asterix the Gaul,Goscinny,\"Uderzo [person] ; Goscinny, 1926-1977 [person]\",England,London,Orion,2011\n",
      "../../activities/wk2/Day 3/Pandas/Student Activities/In Class/11-Stu_ComicBooksSummary/Solved/Resources/books_clean.csv:9780752891545 ; 9780752891552,Asterix the Gaul,Asterix and the Goths ; Asterix and the golden sickle ; Asterix omnibus,Goscinny,\"Uderzo [person] ; Goscinny, 1926-1977 [person]\",England,London,Orion,2007\n",
      "../../activities/wk2/Day 3/Pandas/Student Activities/In Class/11-Stu_ComicBooksSummary/Solved/Resources/books_clean.csv:9781444004236,Asterix the Gaul,Asterix and the Goths ; Asterix and the golden sickle ; Asterix omnibus,Goscinny,\"Uderzo [person] ; Goscinny, 1926-1977 [person]\",England,London,Orion,2011\n",
      "../../activities/wk2/Day 3/Pandas/Student Activities/In Class/11-Stu_ComicBooksSummary/Solved/Resources/books_clean.csv:9781932563801,\"Brenda Starr, reporter : the collected dailies and Sundays, 1940-1946\",,\"Messick, Dale\",\"Messick, Dale [person]\",United States of America,\"Neshannock, Pennsylvania\",Hermes Press,2012\n",
      "../../activities/wk2/Day 3/Pandas/Student Activities/In Class/11-Stu_ComicBooksSummary/Solved/Resources/books_clean.csv:9781859027608,Dysgu caru,Lovesick. Welsh,\"Waterhouse, Lynda\",\"Meek, Elin [person] ; Kent, John, 1937- [person] ; Waterhouse, Lynda [person]\",Wales,Llandysul,Gwasg Gomer,1999\n",
      "../../activities/wk2/Day 3/Pandas/Student Activities/In Class/11-Stu_ComicBooksSummary/Solved/Resources/books_clean.csv:9781434242259,Homesick witch,,\"O'Reilly, Sean\",\"O'Reilly, Sean, 1974-, author [person] ; Arcana Studio, illustrator [organisation]\",United States of America,\"Mankato, Minnesota\",Stone Arch,2013\n",
      "../../activities/wk2/Day 3/Pandas/Student Activities/In Class/11-Stu_ComicBooksSummary/Solved/Resources/books_clean.csv:9781406279917,Homesick witch,,\"O'Reilly, Sean\",\"O'Reilly, Sean, 1974-, author [person] ; Arcana Studio, artist [organisation]\",England,London,Raintree,2015\n",
      "../../activities/wk2/Day 3/Pandas/Student Activities/In Class/11-Stu_ComicBooksSummary/Solved/Resources/books_clean.csv:9781859027608,Lovesick. Welsh,Dysgu caru,\"Waterhouse, Lynda\",\"Meek, Elin [person] ; Kent, John, 1937- [person] ; Waterhouse, Lynda [person]\",Wales,Llandysul,Gwasg Gomer,1999\n",
      "../../activities/wk2/Day 3/Pandas/Student Activities/In Class/11-Stu_ComicBooksSummary/Solved/Resources/books_clean.csv:9781444013092,Serpe d'or. English,Asterix and the golden sickle,Goscinny,\"Uderzo, artist [person] ; Goscinny, 1926-1977, author [person] ; Hockridge, Derek, translator [person] ; Bell, Anthea, translator [person]\",England,London,Orion,2014\n",
      "../../activities/wk2/Day 3/Pandas/Student Activities/In Class/11-Stu_ComicBooksSummary/Unsolved/Resources/books_clean.csv:9781848564169,A sickness in the family,,\"Mina, Denise\",\"Fuso, Antonio [person] ; Mina, Denise [person]\",England,London,Titan,2010\n",
      "../../activities/wk2/Day 3/Pandas/Student Activities/In Class/11-Stu_ComicBooksSummary/Unsolved/Resources/books_clean.csv:9781401210816 ; 9781401228323,A sickness in the family,,\"Mina, Denise\",\"Fuso, Antonio [person] ; Robins, Clem, 1955- [person] ; Mina, Denise [person]\",United States of America,New York,DC Comics ; Vertigo Crime,2010\n",
      "../../activities/wk2/Day 3/Pandas/Student Activities/In Class/11-Stu_ComicBooksSummary/Unsolved/Resources/books_clean.csv:9781848564176,A sickness in the family,,\"Mina, Denise\",\"Fuso, Antonio [person] ; Robins, Clem, 1955- [person] ; Mina, Denise [person]\",England,London,Titan,2011\n",
      "../../activities/wk2/Day 3/Pandas/Student Activities/In Class/11-Stu_ComicBooksSummary/Unsolved/Resources/books_clean.csv:9780752891545 ; 9780752891552,Asterix and the Goths,Asterix and the golden sickle ; Asterix omnibus ; Asterix the Gaul,Goscinny,\"Uderzo [person] ; Goscinny, 1926-1977 [person]\",England,London,Orion,2007\n",
      "../../activities/wk2/Day 3/Pandas/Student Activities/In Class/11-Stu_ComicBooksSummary/Unsolved/Resources/books_clean.csv:9781444004236,Asterix and the Goths,Asterix and the golden sickle ; Asterix omnibus ; Asterix the Gaul,Goscinny,\"Uderzo [person] ; Goscinny, 1926-1977 [person]\",England,London,Orion,2011\n",
      "../../activities/wk2/Day 3/Pandas/Student Activities/In Class/11-Stu_ComicBooksSummary/Unsolved/Resources/books_clean.csv:9780752866123 ; 9780752866130,Asterix and the golden sickle,,Goscinny,\"Uderzo [person] ; Goscinny, 1926-1977 [person]\",England,London,Orion Media,2004\n",
      "../../activities/wk2/Day 3/Pandas/Student Activities/In Class/11-Stu_ComicBooksSummary/Unsolved/Resources/books_clean.csv:9780752891545 ; 9780752891552,Asterix and the golden sickle,Asterix and the Goths ; Asterix omnibus ; Asterix the Gaul,Goscinny,\"Uderzo [person] ; Goscinny, 1926-1977 [person]\",England,London,Orion,2007\n",
      "../../activities/wk2/Day 3/Pandas/Student Activities/In Class/11-Stu_ComicBooksSummary/Unsolved/Resources/books_clean.csv:9781444004236,Asterix and the golden sickle,Asterix and the Goths ; Asterix omnibus ; Asterix the Gaul,Goscinny,\"Uderzo [person] ; Goscinny, 1926-1977 [person]\",England,London,Orion,2011\n",
      "../../activities/wk2/Day 3/Pandas/Student Activities/In Class/11-Stu_ComicBooksSummary/Unsolved/Resources/books_clean.csv:9781444013092,Asterix and the golden sickle,Serpe d'or. English,Goscinny,\"Uderzo, artist [person] ; Goscinny, 1926-1977, author [person] ; Hockridge, Derek, translator [person] ; Bell, Anthea, translator [person]\",England,London,Orion,2014\n",
      "../../activities/wk2/Day 3/Pandas/Student Activities/In Class/11-Stu_ComicBooksSummary/Unsolved/Resources/books_clean.csv:9780752891545 ; 9780752891552,Asterix omnibus,Asterix and the Goths ; Asterix and the golden sickle ; Asterix the Gaul,Goscinny,\"Uderzo [person] ; Goscinny, 1926-1977 [person]\",England,London,Orion,2007\n",
      "../../activities/wk2/Day 3/Pandas/Student Activities/In Class/11-Stu_ComicBooksSummary/Unsolved/Resources/books_clean.csv:9781444004236,Asterix omnibus,Asterix and the Goths ; Asterix and the golden sickle ; Asterix the Gaul,Goscinny,\"Uderzo [person] ; Goscinny, 1926-1977 [person]\",England,London,Orion,2011\n",
      "../../activities/wk2/Day 3/Pandas/Student Activities/In Class/11-Stu_ComicBooksSummary/Unsolved/Resources/books_clean.csv:9780752891545 ; 9780752891552,Asterix the Gaul,Asterix and the Goths ; Asterix and the golden sickle ; Asterix omnibus,Goscinny,\"Uderzo [person] ; Goscinny, 1926-1977 [person]\",England,London,Orion,2007\n",
      "../../activities/wk2/Day 3/Pandas/Student Activities/In Class/11-Stu_ComicBooksSummary/Unsolved/Resources/books_clean.csv:9781444004236,Asterix the Gaul,Asterix and the Goths ; Asterix and the golden sickle ; Asterix omnibus,Goscinny,\"Uderzo [person] ; Goscinny, 1926-1977 [person]\",England,London,Orion,2011\n",
      "../../activities/wk2/Day 3/Pandas/Student Activities/In Class/11-Stu_ComicBooksSummary/Unsolved/Resources/books_clean.csv:9781932563801,\"Brenda Starr, reporter : the collected dailies and Sundays, 1940-1946\",,\"Messick, Dale\",\"Messick, Dale [person]\",United States of America,\"Neshannock, Pennsylvania\",Hermes Press,2012\n",
      "../../activities/wk2/Day 3/Pandas/Student Activities/In Class/11-Stu_ComicBooksSummary/Unsolved/Resources/books_clean.csv:9781859027608,Dysgu caru,Lovesick. Welsh,\"Waterhouse, Lynda\",\"Meek, Elin [person] ; Kent, John, 1937- [person] ; Waterhouse, Lynda [person]\",Wales,Llandysul,Gwasg Gomer,1999\n",
      "../../activities/wk2/Day 3/Pandas/Student Activities/In Class/11-Stu_ComicBooksSummary/Unsolved/Resources/books_clean.csv:9781434242259,Homesick witch,,\"O'Reilly, Sean\",\"O'Reilly, Sean, 1974-, author [person] ; Arcana Studio, illustrator [organisation]\",United States of America,\"Mankato, Minnesota\",Stone Arch,2013\n",
      "../../activities/wk2/Day 3/Pandas/Student Activities/In Class/11-Stu_ComicBooksSummary/Unsolved/Resources/books_clean.csv:9781406279917,Homesick witch,,\"O'Reilly, Sean\",\"O'Reilly, Sean, 1974-, author [person] ; Arcana Studio, artist [organisation]\",England,London,Raintree,2015\n",
      "../../activities/wk2/Day 3/Pandas/Student Activities/In Class/11-Stu_ComicBooksSummary/Unsolved/Resources/books_clean.csv:9781859027608,Lovesick. Welsh,Dysgu caru,\"Waterhouse, Lynda\",\"Meek, Elin [person] ; Kent, John, 1937- [person] ; Waterhouse, Lynda [person]\",Wales,Llandysul,Gwasg Gomer,1999\n",
      "../../activities/wk2/Day 3/Pandas/Student Activities/In Class/11-Stu_ComicBooksSummary/Unsolved/Resources/books_clean.csv:9781444013092,Serpe d'or. English,Asterix and the golden sickle,Goscinny,\"Uderzo, artist [person] ; Goscinny, 1926-1977, author [person] ; Hockridge, Derek, translator [person] ; Bell, Anthea, translator [person]\",England,London,Orion,2014\n",
      "../../activities/wk2/Day 3/Pandas/Student Activities/In Class/09-Stu_SearchForTheWorst/Solved/Resources/Soccer2018Data.csv:T. Rosický,36,Czech Republic,79,79,Sparta Praha,RM,78,54,64,76,75,78,62,54,75,64,76,77,71,77,66,78,62,54,75,64,76,77,71,77,66,71\n",
      "../../activities/wk2/Day 3/Pandas/Student Activities/In Class/09-Stu_SearchForTheWorst/Solved/Resources/Soccer2018Data.csv:K. Grosicki,29,Poland,76,76,Hull City,LW,74,46,54,75,69,74,54,46,69,54,75,75,74,76,58,74,54,46,69,54,75,75,74,76,58,74\n",
      "../../activities/wk2/Day 3/Pandas/Student Activities/In Class/09-Stu_SearchForTheWorst/Solved/Resources/Soccer2018Data.csv:I. Łasicki,22,Poland,59,66,Wisła Płock,CB,42,58,53,43,45,42,57,58,45,53,43,45,43,44,56,42,57,58,45,53,43,45,43,44,56,43\n",
      "../../activities/wk2/Day 3/Pandas/Student Activities/In Class/09-Stu_SearchForTheWorst/Unsolved/Resources/Soccer2018Data.csv:T. Rosický,36,Czech Republic,79,79,Sparta Praha,RM,78,54,64,76,75,78,62,54,75,64,76,77,71,77,66,78,62,54,75,64,76,77,71,77,66,71\n",
      "../../activities/wk2/Day 3/Pandas/Student Activities/In Class/09-Stu_SearchForTheWorst/Unsolved/Resources/Soccer2018Data.csv:K. Grosicki,29,Poland,76,76,Hull City,LW,74,46,54,75,69,74,54,46,69,54,75,75,74,76,58,74,54,46,69,54,75,75,74,76,58,74\n",
      "../../activities/wk2/Day 3/Pandas/Student Activities/In Class/09-Stu_SearchForTheWorst/Unsolved/Resources/Soccer2018Data.csv:I. Łasicki,22,Poland,59,66,Wisła Płock,CB,42,58,53,43,45,42,57,58,45,53,43,45,43,44,56,42,57,58,45,53,43,45,43,44,56,43\n",
      "../../activities/wk2/Day 3/Pandas/Student Activities/In Class/10-Stu_ComicBooksCSV/Solved/Resources/comic_books_expanded.csv:A sickness in the family,,15606832,Monograph,Language material ; Text,Volume,GBB087273,9781848564169,\"Mina, Denise\",,person,,\"Fuso, Antonio [person] ; Mina, Denise [person]\",,,England,London,Titan,2010,,\"1 volume, chiefly illustrations, 20 cm\",741.5,,\"Families--Scotland--Comic books, strips, etc--Fiction ; Witchcraft--Comic books, strips, etc--Fiction ; Death--Comic books, strips, etc--Fiction\",Comic or graphic novel ; Detective and mystery fiction ; Fiction,English,\n",
      "../../activities/wk2/Day 3/Pandas/Student Activities/In Class/10-Stu_ComicBooksCSV/Solved/Resources/comic_books_expanded.csv:A sickness in the family,,15687833,Monograph,Language material ; Text,Volume,GBB126999,9781401210816 ; 9781401228323,\"Mina, Denise\",,person,,\"Fuso, Antonio [person] ; Robins, Clem, 1955- [person] ; Mina, Denise [person]\",,,United States of America,New York,DC Comics ; Vertigo Crime,2010,,\"180 pages, chiefly illustrations, 21 cm\",741.5973,YK.2011.a.8826,\"Dysfunctional families--Comic books, strips, etc ; Death--Comic books, strips, etc ; Crime--Comic books, strips, etc\",Comic or graphic novel ; Novel,English,'Suggested for mature readers' -- p [4] of cover\n",
      "../../activities/wk2/Day 3/Pandas/Student Activities/In Class/10-Stu_ComicBooksCSV/Solved/Resources/comic_books_expanded.csv:A sickness in the family,,15865424,Monograph,Language material ; Text,Volume,GBB194938,9781848564176,\"Mina, Denise\",,person,,\"Fuso, Antonio [person] ; Robins, Clem, 1955- [person] ; Mina, Denise [person]\",,,England,London,Titan,2011,,\"1 volume, chiefly illustrations, 20 cm\",741.5,,\"Families--Scotland--Comic books, strips, etc--Fiction ; Witchcraft--Comic books, strips, etc--Fiction ; Death--Comic books, strips, etc--Fiction\",Comic or graphic novel ; Detective and mystery ; Fiction,English,Originally published: 2010\n",
      "../../activities/wk2/Day 3/Pandas/Student Activities/In Class/10-Stu_ComicBooksCSV/Solved/Resources/comic_books_expanded.csv:Asterix and the Goths,Asterix and the golden sickle ; Asterix omnibus ; Asterix the Gaul,13795324,Monograph,Language material ; Text,Volume,GBA755774,9780752891545 ; 9780752891552,Goscinny,1926-1977,person,,\"Uderzo [person] ; Goscinny, 1926-1977 [person]\",,,England,London,Orion,2007,,\"1 volume, chiefly colour illustrations, 29 cm\",741.5944,,\"Goscinny, 1926-1977--Translations into English ; Obelix (Fictitious character : Uderzo)--Comic books, strips, etc--Juvenile fiction ; Children's stories, French--Translations into English ; Astérix (Fictitious character)--Comic books, strips, etc--Juvenile fiction ; Graphic novels\",Children's fiction ; Comic or graphic novel ; Translations into English,English,\"books 1,2 & 3\"\n",
      "../../activities/wk2/Day 3/Pandas/Student Activities/In Class/10-Stu_ComicBooksCSV/Solved/Resources/comic_books_expanded.csv:Asterix and the Goths,Asterix and the golden sickle ; Asterix omnibus ; Asterix the Gaul,15781273,Monograph,Language material ; Text,Volume,GBB140936,9781444004236,Goscinny,1926-1977,person,,\"Uderzo [person] ; Goscinny, 1926-1977 [person]\",,,England,London,Orion,2011,,\"149 pages, chiefly colour illustrations, 29 cm\",741.5944,,\"Goscinny, 1926-1977--Translations into English ; Obelix (Fictitious character : Uderzo)--Comic books, strips, etc--Juvenile fiction ; Children's stories, French--Translations into English ; Astérix (Fictitious character)--Comic books, strips, etc--Juvenile fiction ; Graphic novels\",Children's fiction ; Comic or graphic novel ; Translations into English,English,\n",
      "../../activities/wk2/Day 3/Pandas/Student Activities/In Class/10-Stu_ComicBooksCSV/Solved/Resources/comic_books_expanded.csv:Asterix and the golden sickle,,6888947,Monograph,Language material ; Text,Volume,GBA4Z3122,9780752866123 ; 9780752866130,Goscinny,1926-1977,person,,\"Uderzo [person] ; Goscinny, 1926-1977 [person]\",,,England,London,Orion Media,2004,,\"48 pages, colour illustrations, colour map, 29 cm\",741.5,YK.2005.b.2883,\"Obelix (Fictitious character : Uderzo)--Comic books, strips, etc--Juvenile fiction ; Astérix (Fictitious character)--Comic books, strips, etc--Juvenile fiction\",Children's fiction ; Comic or graphic novel ; Novel,English,\"This translation originally published: London: Hodder & Stoughton, 1975\"\n",
      "../../activities/wk2/Day 3/Pandas/Student Activities/In Class/10-Stu_ComicBooksCSV/Solved/Resources/comic_books_expanded.csv:Asterix and the golden sickle,Asterix and the Goths ; Asterix omnibus ; Asterix the Gaul,13795324,Monograph,Language material ; Text,Volume,GBA755774,9780752891545 ; 9780752891552,Goscinny,1926-1977,person,,\"Uderzo [person] ; Goscinny, 1926-1977 [person]\",,,England,London,Orion,2007,,\"1 volume, chiefly colour illustrations, 29 cm\",741.5944,,\"Goscinny, 1926-1977--Translations into English ; Obelix (Fictitious character : Uderzo)--Comic books, strips, etc--Juvenile fiction ; Children's stories, French--Translations into English ; Astérix (Fictitious character)--Comic books, strips, etc--Juvenile fiction ; Graphic novels\",Children's fiction ; Comic or graphic novel ; Translations into English,English,\"books 1,2 & 3\"\n",
      "../../activities/wk2/Day 3/Pandas/Student Activities/In Class/10-Stu_ComicBooksCSV/Solved/Resources/comic_books_expanded.csv:Asterix and the golden sickle,Asterix and the Goths ; Asterix omnibus ; Asterix the Gaul,15781273,Monograph,Language material ; Text,Volume,GBB140936,9781444004236,Goscinny,1926-1977,person,,\"Uderzo [person] ; Goscinny, 1926-1977 [person]\",,,England,London,Orion,2011,,\"149 pages, chiefly colour illustrations, 29 cm\",741.5944,,\"Goscinny, 1926-1977--Translations into English ; Obelix (Fictitious character : Uderzo)--Comic books, strips, etc--Juvenile fiction ; Children's stories, French--Translations into English ; Astérix (Fictitious character)--Comic books, strips, etc--Juvenile fiction ; Graphic novels\",Children's fiction ; Comic or graphic novel ; Translations into English,English,\n",
      "../../activities/wk2/Day 3/Pandas/Student Activities/In Class/10-Stu_ComicBooksCSV/Solved/Resources/comic_books_expanded.csv:Asterix and the golden sickle,Serpe d'or. English,16662829,Monograph,Language material ; Text,Online resource (ebook),GBB435894,9781444013092,Goscinny,1926-1977,person,author,\"Uderzo, artist [person] ; Goscinny, 1926-1977, author [person] ; Hockridge, Derek, translator [person] ; Bell, Anthea, translator [person]\",Asterix,,England,London,Orion,2014,Revised edition,1 online resource,741.5,,\"Obelix (Fictitious character : Uderzo)--Comic books, strips, etc--Juvenile fiction ; Astérix (Fictitious character)--Comic books, strips, etc--Juvenile fiction\",Children's fiction ; Comic or graphic novel ; Novel,English,Additional physical form: Print version. 9780752866123 ; This edition previously issued in print: 2004 ; Translated from the French\n",
      "../../activities/wk2/Day 3/Pandas/Student Activities/In Class/10-Stu_ComicBooksCSV/Solved/Resources/comic_books_expanded.csv:Asterix omnibus,Asterix and the Goths ; Asterix and the golden sickle ; Asterix the Gaul,13795324,Monograph,Language material ; Text,Volume,GBA755774,9780752891545 ; 9780752891552,Goscinny,1926-1977,person,,\"Uderzo [person] ; Goscinny, 1926-1977 [person]\",,,England,London,Orion,2007,,\"1 volume, chiefly colour illustrations, 29 cm\",741.5944,,\"Goscinny, 1926-1977--Translations into English ; Obelix (Fictitious character : Uderzo)--Comic books, strips, etc--Juvenile fiction ; Children's stories, French--Translations into English ; Astérix (Fictitious character)--Comic books, strips, etc--Juvenile fiction ; Graphic novels\",Children's fiction ; Comic or graphic novel ; Translations into English,English,\"books 1,2 & 3\"\n",
      "../../activities/wk2/Day 3/Pandas/Student Activities/In Class/10-Stu_ComicBooksCSV/Solved/Resources/comic_books_expanded.csv:Asterix omnibus,Asterix and the Goths ; Asterix and the golden sickle ; Asterix the Gaul,15781273,Monograph,Language material ; Text,Volume,GBB140936,9781444004236,Goscinny,1926-1977,person,,\"Uderzo [person] ; Goscinny, 1926-1977 [person]\",,,England,London,Orion,2011,,\"149 pages, chiefly colour illustrations, 29 cm\",741.5944,,\"Goscinny, 1926-1977--Translations into English ; Obelix (Fictitious character : Uderzo)--Comic books, strips, etc--Juvenile fiction ; Children's stories, French--Translations into English ; Astérix (Fictitious character)--Comic books, strips, etc--Juvenile fiction ; Graphic novels\",Children's fiction ; Comic or graphic novel ; Translations into English,English,\n",
      "../../activities/wk2/Day 3/Pandas/Student Activities/In Class/10-Stu_ComicBooksCSV/Solved/Resources/comic_books_expanded.csv:Asterix the Gaul,Asterix and the Goths ; Asterix and the golden sickle ; Asterix omnibus,13795324,Monograph,Language material ; Text,Volume,GBA755774,9780752891545 ; 9780752891552,Goscinny,1926-1977,person,,\"Uderzo [person] ; Goscinny, 1926-1977 [person]\",,,England,London,Orion,2007,,\"1 volume, chiefly colour illustrations, 29 cm\",741.5944,,\"Goscinny, 1926-1977--Translations into English ; Obelix (Fictitious character : Uderzo)--Comic books, strips, etc--Juvenile fiction ; Children's stories, French--Translations into English ; Astérix (Fictitious character)--Comic books, strips, etc--Juvenile fiction ; Graphic novels\",Children's fiction ; Comic or graphic novel ; Translations into English,English,\"books 1,2 & 3\"\n",
      "../../activities/wk2/Day 3/Pandas/Student Activities/In Class/10-Stu_ComicBooksCSV/Solved/Resources/comic_books_expanded.csv:Asterix the Gaul,Asterix and the Goths ; Asterix and the golden sickle ; Asterix omnibus,15781273,Monograph,Language material ; Text,Volume,GBB140936,9781444004236,Goscinny,1926-1977,person,,\"Uderzo [person] ; Goscinny, 1926-1977 [person]\",,,England,London,Orion,2011,,\"149 pages, chiefly colour illustrations, 29 cm\",741.5944,,\"Goscinny, 1926-1977--Translations into English ; Obelix (Fictitious character : Uderzo)--Comic books, strips, etc--Juvenile fiction ; Children's stories, French--Translations into English ; Astérix (Fictitious character)--Comic books, strips, etc--Juvenile fiction ; Graphic novels\",Children's fiction ; Comic or graphic novel ; Translations into English,English,\n",
      "../../activities/wk2/Day 3/Pandas/Student Activities/In Class/10-Stu_ComicBooksCSV/Solved/Resources/comic_books_expanded.csv:\"Brenda Starr, reporter : the collected dailies and Sundays, 1940-1946\",,15753775,Monograph,Language material ; Text,Volume,GBB122064,9781932563801,\"Messick, Dale\",,person,,\"Messick, Dale [person]\",,,United States of America,\"Neshannock, Pennsylvania\",Hermes Press,2012,,\"205 pages, chiefly illustrations (some colour), 20 x 33 cm\",741.56973,LC.37.a.782,\"Comic books, strips, etc--United States\",Comic or graphic novel,English,\n",
      "../../activities/wk2/Day 3/Pandas/Student Activities/In Class/10-Stu_ComicBooksCSV/Solved/Resources/comic_books_expanded.csv:Dysgu caru,Lovesick. Welsh,7460003,Monograph,Language material ; Text,Volume,GB9946938,9781859027608,\"Waterhouse, Lynda\",,person,,\"Meek, Elin [person] ; Kent, John, 1937- [person] ; Waterhouse, Lynda [person]\",Graffics Gomer,,Wales,Llandysul,Gwasg Gomer,1999,,\"80 pages, illustrations, 20 cm\",741.5942,YK.2001.a.9595,\"Teachers--Comic books, strips, etc--Fiction ; Fathers and daughters--Comic books, strips, etc--Fiction\",Children's fiction ; Comic or graphic novel ; Fiction ; Novel,Welsh,\"Addasiad Cymraeg gan = Welsh adaptation by: Elin Meek ; Arg. Saesneg gwreiddiol = Original English edition: Llundain: A & C Black (Publishers), 1998\"\n",
      "../../activities/wk2/Day 3/Pandas/Student Activities/In Class/10-Stu_ComicBooksCSV/Solved/Resources/comic_books_expanded.csv:Homesick witch,,16489553,Monograph,Language material ; Still image ; Text,Volume,GBB379758,9781434242259,\"O'Reilly, Sean\",1974-,person,author,\"O'Reilly, Sean, 1974-, author [person] ; Arcana Studio, illustrator [organisation]\",Mighty Mighty Monsters,,United States of America,\"Mankato, Minnesota\",Stone Arch,2013,,\"1 volume, chiefly colour illustrations, 24 cm\",741.5,,\"Homesickness--Comic books, strips, etc--Juvenile fiction ; Witches--Comic books, strips, etc--Juvenile fiction ; Friendship--Comic books, strips, etc--Juvenile fiction ; Monsters--Comic books, strips, etc--Juvenile fiction\",Children's fiction ; Comic or graphic novel,English,\n",
      "../../activities/wk2/Day 3/Pandas/Student Activities/In Class/10-Stu_ComicBooksCSV/Solved/Resources/comic_books_expanded.csv:Homesick witch,,16855936,Monograph,Language material ; Still image ; Text,Volume,GBB493094,9781406279917,\"O'Reilly, Sean\",1974-,person,author,\"O'Reilly, Sean, 1974-, author [person] ; Arcana Studio, artist [organisation]\",Mighty Mighty Monsters,,England,London,Raintree,2015,,\"42 pages, chiefly colour illustrations, 23 cm\",741.5,YKL.2016.a.8673,\"Homesickness--Comic books, strips, etc--Juvenile fiction ; Witches--Comic books, strips, etc--Juvenile fiction ; Friendship--Comic books, strips, etc--Juvenile fiction ; Monsters--Comic books, strips, etc--Juvenile fiction\",Children's fiction ; Comic or graphic novel,English,\"Originally published: Mankato, Minnesota: Stone Arch, 2013\"\n",
      "../../activities/wk2/Day 3/Pandas/Student Activities/In Class/10-Stu_ComicBooksCSV/Solved/Resources/comic_books_expanded.csv:Lovesick. Welsh,Dysgu caru,7460003,Monograph,Language material ; Text,Volume,GB9946938,9781859027608,\"Waterhouse, Lynda\",,person,,\"Meek, Elin [person] ; Kent, John, 1937- [person] ; Waterhouse, Lynda [person]\",Graffics Gomer,,Wales,Llandysul,Gwasg Gomer,1999,,\"80 pages, illustrations, 20 cm\",741.5942,YK.2001.a.9595,\"Teachers--Comic books, strips, etc--Fiction ; Fathers and daughters--Comic books, strips, etc--Fiction\",Children's fiction ; Comic or graphic novel ; Fiction ; Novel,Welsh,\"Addasiad Cymraeg gan = Welsh adaptation by: Elin Meek ; Arg. Saesneg gwreiddiol = Original English edition: Llundain: A & C Black (Publishers), 1998\"\n",
      "../../activities/wk2/Day 3/Pandas/Student Activities/In Class/10-Stu_ComicBooksCSV/Solved/Resources/comic_books_expanded.csv:Serpe d'or. English,Asterix and the golden sickle,16662829,Monograph,Language material ; Text,Online resource (ebook),GBB435894,9781444013092,Goscinny,1926-1977,person,author,\"Uderzo, artist [person] ; Goscinny, 1926-1977, author [person] ; Hockridge, Derek, translator [person] ; Bell, Anthea, translator [person]\",Asterix,,England,London,Orion,2014,Revised edition,1 online resource,741.5,,\"Obelix (Fictitious character : Uderzo)--Comic books, strips, etc--Juvenile fiction ; Astérix (Fictitious character)--Comic books, strips, etc--Juvenile fiction\",Children's fiction ; Comic or graphic novel ; Novel,English,Additional physical form: Print version. 9780752866123 ; This edition previously issued in print: 2004 ; Translated from the French\n",
      "../../activities/wk2/Day 3/Pandas/Student Activities/In Class/10-Stu_ComicBooksCSV/Solved/Output/books_clean.csv:9781848564169,A sickness in the family,,\"Mina, Denise\",\"Fuso, Antonio [person] ; Mina, Denise [person]\",England,London,Titan,2010\n",
      "../../activities/wk2/Day 3/Pandas/Student Activities/In Class/10-Stu_ComicBooksCSV/Solved/Output/books_clean.csv:9781401210816 ; 9781401228323,A sickness in the family,,\"Mina, Denise\",\"Fuso, Antonio [person] ; Robins, Clem, 1955- [person] ; Mina, Denise [person]\",United States of America,New York,DC Comics ; Vertigo Crime,2010\n",
      "../../activities/wk2/Day 3/Pandas/Student Activities/In Class/10-Stu_ComicBooksCSV/Solved/Output/books_clean.csv:9781848564176,A sickness in the family,,\"Mina, Denise\",\"Fuso, Antonio [person] ; Robins, Clem, 1955- [person] ; Mina, Denise [person]\",England,London,Titan,2011\n",
      "../../activities/wk2/Day 3/Pandas/Student Activities/In Class/10-Stu_ComicBooksCSV/Solved/Output/books_clean.csv:9780752891545 ; 9780752891552,Asterix and the Goths,Asterix and the golden sickle ; Asterix omnibus ; Asterix the Gaul,Goscinny,\"Uderzo [person] ; Goscinny, 1926-1977 [person]\",England,London,Orion,2007\n",
      "../../activities/wk2/Day 3/Pandas/Student Activities/In Class/10-Stu_ComicBooksCSV/Solved/Output/books_clean.csv:9781444004236,Asterix and the Goths,Asterix and the golden sickle ; Asterix omnibus ; Asterix the Gaul,Goscinny,\"Uderzo [person] ; Goscinny, 1926-1977 [person]\",England,London,Orion,2011\n",
      "../../activities/wk2/Day 3/Pandas/Student Activities/In Class/10-Stu_ComicBooksCSV/Solved/Output/books_clean.csv:9780752866123 ; 9780752866130,Asterix and the golden sickle,,Goscinny,\"Uderzo [person] ; Goscinny, 1926-1977 [person]\",England,London,Orion Media,2004\n",
      "../../activities/wk2/Day 3/Pandas/Student Activities/In Class/10-Stu_ComicBooksCSV/Solved/Output/books_clean.csv:9780752891545 ; 9780752891552,Asterix and the golden sickle,Asterix and the Goths ; Asterix omnibus ; Asterix the Gaul,Goscinny,\"Uderzo [person] ; Goscinny, 1926-1977 [person]\",England,London,Orion,2007\n",
      "../../activities/wk2/Day 3/Pandas/Student Activities/In Class/10-Stu_ComicBooksCSV/Solved/Output/books_clean.csv:9781444004236,Asterix and the golden sickle,Asterix and the Goths ; Asterix omnibus ; Asterix the Gaul,Goscinny,\"Uderzo [person] ; Goscinny, 1926-1977 [person]\",England,London,Orion,2011\n",
      "../../activities/wk2/Day 3/Pandas/Student Activities/In Class/10-Stu_ComicBooksCSV/Solved/Output/books_clean.csv:9781444013092,Asterix and the golden sickle,Serpe d'or. English,Goscinny,\"Uderzo, artist [person] ; Goscinny, 1926-1977, author [person] ; Hockridge, Derek, translator [person] ; Bell, Anthea, translator [person]\",England,London,Orion,2014\n",
      "../../activities/wk2/Day 3/Pandas/Student Activities/In Class/10-Stu_ComicBooksCSV/Solved/Output/books_clean.csv:9780752891545 ; 9780752891552,Asterix omnibus,Asterix and the Goths ; Asterix and the golden sickle ; Asterix the Gaul,Goscinny,\"Uderzo [person] ; Goscinny, 1926-1977 [person]\",England,London,Orion,2007\n",
      "../../activities/wk2/Day 3/Pandas/Student Activities/In Class/10-Stu_ComicBooksCSV/Solved/Output/books_clean.csv:9781444004236,Asterix omnibus,Asterix and the Goths ; Asterix and the golden sickle ; Asterix the Gaul,Goscinny,\"Uderzo [person] ; Goscinny, 1926-1977 [person]\",England,London,Orion,2011\n",
      "../../activities/wk2/Day 3/Pandas/Student Activities/In Class/10-Stu_ComicBooksCSV/Solved/Output/books_clean.csv:9780752891545 ; 9780752891552,Asterix the Gaul,Asterix and the Goths ; Asterix and the golden sickle ; Asterix omnibus,Goscinny,\"Uderzo [person] ; Goscinny, 1926-1977 [person]\",England,London,Orion,2007\n",
      "../../activities/wk2/Day 3/Pandas/Student Activities/In Class/10-Stu_ComicBooksCSV/Solved/Output/books_clean.csv:9781444004236,Asterix the Gaul,Asterix and the Goths ; Asterix and the golden sickle ; Asterix omnibus,Goscinny,\"Uderzo [person] ; Goscinny, 1926-1977 [person]\",England,London,Orion,2011\n",
      "../../activities/wk2/Day 3/Pandas/Student Activities/In Class/10-Stu_ComicBooksCSV/Solved/Output/books_clean.csv:9781932563801,\"Brenda Starr, reporter : the collected dailies and Sundays, 1940-1946\",,\"Messick, Dale\",\"Messick, Dale [person]\",United States of America,\"Neshannock, Pennsylvania\",Hermes Press,2012\n",
      "../../activities/wk2/Day 3/Pandas/Student Activities/In Class/10-Stu_ComicBooksCSV/Solved/Output/books_clean.csv:9781859027608,Dysgu caru,Lovesick. Welsh,\"Waterhouse, Lynda\",\"Meek, Elin [person] ; Kent, John, 1937- [person] ; Waterhouse, Lynda [person]\",Wales,Llandysul,Gwasg Gomer,1999\n",
      "../../activities/wk2/Day 3/Pandas/Student Activities/In Class/10-Stu_ComicBooksCSV/Solved/Output/books_clean.csv:9781434242259,Homesick witch,,\"O'Reilly, Sean\",\"O'Reilly, Sean, 1974-, author [person] ; Arcana Studio, illustrator [organisation]\",United States of America,\"Mankato, Minnesota\",Stone Arch,2013\n",
      "../../activities/wk2/Day 3/Pandas/Student Activities/In Class/10-Stu_ComicBooksCSV/Solved/Output/books_clean.csv:9781406279917,Homesick witch,,\"O'Reilly, Sean\",\"O'Reilly, Sean, 1974-, author [person] ; Arcana Studio, artist [organisation]\",England,London,Raintree,2015\n",
      "../../activities/wk2/Day 3/Pandas/Student Activities/In Class/10-Stu_ComicBooksCSV/Solved/Output/books_clean.csv:9781859027608,Lovesick. Welsh,Dysgu caru,\"Waterhouse, Lynda\",\"Meek, Elin [person] ; Kent, John, 1937- [person] ; Waterhouse, Lynda [person]\",Wales,Llandysul,Gwasg Gomer,1999\n",
      "../../activities/wk2/Day 3/Pandas/Student Activities/In Class/10-Stu_ComicBooksCSV/Solved/Output/books_clean.csv:9781444013092,Serpe d'or. English,Asterix and the golden sickle,Goscinny,\"Uderzo, artist [person] ; Goscinny, 1926-1977, author [person] ; Hockridge, Derek, translator [person] ; Bell, Anthea, translator [person]\",England,London,Orion,2014\n",
      "../../activities/wk2/Day 3/Pandas/Student Activities/In Class/10-Stu_ComicBooksCSV/Unsolved/Resources/comic_books_expanded.csv:A sickness in the family,,15606832,Monograph,Language material ; Text,Volume,GBB087273,9781848564169,\"Mina, Denise\",,person,,\"Fuso, Antonio [person] ; Mina, Denise [person]\",,,England,London,Titan,2010,,\"1 volume, chiefly illustrations, 20 cm\",741.5,,\"Families--Scotland--Comic books, strips, etc--Fiction ; Witchcraft--Comic books, strips, etc--Fiction ; Death--Comic books, strips, etc--Fiction\",Comic or graphic novel ; Detective and mystery fiction ; Fiction,English,\n",
      "../../activities/wk2/Day 3/Pandas/Student Activities/In Class/10-Stu_ComicBooksCSV/Unsolved/Resources/comic_books_expanded.csv:A sickness in the family,,15687833,Monograph,Language material ; Text,Volume,GBB126999,9781401210816 ; 9781401228323,\"Mina, Denise\",,person,,\"Fuso, Antonio [person] ; Robins, Clem, 1955- [person] ; Mina, Denise [person]\",,,United States of America,New York,DC Comics ; Vertigo Crime,2010,,\"180 pages, chiefly illustrations, 21 cm\",741.5973,YK.2011.a.8826,\"Dysfunctional families--Comic books, strips, etc ; Death--Comic books, strips, etc ; Crime--Comic books, strips, etc\",Comic or graphic novel ; Novel,English,'Suggested for mature readers' -- p [4] of cover\n",
      "../../activities/wk2/Day 3/Pandas/Student Activities/In Class/10-Stu_ComicBooksCSV/Unsolved/Resources/comic_books_expanded.csv:A sickness in the family,,15865424,Monograph,Language material ; Text,Volume,GBB194938,9781848564176,\"Mina, Denise\",,person,,\"Fuso, Antonio [person] ; Robins, Clem, 1955- [person] ; Mina, Denise [person]\",,,England,London,Titan,2011,,\"1 volume, chiefly illustrations, 20 cm\",741.5,,\"Families--Scotland--Comic books, strips, etc--Fiction ; Witchcraft--Comic books, strips, etc--Fiction ; Death--Comic books, strips, etc--Fiction\",Comic or graphic novel ; Detective and mystery ; Fiction,English,Originally published: 2010\n",
      "../../activities/wk2/Day 3/Pandas/Student Activities/In Class/10-Stu_ComicBooksCSV/Unsolved/Resources/comic_books_expanded.csv:Asterix and the Goths,Asterix and the golden sickle ; Asterix omnibus ; Asterix the Gaul,13795324,Monograph,Language material ; Text,Volume,GBA755774,9780752891545 ; 9780752891552,Goscinny,1926-1977,person,,\"Uderzo [person] ; Goscinny, 1926-1977 [person]\",,,England,London,Orion,2007,,\"1 volume, chiefly colour illustrations, 29 cm\",741.5944,,\"Goscinny, 1926-1977--Translations into English ; Obelix (Fictitious character : Uderzo)--Comic books, strips, etc--Juvenile fiction ; Children's stories, French--Translations into English ; Astérix (Fictitious character)--Comic books, strips, etc--Juvenile fiction ; Graphic novels\",Children's fiction ; Comic or graphic novel ; Translations into English,English,\"books 1,2 & 3\"\n",
      "../../activities/wk2/Day 3/Pandas/Student Activities/In Class/10-Stu_ComicBooksCSV/Unsolved/Resources/comic_books_expanded.csv:Asterix and the Goths,Asterix and the golden sickle ; Asterix omnibus ; Asterix the Gaul,15781273,Monograph,Language material ; Text,Volume,GBB140936,9781444004236,Goscinny,1926-1977,person,,\"Uderzo [person] ; Goscinny, 1926-1977 [person]\",,,England,London,Orion,2011,,\"149 pages, chiefly colour illustrations, 29 cm\",741.5944,,\"Goscinny, 1926-1977--Translations into English ; Obelix (Fictitious character : Uderzo)--Comic books, strips, etc--Juvenile fiction ; Children's stories, French--Translations into English ; Astérix (Fictitious character)--Comic books, strips, etc--Juvenile fiction ; Graphic novels\",Children's fiction ; Comic or graphic novel ; Translations into English,English,\n",
      "../../activities/wk2/Day 3/Pandas/Student Activities/In Class/10-Stu_ComicBooksCSV/Unsolved/Resources/comic_books_expanded.csv:Asterix and the golden sickle,,6888947,Monograph,Language material ; Text,Volume,GBA4Z3122,9780752866123 ; 9780752866130,Goscinny,1926-1977,person,,\"Uderzo [person] ; Goscinny, 1926-1977 [person]\",,,England,London,Orion Media,2004,,\"48 pages, colour illustrations, colour map, 29 cm\",741.5,YK.2005.b.2883,\"Obelix (Fictitious character : Uderzo)--Comic books, strips, etc--Juvenile fiction ; Astérix (Fictitious character)--Comic books, strips, etc--Juvenile fiction\",Children's fiction ; Comic or graphic novel ; Novel,English,\"This translation originally published: London: Hodder & Stoughton, 1975\"\n",
      "../../activities/wk2/Day 3/Pandas/Student Activities/In Class/10-Stu_ComicBooksCSV/Unsolved/Resources/comic_books_expanded.csv:Asterix and the golden sickle,Asterix and the Goths ; Asterix omnibus ; Asterix the Gaul,13795324,Monograph,Language material ; Text,Volume,GBA755774,9780752891545 ; 9780752891552,Goscinny,1926-1977,person,,\"Uderzo [person] ; Goscinny, 1926-1977 [person]\",,,England,London,Orion,2007,,\"1 volume, chiefly colour illustrations, 29 cm\",741.5944,,\"Goscinny, 1926-1977--Translations into English ; Obelix (Fictitious character : Uderzo)--Comic books, strips, etc--Juvenile fiction ; Children's stories, French--Translations into English ; Astérix (Fictitious character)--Comic books, strips, etc--Juvenile fiction ; Graphic novels\",Children's fiction ; Comic or graphic novel ; Translations into English,English,\"books 1,2 & 3\"\n",
      "../../activities/wk2/Day 3/Pandas/Student Activities/In Class/10-Stu_ComicBooksCSV/Unsolved/Resources/comic_books_expanded.csv:Asterix and the golden sickle,Asterix and the Goths ; Asterix omnibus ; Asterix the Gaul,15781273,Monograph,Language material ; Text,Volume,GBB140936,9781444004236,Goscinny,1926-1977,person,,\"Uderzo [person] ; Goscinny, 1926-1977 [person]\",,,England,London,Orion,2011,,\"149 pages, chiefly colour illustrations, 29 cm\",741.5944,,\"Goscinny, 1926-1977--Translations into English ; Obelix (Fictitious character : Uderzo)--Comic books, strips, etc--Juvenile fiction ; Children's stories, French--Translations into English ; Astérix (Fictitious character)--Comic books, strips, etc--Juvenile fiction ; Graphic novels\",Children's fiction ; Comic or graphic novel ; Translations into English,English,\n",
      "../../activities/wk2/Day 3/Pandas/Student Activities/In Class/10-Stu_ComicBooksCSV/Unsolved/Resources/comic_books_expanded.csv:Asterix and the golden sickle,Serpe d'or. English,16662829,Monograph,Language material ; Text,Online resource (ebook),GBB435894,9781444013092,Goscinny,1926-1977,person,author,\"Uderzo, artist [person] ; Goscinny, 1926-1977, author [person] ; Hockridge, Derek, translator [person] ; Bell, Anthea, translator [person]\",Asterix,,England,London,Orion,2014,Revised edition,1 online resource,741.5,,\"Obelix (Fictitious character : Uderzo)--Comic books, strips, etc--Juvenile fiction ; Astérix (Fictitious character)--Comic books, strips, etc--Juvenile fiction\",Children's fiction ; Comic or graphic novel ; Novel,English,Additional physical form: Print version. 9780752866123 ; This edition previously issued in print: 2004 ; Translated from the French\n",
      "../../activities/wk2/Day 3/Pandas/Student Activities/In Class/10-Stu_ComicBooksCSV/Unsolved/Resources/comic_books_expanded.csv:Asterix omnibus,Asterix and the Goths ; Asterix and the golden sickle ; Asterix the Gaul,13795324,Monograph,Language material ; Text,Volume,GBA755774,9780752891545 ; 9780752891552,Goscinny,1926-1977,person,,\"Uderzo [person] ; Goscinny, 1926-1977 [person]\",,,England,London,Orion,2007,,\"1 volume, chiefly colour illustrations, 29 cm\",741.5944,,\"Goscinny, 1926-1977--Translations into English ; Obelix (Fictitious character : Uderzo)--Comic books, strips, etc--Juvenile fiction ; Children's stories, French--Translations into English ; Astérix (Fictitious character)--Comic books, strips, etc--Juvenile fiction ; Graphic novels\",Children's fiction ; Comic or graphic novel ; Translations into English,English,\"books 1,2 & 3\"\n",
      "../../activities/wk2/Day 3/Pandas/Student Activities/In Class/10-Stu_ComicBooksCSV/Unsolved/Resources/comic_books_expanded.csv:Asterix omnibus,Asterix and the Goths ; Asterix and the golden sickle ; Asterix the Gaul,15781273,Monograph,Language material ; Text,Volume,GBB140936,9781444004236,Goscinny,1926-1977,person,,\"Uderzo [person] ; Goscinny, 1926-1977 [person]\",,,England,London,Orion,2011,,\"149 pages, chiefly colour illustrations, 29 cm\",741.5944,,\"Goscinny, 1926-1977--Translations into English ; Obelix (Fictitious character : Uderzo)--Comic books, strips, etc--Juvenile fiction ; Children's stories, French--Translations into English ; Astérix (Fictitious character)--Comic books, strips, etc--Juvenile fiction ; Graphic novels\",Children's fiction ; Comic or graphic novel ; Translations into English,English,\n",
      "../../activities/wk2/Day 3/Pandas/Student Activities/In Class/10-Stu_ComicBooksCSV/Unsolved/Resources/comic_books_expanded.csv:Asterix the Gaul,Asterix and the Goths ; Asterix and the golden sickle ; Asterix omnibus,13795324,Monograph,Language material ; Text,Volume,GBA755774,9780752891545 ; 9780752891552,Goscinny,1926-1977,person,,\"Uderzo [person] ; Goscinny, 1926-1977 [person]\",,,England,London,Orion,2007,,\"1 volume, chiefly colour illustrations, 29 cm\",741.5944,,\"Goscinny, 1926-1977--Translations into English ; Obelix (Fictitious character : Uderzo)--Comic books, strips, etc--Juvenile fiction ; Children's stories, French--Translations into English ; Astérix (Fictitious character)--Comic books, strips, etc--Juvenile fiction ; Graphic novels\",Children's fiction ; Comic or graphic novel ; Translations into English,English,\"books 1,2 & 3\"\n",
      "../../activities/wk2/Day 3/Pandas/Student Activities/In Class/10-Stu_ComicBooksCSV/Unsolved/Resources/comic_books_expanded.csv:Asterix the Gaul,Asterix and the Goths ; Asterix and the golden sickle ; Asterix omnibus,15781273,Monograph,Language material ; Text,Volume,GBB140936,9781444004236,Goscinny,1926-1977,person,,\"Uderzo [person] ; Goscinny, 1926-1977 [person]\",,,England,London,Orion,2011,,\"149 pages, chiefly colour illustrations, 29 cm\",741.5944,,\"Goscinny, 1926-1977--Translations into English ; Obelix (Fictitious character : Uderzo)--Comic books, strips, etc--Juvenile fiction ; Children's stories, French--Translations into English ; Astérix (Fictitious character)--Comic books, strips, etc--Juvenile fiction ; Graphic novels\",Children's fiction ; Comic or graphic novel ; Translations into English,English,\n",
      "../../activities/wk2/Day 3/Pandas/Student Activities/In Class/10-Stu_ComicBooksCSV/Unsolved/Resources/comic_books_expanded.csv:\"Brenda Starr, reporter : the collected dailies and Sundays, 1940-1946\",,15753775,Monograph,Language material ; Text,Volume,GBB122064,9781932563801,\"Messick, Dale\",,person,,\"Messick, Dale [person]\",,,United States of America,\"Neshannock, Pennsylvania\",Hermes Press,2012,,\"205 pages, chiefly illustrations (some colour), 20 x 33 cm\",741.56973,LC.37.a.782,\"Comic books, strips, etc--United States\",Comic or graphic novel,English,\n",
      "../../activities/wk2/Day 3/Pandas/Student Activities/In Class/10-Stu_ComicBooksCSV/Unsolved/Resources/comic_books_expanded.csv:Dysgu caru,Lovesick. Welsh,7460003,Monograph,Language material ; Text,Volume,GB9946938,9781859027608,\"Waterhouse, Lynda\",,person,,\"Meek, Elin [person] ; Kent, John, 1937- [person] ; Waterhouse, Lynda [person]\",Graffics Gomer,,Wales,Llandysul,Gwasg Gomer,1999,,\"80 pages, illustrations, 20 cm\",741.5942,YK.2001.a.9595,\"Teachers--Comic books, strips, etc--Fiction ; Fathers and daughters--Comic books, strips, etc--Fiction\",Children's fiction ; Comic or graphic novel ; Fiction ; Novel,Welsh,\"Addasiad Cymraeg gan = Welsh adaptation by: Elin Meek ; Arg. Saesneg gwreiddiol = Original English edition: Llundain: A & C Black (Publishers), 1998\"\n",
      "../../activities/wk2/Day 3/Pandas/Student Activities/In Class/10-Stu_ComicBooksCSV/Unsolved/Resources/comic_books_expanded.csv:Homesick witch,,16489553,Monograph,Language material ; Still image ; Text,Volume,GBB379758,9781434242259,\"O'Reilly, Sean\",1974-,person,author,\"O'Reilly, Sean, 1974-, author [person] ; Arcana Studio, illustrator [organisation]\",Mighty Mighty Monsters,,United States of America,\"Mankato, Minnesota\",Stone Arch,2013,,\"1 volume, chiefly colour illustrations, 24 cm\",741.5,,\"Homesickness--Comic books, strips, etc--Juvenile fiction ; Witches--Comic books, strips, etc--Juvenile fiction ; Friendship--Comic books, strips, etc--Juvenile fiction ; Monsters--Comic books, strips, etc--Juvenile fiction\",Children's fiction ; Comic or graphic novel,English,\n",
      "../../activities/wk2/Day 3/Pandas/Student Activities/In Class/10-Stu_ComicBooksCSV/Unsolved/Resources/comic_books_expanded.csv:Homesick witch,,16855936,Monograph,Language material ; Still image ; Text,Volume,GBB493094,9781406279917,\"O'Reilly, Sean\",1974-,person,author,\"O'Reilly, Sean, 1974-, author [person] ; Arcana Studio, artist [organisation]\",Mighty Mighty Monsters,,England,London,Raintree,2015,,\"42 pages, chiefly colour illustrations, 23 cm\",741.5,YKL.2016.a.8673,\"Homesickness--Comic books, strips, etc--Juvenile fiction ; Witches--Comic books, strips, etc--Juvenile fiction ; Friendship--Comic books, strips, etc--Juvenile fiction ; Monsters--Comic books, strips, etc--Juvenile fiction\",Children's fiction ; Comic or graphic novel,English,\"Originally published: Mankato, Minnesota: Stone Arch, 2013\"\n",
      "../../activities/wk2/Day 3/Pandas/Student Activities/In Class/10-Stu_ComicBooksCSV/Unsolved/Resources/comic_books_expanded.csv:Lovesick. Welsh,Dysgu caru,7460003,Monograph,Language material ; Text,Volume,GB9946938,9781859027608,\"Waterhouse, Lynda\",,person,,\"Meek, Elin [person] ; Kent, John, 1937- [person] ; Waterhouse, Lynda [person]\",Graffics Gomer,,Wales,Llandysul,Gwasg Gomer,1999,,\"80 pages, illustrations, 20 cm\",741.5942,YK.2001.a.9595,\"Teachers--Comic books, strips, etc--Fiction ; Fathers and daughters--Comic books, strips, etc--Fiction\",Children's fiction ; Comic or graphic novel ; Fiction ; Novel,Welsh,\"Addasiad Cymraeg gan = Welsh adaptation by: Elin Meek ; Arg. Saesneg gwreiddiol = Original English edition: Llundain: A & C Black (Publishers), 1998\"\n",
      "../../activities/wk2/Day 3/Pandas/Student Activities/In Class/10-Stu_ComicBooksCSV/Unsolved/Resources/comic_books_expanded.csv:Serpe d'or. English,Asterix and the golden sickle,16662829,Monograph,Language material ; Text,Online resource (ebook),GBB435894,9781444013092,Goscinny,1926-1977,person,author,\"Uderzo, artist [person] ; Goscinny, 1926-1977, author [person] ; Hockridge, Derek, translator [person] ; Bell, Anthea, translator [person]\",Asterix,,England,London,Orion,2014,Revised edition,1 online resource,741.5,,\"Obelix (Fictitious character : Uderzo)--Comic books, strips, etc--Juvenile fiction ; Astérix (Fictitious character)--Comic books, strips, etc--Juvenile fiction\",Children's fiction ; Comic or graphic novel ; Novel,English,Additional physical form: Print version. 9780752866123 ; This edition previously issued in print: 2004 ; Translated from the French\n",
      "../../activities/wk2/Day 3/Pandas/Student Activities/In Class/10-Stu_ComicBooksCSV/Unsolved/Output/books_clean.csv:9781848564169,A sickness in the family,,\"Mina, Denise\",\"Fuso, Antonio [person] ; Mina, Denise [person]\",England,London,Titan,2010\n",
      "../../activities/wk2/Day 3/Pandas/Student Activities/In Class/10-Stu_ComicBooksCSV/Unsolved/Output/books_clean.csv:9781401210816 ; 9781401228323,A sickness in the family,,\"Mina, Denise\",\"Fuso, Antonio [person] ; Robins, Clem, 1955- [person] ; Mina, Denise [person]\",United States of America,New York,DC Comics ; Vertigo Crime,2010\n",
      "../../activities/wk2/Day 3/Pandas/Student Activities/In Class/10-Stu_ComicBooksCSV/Unsolved/Output/books_clean.csv:9781848564176,A sickness in the family,,\"Mina, Denise\",\"Fuso, Antonio [person] ; Robins, Clem, 1955- [person] ; Mina, Denise [person]\",England,London,Titan,2011\n",
      "../../activities/wk2/Day 3/Pandas/Student Activities/In Class/10-Stu_ComicBooksCSV/Unsolved/Output/books_clean.csv:9780752891545 ; 9780752891552,Asterix and the Goths,Asterix and the golden sickle ; Asterix omnibus ; Asterix the Gaul,Goscinny,\"Uderzo [person] ; Goscinny, 1926-1977 [person]\",England,London,Orion,2007\n",
      "../../activities/wk2/Day 3/Pandas/Student Activities/In Class/10-Stu_ComicBooksCSV/Unsolved/Output/books_clean.csv:9781444004236,Asterix and the Goths,Asterix and the golden sickle ; Asterix omnibus ; Asterix the Gaul,Goscinny,\"Uderzo [person] ; Goscinny, 1926-1977 [person]\",England,London,Orion,2011\n",
      "../../activities/wk2/Day 3/Pandas/Student Activities/In Class/10-Stu_ComicBooksCSV/Unsolved/Output/books_clean.csv:9780752866123 ; 9780752866130,Asterix and the golden sickle,,Goscinny,\"Uderzo [person] ; Goscinny, 1926-1977 [person]\",England,London,Orion Media,2004\n",
      "../../activities/wk2/Day 3/Pandas/Student Activities/In Class/10-Stu_ComicBooksCSV/Unsolved/Output/books_clean.csv:9780752891545 ; 9780752891552,Asterix and the golden sickle,Asterix and the Goths ; Asterix omnibus ; Asterix the Gaul,Goscinny,\"Uderzo [person] ; Goscinny, 1926-1977 [person]\",England,London,Orion,2007\n",
      "../../activities/wk2/Day 3/Pandas/Student Activities/In Class/10-Stu_ComicBooksCSV/Unsolved/Output/books_clean.csv:9781444004236,Asterix and the golden sickle,Asterix and the Goths ; Asterix omnibus ; Asterix the Gaul,Goscinny,\"Uderzo [person] ; Goscinny, 1926-1977 [person]\",England,London,Orion,2011\n",
      "../../activities/wk2/Day 3/Pandas/Student Activities/In Class/10-Stu_ComicBooksCSV/Unsolved/Output/books_clean.csv:9781444013092,Asterix and the golden sickle,Serpe d'or. English,Goscinny,\"Uderzo, artist [person] ; Goscinny, 1926-1977, author [person] ; Hockridge, Derek, translator [person] ; Bell, Anthea, translator [person]\",England,London,Orion,2014\n",
      "../../activities/wk2/Day 3/Pandas/Student Activities/In Class/10-Stu_ComicBooksCSV/Unsolved/Output/books_clean.csv:9780752891545 ; 9780752891552,Asterix omnibus,Asterix and the Goths ; Asterix and the golden sickle ; Asterix the Gaul,Goscinny,\"Uderzo [person] ; Goscinny, 1926-1977 [person]\",England,London,Orion,2007\n",
      "../../activities/wk2/Day 3/Pandas/Student Activities/In Class/10-Stu_ComicBooksCSV/Unsolved/Output/books_clean.csv:9781444004236,Asterix omnibus,Asterix and the Goths ; Asterix and the golden sickle ; Asterix the Gaul,Goscinny,\"Uderzo [person] ; Goscinny, 1926-1977 [person]\",England,London,Orion,2011\n",
      "../../activities/wk2/Day 3/Pandas/Student Activities/In Class/10-Stu_ComicBooksCSV/Unsolved/Output/books_clean.csv:9780752891545 ; 9780752891552,Asterix the Gaul,Asterix and the Goths ; Asterix and the golden sickle ; Asterix omnibus,Goscinny,\"Uderzo [person] ; Goscinny, 1926-1977 [person]\",England,London,Orion,2007\n",
      "../../activities/wk2/Day 3/Pandas/Student Activities/In Class/10-Stu_ComicBooksCSV/Unsolved/Output/books_clean.csv:9781444004236,Asterix the Gaul,Asterix and the Goths ; Asterix and the golden sickle ; Asterix omnibus,Goscinny,\"Uderzo [person] ; Goscinny, 1926-1977 [person]\",England,London,Orion,2011\n",
      "../../activities/wk2/Day 3/Pandas/Student Activities/In Class/10-Stu_ComicBooksCSV/Unsolved/Output/books_clean.csv:9781932563801,\"Brenda Starr, reporter : the collected dailies and Sundays, 1940-1946\",,\"Messick, Dale\",\"Messick, Dale [person]\",United States of America,\"Neshannock, Pennsylvania\",Hermes Press,2012\n",
      "../../activities/wk2/Day 3/Pandas/Student Activities/In Class/10-Stu_ComicBooksCSV/Unsolved/Output/books_clean.csv:9781859027608,Dysgu caru,Lovesick. Welsh,\"Waterhouse, Lynda\",\"Meek, Elin [person] ; Kent, John, 1937- [person] ; Waterhouse, Lynda [person]\",Wales,Llandysul,Gwasg Gomer,1999\n",
      "../../activities/wk2/Day 3/Pandas/Student Activities/In Class/10-Stu_ComicBooksCSV/Unsolved/Output/books_clean.csv:9781434242259,Homesick witch,,\"O'Reilly, Sean\",\"O'Reilly, Sean, 1974-, author [person] ; Arcana Studio, illustrator [organisation]\",United States of America,\"Mankato, Minnesota\",Stone Arch,2013\n",
      "../../activities/wk2/Day 3/Pandas/Student Activities/In Class/10-Stu_ComicBooksCSV/Unsolved/Output/books_clean.csv:9781406279917,Homesick witch,,\"O'Reilly, Sean\",\"O'Reilly, Sean, 1974-, author [person] ; Arcana Studio, artist [organisation]\",England,London,Raintree,2015\n",
      "../../activities/wk2/Day 3/Pandas/Student Activities/In Class/10-Stu_ComicBooksCSV/Unsolved/Output/books_clean.csv:9781859027608,Lovesick. Welsh,Dysgu caru,\"Waterhouse, Lynda\",\"Meek, Elin [person] ; Kent, John, 1937- [person] ; Waterhouse, Lynda [person]\",Wales,Llandysul,Gwasg Gomer,1999\n",
      "../../activities/wk2/Day 3/Pandas/Student Activities/In Class/10-Stu_ComicBooksCSV/Unsolved/Output/books_clean.csv:9781444013092,Serpe d'or. English,Asterix and the golden sickle,Goscinny,\"Uderzo, artist [person] ; Goscinny, 1926-1977, author [person] ; Hockridge, Derek, translator [person] ; Bell, Anthea, translator [person]\",England,London,Orion,2014\n",
      "../../activities/wk2/Day 3/Pandas/Instructor Demos/06-Ins_GroupBy/Solved/Resources/ufoSightings.csv:10/18/2002 21:30,memphis,in,us,unknown,5,5 seconds,Bright shooting object passes above clouds&#44 several people get sick the nest day,10/28/2002,38.4833333,-85.7616667\n",
      "../../activities/wk2/Day 3/Pandas/Instructor Demos/06-Ins_GroupBy/Solved/Resources/ufoSightings.csv:11/18/2011 0:30,brandon,fl,us,other,5,approx 5 seconds,I saw a glowing&#44 boomerang/sickle shaped object in the sky over Brandon,12/12/2011,27.9375,-82.2861111\n",
      "../../activities/wk2/Day 3/Pandas/Instructor Demos/06-Ins_GroupBy/Solved/Resources/ufoSightings.csv:1/12/2006 5:54,sicklerville,nj,us,light,120,2 min.,Very bright light or lights in close proximity seemed to hover over South Jersey in the Sicklerville area.,2/14/2006,39.7172222,-74.9697222\n",
      "../../activities/wk2/Day 3/Pandas/Instructor Demos/06-Ins_GroupBy/Solved/Resources/ufoSightings.csv:2/2/2013 0:00,sicklerville,nj,us,light,300,5 minutes,Large orange lights in formation over south jersey.,11/11/2013,39.7172222,-74.9697222\n",
      "../../activities/wk2/Day 3/Pandas/Instructor Demos/06-Ins_GroupBy/Solved/Resources/ufoSightings.csv:4/20/2008 22:00,cape coral,fl,us,disk,3600,1 hour,A small gray saucer on golf course&#44  they where pulling at me they wanted me to go with them I got very sick from attack  n,10/30/2012,26.5625,-81.9497222\n",
      "../../activities/wk2/Day 3/Pandas/Instructor Demos/06-Ins_GroupBy/Solved/Resources/ufoSightings.csv:4/27/2013 21:45,sicklerville,nj,us,light,300,5 minutes,Red lights and grey objects floating in and across the sky after disappearing.,5/15/2013,39.7172222,-74.9697222\n",
      "../../activities/wk2/Day 3/Pandas/Instructor Demos/06-Ins_GroupBy/Solved/Resources/ufoSightings.csv:4/9/2005 21:33,sicklerville,nj,us,triangle,120,2 min,I noticed in the sky this Triangle  Yellow Light moving slowly around a little forest that we have between our complex (Asten Woods),4/16/2005,39.7172222,-74.9697222\n",
      "../../activities/wk2/Day 3/Pandas/Instructor Demos/06-Ins_GroupBy/Solved/Resources/ufoSightings.csv:5/19/2012 22:00,sicklerville,nj,us,other,180,3 minutes,((HOAX??))  Two flying green human looking objects  with a slender looking female body&#44 with butterfly wings arms and leggs.,5/29/2012,39.7172222,-74.9697222\n",
      "../../activities/wk2/Day 3/Pandas/Instructor Demos/06-Ins_GroupBy/Solved/Resources/ufoSightings.csv:5/5/1992 4:00,orlando,fl,us,,300,5 minutes,Back in 1992 I was workin at a dining facility on the Naval Base in Orlando&#44 Florida. One morning&#44 I had to call in sick but because I,11/8/2003,28.5380556,-81.3794444\n",
      "../../activities/wk2/Day 3/Pandas/Instructor Demos/06-Ins_GroupBy/Solved/Resources/ufoSightings.csv:6/11/2007 3:00,oxford,ny,us,circle,30,20-30 seconds,I was sleeping in the downstairs guestroom of our farmhouse since my husband was sick in our bedroom upstairs. In a partial sleep&#44 I he,10/31/2008,42.4419444,-75.5980556\n",
      "../../activities/wk2/Day 3/Pandas/Instructor Demos/06-Ins_GroupBy/Solved/Resources/ufoSightings.csv:6/23/2012 23:00,hoosick,ny,us,light,3600,1 hour,Bright star like object moving across the sky&#44 then fading and disappearing.,7/4/2012,42.8625,-73.3286111\n",
      "../../activities/wk2/Day 3/Pandas/Instructor Demos/06-Ins_GroupBy/Solved/Resources/ufoSightings.csv:6/6/2001 12:30,cusick,wa,us,cigar,3000,45 to 50 minutes,I was walking in a field when at my three o&#39clock I saw a UFO.,8/5/2001,48.3375,-117.2961111\n",
      "../../activities/wk2/Day 3/Pandas/Instructor Demos/06-Ins_GroupBy/Solved/Resources/ufoSightings.csv:7/18/2010 22:00,sicklerville,nj,us,light,3600,1 hour,flashing lights swirling in the night.  ((NUFORC Note:  From witness #2.  Possible sighting of Venus??  PD)),7/19/2010,39.7172222,-74.9697222\n",
      "../../activities/wk2/Day 3/Pandas/Instructor Demos/06-Ins_GroupBy/Solved/Resources/ufoSightings.csv:7/18/2010 22:00,sicklerville,nj,us,light,3600,1 hour,Flashing lights swirling in the night.  ((NUFORC Note:  Venus in the western sky??  Date is flawed.  Possible hoax.  PD)),7/19/2010,39.7172222,-74.9697222\n",
      "../../activities/wk2/Day 3/Pandas/Instructor Demos/06-Ins_GroupBy/Solved/Resources/ufoSightings.csv:7/21/2006 16:00,middletown,oh,us,other,30,20-30 seconds,I saw two black objects  --a large bug shape and a sickle looking shape  parade across the sky one cloudy afternoon.,10/30/2006,39.515,-84.3983333\n",
      "../../activities/wk2/Day 3/Pandas/Instructor Demos/06-Ins_GroupBy/Solved/Resources/ufoSightings.csv:7/30/2012 1:00,sicklerville,nj,us,flash,30,30 seconds,Bright white lights flashing then faded away with an orange glow,10/30/2012,39.7172222,-74.9697222\n",
      "../../activities/wk2/Day 3/Pandas/Instructor Demos/06-Ins_GroupBy/Solved/Resources/ufoSightings.csv:8/11/2013 23:30,sicklerville,nj,us,diamond,10,10 seconds,First time I ever witnesed something like that.,8/30/2013,39.7172222,-74.9697222\n",
      "../../activities/wk2/Day 3/Pandas/Instructor Demos/06-Ins_GroupBy/Solved/Resources/ufoSightings.csv:8/19/2007 19:45,vacaville,ca,us,changing,120,2 minutes,Bright white kite shaped light morphs into sickle shape as it turns before flattening out over Vacaville Hills on Aug. 19&#44 7:45pm.,10/8/2007,38.3566667,-121.9866667\n",
      "../../activities/wk2/Day 3/Pandas/Instructor Demos/06-Ins_GroupBy/Solved/Resources/ufoSightings.csv:8/4/2012 21:30,sicklerville,nj,us,sphere,240,4 minutes,7 Red/White pulsating spheres moving in a line parallel to the ground apx. 4 minutes,8/19/2012,39.7172222,-74.9697222\n",
      "../../activities/wk2/Day 3/Pandas/Instructor Demos/06-Ins_GroupBy/Solved/Resources/ufoSightings.csv:9/1/1979 22:00,sickles,ok,us,triangle,600,ten minutes,It followed behind us for three miles.  Appeared to be triangle shape with three lights.  Made no Sound.,4/16/2005,35.3627778,-98.4475\n",
      "../../activities/wk2/Day 3/Pandas/Instructor Demos/06-Ins_GroupBy/Solved/Resources/ufoSightings.csv:9/18/2004 1:00,marion,mi,us,disk,60,1min,round shiny object overhead about 1000 ft and climbed in a stairstep manner like a homesick angel(very fast) and was gone,2/24/2005,44.1025,-85.1469444\n",
      "../../activities/wk2/Day 3/Pandas/Instructor Demos/06-Ins_GroupBy/Solved/Resources/ufoSightings.csv:9/6/2013 1:23,sicklerville,nj,us,fireball,180,3 minutes,8 Formation fireballs with 2 distinct lights IN each one then a 9th that came later.,9/30/2013,39.7172222,-74.9697222\n",
      "Binary file ../../courseware/Hartford 1.1.pdf matches\n"
     ]
    }
   ],
   "source": [
    "!grep -r \"sick\" ../../"
   ]
  },
  {
   "cell_type": "markdown",
   "id": "966c8ccb",
   "metadata": {},
   "source": [
    "Displays information about all running processes."
   ]
  },
  {
   "cell_type": "code",
   "execution_count": 64,
   "id": "a7f1a46c",
   "metadata": {},
   "outputs": [
    {
     "name": "stdout",
     "output_type": "stream",
     "text": [
      "USER         PID %CPU %MEM    VSZ   RSS TTY      STAT START   TIME COMMAND\n",
      "codespa+       1  0.0  0.0   1136   640 ?        Ss   13:44   0:00 /sbin/docker-\n",
      "codespa+       7  0.0  0.0   7236  1664 ?        S    13:44   0:00 sleep infinit\n",
      "root          22  0.0  0.0  12196  3352 ?        Ss   13:44   0:00 sshd: /usr/sb\n",
      "codespa+     377  0.0  0.0   2616  1408 ?        Ss   13:44   0:00 /bin/sh\n",
      "root         403  0.0  0.0   2616  1536 ?        Ss   13:44   0:00 /bin/sh\n",
      "codespa+     564  0.0  0.0   2624  1536 ?        Ss   13:44   0:00 sh /home/code\n",
      "codespa+     573  1.1  1.7 1363048 140548 ?      Sl   13:44   0:13 /vscode/bin/l\n",
      "codespa+     594  8.4 18.8 67433712 1532272 ?    Sl   13:44   1:33 /vscode/bin/l\n",
      "codespa+     606  0.7  1.0 1372184 84396 ?       Sl   13:45   0:07 /vscode/bin/l\n",
      "codespa+    1086  0.1  0.7 1049220 61772 ?       Sl   13:45   0:01 /vscode/bin/l\n",
      "codespa+    1213  0.0  0.1  16496 11520 pts/0    Ss+  13:45   0:00 /bin/bash --i\n",
      "codespa+    1677  0.0  0.6 995044 54500 ?        Sl   13:45   0:00 /vscode/bin/l\n",
      "codespa+    1697  0.0  0.0   4184  3428 ?        S    13:45   0:00 /home/codespa\n",
      "codespa+    1939  0.0  0.1  16496 11136 pts/1    Ss+  13:45   0:00 /bin/bash --i\n",
      "root        2426  0.0  1.0 1983440 84736 ?       Sl   13:45   0:00 dockerd --dns\n",
      "root        2433  0.0  0.5 1798836 46560 ?       Ssl  13:45   0:00 containerd --\n",
      "codespa+    2465  0.0  0.9 1014036 73816 ?       Sl   13:45   0:00 /vscode/bin/l\n",
      "codespa+    2468  0.1  0.5 201340 48404 ?        Sl   13:45   0:02 /home/codespa\n",
      "codespa+    2645  5.8  9.7 24559560 795516 ?     Sl   13:45   1:02 /vscode/bin/l\n",
      "codespa+    2654  0.2  0.7 815688 63004 ?        Sl   13:45   0:02 /home/codespa\n",
      "codespa+    2657  0.5  4.9 1628024 403204 ?      Sl   13:45   0:05 /vscode/bin/l\n",
      "codespa+    2723  0.0  0.0   2616  1536 ?        Ss   13:45   0:00 /bin/sh\n",
      "root        2743  0.0  0.0   2616  1408 ?        Ss   13:45   0:00 /bin/sh\n",
      "codespa+    3719  0.0  0.7 996704 59868 ?        Sl   13:47   0:00 /vscode/bin/l\n",
      "codespa+   10061  0.0  0.0  10624  3200 pts/2    Rs+  14:03   0:00 ps aux\n"
     ]
    }
   ],
   "source": [
    "!ps aux "
   ]
  },
  {
   "cell_type": "markdown",
   "id": "b7a4e7c2",
   "metadata": {},
   "source": [
    "Displays information about running processes and filters the output to show only those containing the word \"bash\"."
   ]
  },
  {
   "cell_type": "code",
   "execution_count": 65,
   "id": "71bd4d79",
   "metadata": {},
   "outputs": [
    {
     "name": "stdout",
     "output_type": "stream",
     "text": [
      "codespa+    1213  0.0  0.1  16496 11520 pts/0    Ss+  13:45   0:00 /bin/bash --init-file /vscode/bin/linux-x64/f1e16e1e6214d7c44d078b1f0607b2388f29d729/out/vs/workbench/contrib/terminal/browser/media/shellIntegration-bash.sh\n",
      "codespa+    1939  0.0  0.1  16496 11136 pts/1    Ss+  13:45   0:00 /bin/bash --init-file /vscode/bin/linux-x64/f1e16e1e6214d7c44d078b1f0607b2388f29d729/out/vs/workbench/contrib/terminal/browser/media/shellIntegration-bash.sh\n",
      "codespa+   10209 27.0  0.0   8628  3200 pts/2    Ss+  14:03   0:00 /bin/bash -c ps aux | grep \"bash\"\n",
      "codespa+   10211  0.0  0.0   8172  2432 pts/2    S+   14:03   0:00 grep bash\n"
     ]
    }
   ],
   "source": [
    "!ps aux | grep \"bash\""
   ]
  },
  {
   "cell_type": "code",
   "execution_count": 70,
   "id": "f7444b4c",
   "metadata": {},
   "outputs": [
    {
     "name": "stdout",
     "output_type": "stream",
     "text": [
      "product.csv\n",
      "redacted_reviews.csv\n",
      "review.csv\n",
      "states.csv\n",
      "test.csv\n"
     ]
    }
   ],
   "source": [
    "!ls | grep -i \"csv\""
   ]
  },
  {
   "cell_type": "markdown",
   "id": "993cd562",
   "metadata": {},
   "source": [
    "### Activity"
   ]
  },
  {
   "cell_type": "code",
   "execution_count": 83,
   "id": "7d06885d",
   "metadata": {},
   "outputs": [
    {
     "name": "stdout",
     "output_type": "stream",
     "text": [
      "\u001b[01;34m.\u001b[00m\n",
      "├── \u001b[01;34mApp\u001b[00m\n",
      "│   └── states.csv\n",
      "├── \u001b[01;34mGREP\u001b[00m\n",
      "│   ├── hamlet.txt\n",
      "│   ├── linux_and_bash.ipynb\n",
      "│   └── poem\n",
      "├── Regular Expression.ipynb\n",
      "├── \u001b[01;34mTEST\u001b[00m\n",
      "│   └── test.csv\n",
      "├── hello.txt\n",
      "├── product.csv\n",
      "├── redacted_reviews.csv\n",
      "└── review.csv\n",
      "\n",
      "3 directories, 10 files\n"
     ]
    }
   ],
   "source": [
    "!tree"
   ]
  },
  {
   "cell_type": "code",
   "execution_count": 100,
   "id": "4445c84d",
   "metadata": {},
   "outputs": [
    {
     "name": "stdout",
     "output_type": "stream",
     "text": [
      "Gareth,23\n",
      "Gary,18\n",
      "Roger,2\n"
     ]
    }
   ],
   "source": [
    "!grep -i [G] MyWork/TEST/test.csv"
   ]
  },
  {
   "cell_type": "code",
   "execution_count": 106,
   "id": "d5c34397",
   "metadata": {},
   "outputs": [
    {
     "name": "stdout",
     "output_type": "stream",
     "text": [
      "R1,\"Great camera quality, but battery life could be better.\"\n",
      "R4,Disappointed with the build quality. Feels cheap.\n",
      "R5,Fantastic noise cancellation and sound quality.\n",
      "R9,Sound quality is amazing for its size.\n",
      "R16,Image quality is poor in low light conditions.\n"
     ]
    }
   ],
   "source": [
    "!grep \"quality\" review.csv\n"
   ]
  },
  {
   "cell_type": "code",
   "execution_count": 108,
   "id": "80beb020",
   "metadata": {},
   "outputs": [
    {
     "name": "stdout",
     "output_type": "stream",
     "text": [
      "FRANCISCO at his post. Enter to him BERNARDO\n",
      "FRANCISCO\n",
      "FRANCISCO\n",
      "FRANCISCO\n",
      "'Tis now struck twelve; get thee to bed, Francisco.\n",
      "FRANCISCO\n",
      "FRANCISCO\n",
      "FRANCISCO\n",
      "FRANCISCO\n",
      "FRANCISCO\n"
     ]
    }
   ],
   "source": [
    "!grep -i \"francisco\" GREP/hamlet.txt\n"
   ]
  },
  {
   "cell_type": "code",
   "execution_count": 109,
   "id": "aa2a573e",
   "metadata": {},
   "outputs": [
    {
     "name": "stdout",
     "output_type": "stream",
     "text": [
      "3\n"
     ]
    }
   ],
   "source": [
    "!grep -ci \"battery\" review.csv"
   ]
  },
  {
   "cell_type": "code",
   "execution_count": 113,
   "id": "63b88f1a",
   "metadata": {},
   "outputs": [
    {
     "name": "stdout",
     "output_type": "stream",
     "text": [
      "4:R3,Excellent performance and battery life. Highly recommend.\n"
     ]
    }
   ],
   "source": [
    "!grep -ni \"excellent\" review.csv"
   ]
  },
  {
   "cell_type": "code",
   "execution_count": 122,
   "id": "51a0f71a",
   "metadata": {},
   "outputs": [
    {
     "name": "stdout",
     "output_type": "stream",
     "text": [
      "4185\n"
     ]
    }
   ],
   "source": [
    "!grep -vc  \"the\" GREP/hamlet.txt"
   ]
  },
  {
   "cell_type": "code",
   "execution_count": 123,
   "id": "0586d6b3",
   "metadata": {},
   "outputs": [
    {
     "name": "stdout",
     "output_type": "stream",
     "text": [
      "Usage: grep [OPTION]... PATTERNS [FILE]...\n",
      "Search for PATTERNS in each FILE.\n",
      "Example: grep -i 'hello world' menu.h main.c\n",
      "PATTERNS can contain multiple patterns separated by newlines.\n",
      "\n",
      "Pattern selection and interpretation:\n",
      "  -E, --extended-regexp     PATTERNS are extended regular expressions\n",
      "  -F, --fixed-strings       PATTERNS are strings\n",
      "  -G, --basic-regexp        PATTERNS are basic regular expressions\n",
      "  -P, --perl-regexp         PATTERNS are Perl regular expressions\n",
      "  -e, --regexp=PATTERNS     use PATTERNS for matching\n",
      "  -f, --file=FILE           take PATTERNS from FILE\n",
      "  -i, --ignore-case         ignore case distinctions in patterns and data\n",
      "      --no-ignore-case      do not ignore case distinctions (default)\n",
      "  -w, --word-regexp         match only whole words\n",
      "  -x, --line-regexp         match only whole lines\n",
      "  -z, --null-data           a data line ends in 0 byte, not newline\n",
      "\n",
      "Miscellaneous:\n",
      "  -s, --no-messages         suppress error messages\n",
      "  -v, --invert-match        select non-matching lines\n",
      "  -V, --version             display version information and exit\n",
      "      --help                display this help text and exit\n",
      "\n",
      "Output control:\n",
      "  -m, --max-count=NUM       stop after NUM selected lines\n",
      "  -b, --byte-offset         print the byte offset with output lines\n",
      "  -n, --line-number         print line number with output lines\n",
      "      --line-buffered       flush output on every line\n",
      "  -H, --with-filename       print file name with output lines\n",
      "  -h, --no-filename         suppress the file name prefix on output\n",
      "      --label=LABEL         use LABEL as the standard input file name prefix\n",
      "  -o, --only-matching       show only nonempty parts of lines that match\n",
      "  -q, --quiet, --silent     suppress all normal output\n",
      "      --binary-files=TYPE   assume that binary files are TYPE;\n",
      "                            TYPE is 'binary', 'text', or 'without-match'\n",
      "  -a, --text                equivalent to --binary-files=text\n",
      "  -I                        equivalent to --binary-files=without-match\n",
      "  -d, --directories=ACTION  how to handle directories;\n",
      "                            ACTION is 'read', 'recurse', or 'skip'\n",
      "  -D, --devices=ACTION      how to handle devices, FIFOs and sockets;\n",
      "                            ACTION is 'read' or 'skip'\n",
      "  -r, --recursive           like --directories=recurse\n",
      "  -R, --dereference-recursive  likewise, but follow all symlinks\n",
      "      --include=GLOB        search only files that match GLOB (a file pattern)\n",
      "      --exclude=GLOB        skip files that match GLOB\n",
      "      --exclude-from=FILE   skip files that match any file pattern from FILE\n",
      "      --exclude-dir=GLOB    skip directories that match GLOB\n",
      "  -L, --files-without-match  print only names of FILEs with no selected lines\n",
      "  -l, --files-with-matches  print only names of FILEs with selected lines\n",
      "  -c, --count               print only a count of selected lines per FILE\n",
      "  -T, --initial-tab         make tabs line up (if needed)\n",
      "  -Z, --null                print 0 byte after FILE name\n",
      "\n",
      "Context control:\n",
      "  -B, --before-context=NUM  print NUM lines of leading context\n",
      "  -A, --after-context=NUM   print NUM lines of trailing context\n",
      "  -C, --context=NUM         print NUM lines of output context\n",
      "  -NUM                      same as --context=NUM\n",
      "      --color[=WHEN],\n",
      "      --colour[=WHEN]       use markers to highlight the matching strings;\n",
      "                            WHEN is 'always', 'never', or 'auto'\n",
      "  -U, --binary              do not strip CR characters at EOL (MSDOS/Windows)\n",
      "\n",
      "When FILE is '-', read standard input.  With no FILE, read '.' if\n",
      "recursive, '-' otherwise.  With fewer than two FILEs, assume -h.\n",
      "Exit status is 0 if any line (or file if -L) is selected, 1 otherwise;\n",
      "if any error occurs and -q is not given, the exit status is 2.\n",
      "\n",
      "Report bugs to: bug-grep@gnu.org\n",
      "GNU grep home page: <http://www.gnu.org/software/grep/>\n",
      "General help using GNU software: <https://www.gnu.org/gethelp/>\n"
     ]
    }
   ],
   "source": [
    "!grep --help"
   ]
  },
  {
   "cell_type": "code",
   "execution_count": 128,
   "id": "4c3ff359",
   "metadata": {},
   "outputs": [
    {
     "name": "stdout",
     "output_type": "stream",
     "text": [
      "R3,Excellent performance and battery life. Highly recommend.\n",
      "R8,Love the design and functionality. Would buy again.\n"
     ]
    }
   ],
   "source": [
    "!grep -E \"design|performance\" review.csv\n"
   ]
  },
  {
   "cell_type": "code",
   "execution_count": 133,
   "id": "23c238ba",
   "metadata": {},
   "outputs": [
    {
     "name": "stdout",
     "output_type": "stream",
     "text": [
      "R1,\"Great camera quality, but battery life could be better.\"\n",
      "R3,Excellent performance and battery life. Highly recommend.\n",
      "R10,Battery life is too short for outdoor use.\n"
     ]
    }
   ],
   "source": [
    "!grep -i \"battery\" review.csv\n"
   ]
  },
  {
   "cell_type": "code",
   "execution_count": 163,
   "id": "7cc7bb82",
   "metadata": {},
   "outputs": [
    {
     "name": "stdout",
     "output_type": "stream",
     "text": [
      "../../activities/wk2/Day 2/In class/aws.cfg:aws_secret_key=\n",
      "../../activities/wk2/Day 3/In class/aws.cfg:aws_secret_key=\n"
     ]
    }
   ],
   "source": [
    "!find ../../ -name \"*.cfg\" -exec grep -i \"secret\" {} + "
   ]
  },
  {
   "cell_type": "code",
   "execution_count": 148,
   "id": "6211745b",
   "metadata": {},
   "outputs": [
    {
     "name": "stdout",
     "output_type": "stream",
     "text": [
      "./GREP/hamlet.txt:0\n",
      "./hello.txt:1\n"
     ]
    }
   ],
   "source": [
    "!find . -name \"*.txt\" -exec grep -ic \"hello\" {} +"
   ]
  },
  {
   "cell_type": "code",
   "execution_count": 158,
   "id": "cf860c59",
   "metadata": {},
   "outputs": [
    {
     "name": "stdout",
     "output_type": "stream",
     "text": [
      "R1,\"Great camera quality, but battery life could be better.\"\n",
      "R2,Very satisfied with this smartphone. Worth every penny.\n",
      "R3,Excellent performance and battery life. Highly recommend.\n",
      "R4,Disappointed with the build quality. Feels cheap.\n",
      "R5,Fantastic noise cancellation and sound quality.\n",
      "R6,Not comfortable to wear for long periods.\n",
      "R7,Great health tracking features but too expensive.\n",
      "R8,Love the design and functionality. Would buy again.\n",
      "R9,Sound quality is amazing for its size.\n",
      "R10,Battery life is too short for outdoor use.\n",
      "R11,Crisp and clear display. Perfect for gaming.\n",
      "R12,Experienced some dead pixels after a week.\n",
      "R14,Stopped working after a month of use.\n",
      "R15,Compact and takes great pictures.\n",
      "R16,Image quality is poor in low light conditions.\n",
      "R17,Very comfortable and responsive keys.\n",
      "R18,Keys started sticking after a week of use.\n",
      "R20,Overheats when charging multiple devices at once.\n"
     ]
    }
   ],
   "source": [
    "!grep -E \"b*o\" review.csv"
   ]
  },
  {
   "cell_type": "code",
   "execution_count": 167,
   "id": "a78cfc78",
   "metadata": {},
   "outputs": [
    {
     "name": "stdout",
     "output_type": "stream",
     "text": [
      "PRODUCT ID,PRODUCT DESCRIPTION,REVIEW ID\n",
      "1,High-quality smartphone with excellent camera.,R1\n",
      "1,High-quality smartphone with excellent camera.,R2\n",
      "2,Durable laptop with long BATTERY life.,R3\n",
      "2,Durable laptop with long BATTERY life.,R4\n",
      "3,Wireless noise-canceling AirPods.,R5\n",
      "3,Wireless noise-canceling AirPods.,R6\n",
      "4,Smartwatch with various health tracking features.,R7\n",
      "4,Smartwatch with various health tracking features.,R8\n",
      "5,Portable Bluetooth speaker with rich sound.,R9\n",
      "5,Portable Bluetooth speaker with rich sound.,R10\n",
      "6,High-resolution monitor with wide viewing angles.,R11\n",
      "6,High-resolution monitor with wide viewing angles.,R12\n",
      "7,Fast and reliable external hard drive.,R13\n",
      "7,Fast and reliable external hard drive.,R14\n",
      "8,Compact digital camera with 4K video recording.,R15\n",
      "8,Compact digital camera with 4K video recording.,R16\n",
      "9,Ergonomic mechanical keyboard.,R17\n",
      "9,Ergonomic mechanical keyboard.,R18\n",
      "10,Versatile multi-port USB charger.,R19\n",
      "10,Versatile multi-port USB charger.,R20\n"
     ]
    }
   ],
   "source": [
    "!sed 's/headphones/AirPods/g' product.csv"
   ]
  },
  {
   "cell_type": "code",
   "execution_count": 170,
   "id": "33f590e5",
   "metadata": {},
   "outputs": [
    {
     "name": "stdout",
     "output_type": "stream",
     "text": [
      "PRODUCT ID,PRODUCT DESCRIPTION,REVIEW ID\n",
      "1,High-quality smartphone with excellent camera.,R1\n",
      "1,High-quality smartphone with excellent camera.,R2\n",
      "2,Durable laptop with long BATTERY life.,R3\n",
      "2,Durable laptop with long BATTERY life.,R4\n",
      "3,Wireless noise-canceling AIRPODS.,R5\n",
      "3,Wireless noise-canceling AIRPODS.,R6\n",
      "4,Smartwatch with various health tracking features.,R7\n",
      "4,Smartwatch with various health tracking features.,R8\n",
      "5,Portable Bluetooth speaker with rich sound.,R9\n",
      "5,Portable Bluetooth speaker with rich sound.,R10\n",
      "6,High-resolution monitor with wide viewing angles.,R11\n",
      "6,High-resolution monitor with wide viewing angles.,R12\n",
      "7,Fast and reliable external hard drive.,R13\n",
      "7,Fast and reliable external hard drive.,R14\n",
      "8,Compact digital camera with 4K video recording.,R15\n",
      "8,Compact digital camera with 4K video recording.,R16\n",
      "9,Ergonomic mechanical keyboard.,R17\n",
      "9,Ergonomic mechanical keyboard.,R18\n",
      "10,Versatile multi-port USB charger.,R19\n",
      "10,Versatile multi-port USB charger.,R20\n"
     ]
    }
   ],
   "source": [
    "!sed 's/headphones/AIRPODS/' product.csv"
   ]
  },
  {
   "cell_type": "code",
   "execution_count": 172,
   "id": "0c6abf6a",
   "metadata": {},
   "outputs": [],
   "source": [
    "!sed -i 's/headphones/AirPods/g' product.csv\n"
   ]
  },
  {
   "cell_type": "markdown",
   "id": "bfa97d58",
   "metadata": {},
   "source": [
    "Common Metacharacters:\n",
    "* `.`: Matches any single character except newline.\n",
    "* `^`: Matches the start of the string.\n",
    "* `$`: Matches the end of the string.\n",
    "* `*`: Matches 0 or more repetitions of the preceding character.\n",
    "* `+`: Matches 1 or more repetitions of the preceding character.\n",
    "* `?`: Matches 0 or 1 repetition of the preceding character.\n",
    "* `[`]: Matches any one of the characters inside the brackets.\n",
    "* `\\`: Escapes a metacharacter.\n"
   ]
  },
  {
   "cell_type": "code",
   "execution_count": 189,
   "id": "e51f5e28",
   "metadata": {},
   "outputs": [
    {
     "name": "stdout",
     "output_type": "stream",
     "text": [
      "<re.Match object; span=(0, 5), match='hello'>\n"
     ]
    }
   ],
   "source": [
    "import re\n",
    "\n",
    "\n",
    "pattern = r\"hello\"\n",
    "text = \"hello world\"\n",
    "match = re.search(pattern, text)\n",
    "print(match) \n"
   ]
  },
  {
   "cell_type": "code",
   "execution_count": 183,
   "id": "d83b63f4",
   "metadata": {},
   "outputs": [
    {
     "data": {
      "text/plain": [
       "'o'"
      ]
     },
     "execution_count": 183,
     "metadata": {},
     "output_type": "execute_result"
    }
   ],
   "source": [
    "\n"
   ]
  },
  {
   "cell_type": "code",
   "execution_count": 203,
   "id": "a6d7ef92",
   "metadata": {},
   "outputs": [
    {
     "name": "stdout",
     "output_type": "stream",
     "text": [
      "['h', 'e']\n"
     ]
    }
   ],
   "source": [
    "pattern = r\"[a-h]\"\n",
    "text = \"hello\"\n",
    "match = re.findall(pattern, text)\n",
    "print(match) \n"
   ]
  },
  {
   "cell_type": "markdown",
   "id": "4d18a949",
   "metadata": {},
   "source": [
    "Common Classes:\n",
    "* `\\d`: Matches any digit (0-9).\n",
    "* `\\D`: Matches any non-digit.\n",
    "* `\\w`: Matches any alphanumeric character (a-z, A-Z, 0-9, _).\n",
    "* `\\W`: Matches any non-alphanumeric character.\n",
    "* `\\s`: Matches any whitespace character (space, tab, newline).\n",
    "* `\\S`: Matches any non-whitespace character."
   ]
  },
  {
   "cell_type": "code",
   "execution_count": 200,
   "id": "5c899265",
   "metadata": {},
   "outputs": [
    {
     "name": "stdout",
     "output_type": "stream",
     "text": [
      "['1', '2', '3']\n"
     ]
    }
   ],
   "source": [
    "pattern = r\"\\d\"\n",
    "text = \"Order number 123\"\n",
    "match = re.findall(pattern, text)\n",
    "print(match) \n"
   ]
  },
  {
   "cell_type": "markdown",
   "id": "aa0b14ed",
   "metadata": {},
   "source": [
    "Common Quantifiers:\n",
    "* `{n}`: Exactly n occurrences.\n",
    "* `{n,}`: n or more occurrences.\n",
    "* `{n,m}`: Between n and m occurrences."
   ]
  },
  {
   "cell_type": "code",
   "execution_count": 212,
   "id": "f0780315",
   "metadata": {},
   "outputs": [
    {
     "name": "stdout",
     "output_type": "stream",
     "text": [
      "['123', '12345', '1234', '12', '12323898']\n"
     ]
    }
   ],
   "source": [
    "pattern = r\"\\d{2,}\"\n",
    "text = \"0 123 12345 1234 12 12323898\"\n",
    "match = re.findall(pattern, text)\n",
    "print(match)  \n"
   ]
  },
  {
   "cell_type": "code",
   "execution_count": 217,
   "id": "d51946e6",
   "metadata": {},
   "outputs": [
    {
     "name": "stdout",
     "output_type": "stream",
     "text": [
      "foo\n"
     ]
    }
   ],
   "source": [
    "# Lookahead\n",
    "pattern = r\"foo(?=bar)\"\n",
    "text = \"foobar\"\n",
    "match = re.search(pattern, text)\n",
    "print(match.group()) \n"
   ]
  },
  {
   "cell_type": "code",
   "execution_count": 215,
   "id": "2ec4d079",
   "metadata": {},
   "outputs": [
    {
     "name": "stdout",
     "output_type": "stream",
     "text": [
      "bar\n"
     ]
    }
   ],
   "source": [
    "#lookbehind\n",
    "pattern = r\"(?<=foo)bar\"\n",
    "text = \"foobar\"\n",
    "match = re.search(pattern, text)\n",
    "print(match.group())  \n"
   ]
  },
  {
   "cell_type": "markdown",
   "id": "f1ff3b00",
   "metadata": {},
   "source": [
    "Common Functions:\n",
    "* `re.match()`: Determines if the regex matches at the beginning of the string.\n",
    "* `re.search()`: Scans through the string, looking for any location where the regex matches.\n",
    "* `re.findall()`: Finds all substrings where the regex matches and returns them as a list.\n",
    "* `re.sub()`: Replaces matches with a string."
   ]
  },
  {
   "cell_type": "code",
   "execution_count": 223,
   "id": "a3d58e6f",
   "metadata": {},
   "outputs": [
    {
     "name": "stdout",
     "output_type": "stream",
     "text": [
      "None\n",
      "123\n",
      "['123', '456']\n",
      "There are **** **** apples\n"
     ]
    }
   ],
   "source": [
    "pattern = r\"\\d+\"\n",
    "text = \"There are 123 456 apples\"\n",
    "match = re.match(pattern, text)\n",
    "print(match) \n",
    "\n",
    "match = re.search(pattern, text)\n",
    "print(match.group())  \n",
    "\n",
    "matches = re.findall(pattern, text)\n",
    "print(matches)  \n",
    "\n",
    "replaced = re.sub(pattern, \"****\", text)\n",
    "print(replaced) \n"
   ]
  },
  {
   "cell_type": "code",
   "execution_count": 230,
   "id": "c5ef36e5",
   "metadata": {},
   "outputs": [
    {
     "name": "stdout",
     "output_type": "stream",
     "text": [
      "['2023/07/25', '2023-07-24', '2023.07.24']\n"
     ]
    }
   ],
   "source": [
    "# Extracting Dates:\n",
    "text = \"Today's date is 2023/07/25 and yesterday's date was 2023-07-24 and 2023.07.24.\"\n",
    "pattern = r\"\\d{4}[-|/|.]\\d{2}[-|/|.]\\d{2}\"\n",
    "dates = re.findall(pattern, text)\n",
    "print(dates) \n"
   ]
  },
  {
   "cell_type": "code",
   "execution_count": 235,
   "id": "a0357410",
   "metadata": {},
   "outputs": [
    {
     "name": "stdout",
     "output_type": "stream",
     "text": [
      "['support@example.com', 'sales@example.org', 'smith@jack.co']\n"
     ]
    }
   ],
   "source": [
    "# Validating Email Addresses\n",
    "text = \"Contact us at support@example.com or sales@example.org or smith@jack.co\"\n",
    "pattern = r\"\\b[A-Za-z0-9._%+-]+@[A-Za-z0-9.-]+\\.[A-Z|a-z]{2,}\\b\"\n",
    "emails = re.findall(pattern, text)\n",
    "print(emails)  \n"
   ]
  },
  {
   "cell_type": "code",
   "execution_count": 236,
   "id": "99daafa1",
   "metadata": {},
   "outputs": [
    {
     "name": "stdout",
     "output_type": "stream",
     "text": [
      "Call me at XXX-XXX-XXXX or XXX-XXX-XXXX\n"
     ]
    }
   ],
   "source": [
    "# Replacing Phone Numbers:\n",
    "text = \"Call me at 123-456-7890 or 987-654-3210\"\n",
    "pattern = r\"\\d{3}-\\d{3}-\\d{4}\"\n",
    "replaced_text = re.sub(pattern, \"XXX-XXX-XXXX\", text)\n",
    "print(replaced_text) \n"
   ]
  },
  {
   "cell_type": "code",
   "execution_count": 5,
   "id": "c081c0cc",
   "metadata": {},
   "outputs": [],
   "source": [
    "email_text = \"\"\"\n",
    "Hi Team,\n",
    "\n",
    "Please note the following updates for our project:\n",
    "\n",
    "1. The next meeting is scheduled for 2024-08-15 at our main office. Please confirm your availability.\n",
    "2. We have received a new batch of feedback from clients. Some of the notable ones include:\n",
    "   - \"The service was excellent and the response time was quick.\"\n",
    "   - \"Please contact me at john.doe@example.com for further discussions.\"\n",
    "3. Our support team can be reached at:\n",
    "   - Phone: 123-456-7890 (John Doe)\n",
    "   - Phone: 987-654-3210 (Jane Smith)\n",
    "4. The project deadline has been moved to 2024-12-31. Ensure all deliverables are completed by then.\n",
    "5. For any urgent issues, please email support@project.com or call our hotline at 555-123-4567.\n",
    "6. The previous meeting minutes are available at 2023-07-25. Please review them before the next meeting.\n",
    "\n",
    "Best regards,\n",
    "Project Manager\n",
    "\"\"\""
   ]
  },
  {
   "cell_type": "code",
   "execution_count": 3,
   "id": "d9f2c033",
   "metadata": {},
   "outputs": [
    {
     "name": "stdout",
     "output_type": "stream",
     "text": [
      "Dates: ['2024-08-15', '2024-12-31', '2023-07-25']\n"
     ]
    }
   ],
   "source": [
    "import re \n",
    "date_pattern = r\"\\b\\d{4}-\\d{2}-\\d{2}\\b\"\n",
    "dates = re.findall(date_pattern, email_text)\n",
    "print(\"Dates:\", dates)"
   ]
  },
  {
   "cell_type": "code",
   "execution_count": 6,
   "id": "ae46e7ca",
   "metadata": {},
   "outputs": [
    {
     "name": "stdout",
     "output_type": "stream",
     "text": [
      "Phone Numbers: ['123-456-7890', '987-654-3210', '555-123-4567']\n"
     ]
    }
   ],
   "source": [
    "phone_pattern = r\"\\b\\d{3}-\\d{3}-\\d{4}\\b\"\n",
    "phone_numbers = re.findall(phone_pattern, email_text)\n",
    "print(\"Phone Numbers:\", phone_numbers)"
   ]
  },
  {
   "cell_type": "code",
   "execution_count": 8,
   "id": "02e58af4",
   "metadata": {},
   "outputs": [
    {
     "name": "stdout",
     "output_type": "stream",
     "text": [
      "Emails: ['john.doe@example.com', 'support@project.com']\n"
     ]
    }
   ],
   "source": [
    "import re \n",
    "email_pattern = r\"\\b[A-Za-z0-9._%+-]+@[A-Za-z0-9.-]+\\.[A-Z|a-z]{2,}\\b\"\n",
    "emails = re.findall(email_pattern, email_text)\n",
    "print(\"Emails:\", emails)"
   ]
  },
  {
   "cell_type": "code",
   "execution_count": 10,
   "id": "85fab041",
   "metadata": {},
   "outputs": [
    {
     "data": {
      "text/html": [
       "<div>\n",
       "<style scoped>\n",
       "    .dataframe tbody tr th:only-of-type {\n",
       "        vertical-align: middle;\n",
       "    }\n",
       "\n",
       "    .dataframe tbody tr th {\n",
       "        vertical-align: top;\n",
       "    }\n",
       "\n",
       "    .dataframe thead th {\n",
       "        text-align: right;\n",
       "    }\n",
       "</style>\n",
       "<table border=\"1\" class=\"dataframe\">\n",
       "  <thead>\n",
       "    <tr style=\"text-align: right;\">\n",
       "      <th></th>\n",
       "      <th>notes</th>\n",
       "    </tr>\n",
       "  </thead>\n",
       "  <tbody>\n",
       "    <tr>\n",
       "      <th>0</th>\n",
       "      <td>Contact John at john.doe@example.com or 123-45...</td>\n",
       "    </tr>\n",
       "    <tr>\n",
       "      <th>1</th>\n",
       "      <td>The meeting is scheduled for 2024-08-15.</td>\n",
       "    </tr>\n",
       "    <tr>\n",
       "      <th>2</th>\n",
       "      <td>Reach out to Jane at jane_smith123@example.org</td>\n",
       "    </tr>\n",
       "    <tr>\n",
       "      <th>3</th>\n",
       "      <td>Emergency hotline: 555-123-4567</td>\n",
       "    </tr>\n",
       "    <tr>\n",
       "      <th>4</th>\n",
       "      <td>Previous meeting was on 2023-07-25.</td>\n",
       "    </tr>\n",
       "    <tr>\n",
       "      <th>5</th>\n",
       "      <td>Invalid phone number 12345-67890</td>\n",
       "    </tr>\n",
       "  </tbody>\n",
       "</table>\n",
       "</div>"
      ],
      "text/plain": [
       "                                               notes\n",
       "0  Contact John at john.doe@example.com or 123-45...\n",
       "1           The meeting is scheduled for 2024-08-15.\n",
       "2     Reach out to Jane at jane_smith123@example.org\n",
       "3                    Emergency hotline: 555-123-4567\n",
       "4                Previous meeting was on 2023-07-25.\n",
       "5                   Invalid phone number 12345-67890"
      ]
     },
     "metadata": {},
     "output_type": "display_data"
    }
   ],
   "source": [
    "import pandas as pd\n",
    "\n",
    "data = {\n",
    "    \"notes\": [\n",
    "        \"Contact John at john.doe@example.com or 123-456-7890\",\n",
    "        \"The meeting is scheduled for 2024-08-15.\",\n",
    "        \"Reach out to Jane at jane_smith123@example.org\",\n",
    "        \"Emergency hotline: 555-123-4567\",\n",
    "        \"Previous meeting was on 2023-07-25.\",\n",
    "        \"Invalid phone number 12345-67890\"\n",
    "    ]\n",
    "}\n",
    "\n",
    "df = pd.DataFrame(data)\n",
    "display(df)\n"
   ]
  },
  {
   "cell_type": "code",
   "execution_count": null,
   "id": "9c16dedb",
   "metadata": {},
   "outputs": [],
   "source": []
  },
  {
   "cell_type": "code",
   "execution_count": 11,
   "id": "3af71d55",
   "metadata": {},
   "outputs": [
    {
     "data": {
      "text/html": [
       "<div>\n",
       "<style scoped>\n",
       "    .dataframe tbody tr th:only-of-type {\n",
       "        vertical-align: middle;\n",
       "    }\n",
       "\n",
       "    .dataframe tbody tr th {\n",
       "        vertical-align: top;\n",
       "    }\n",
       "\n",
       "    .dataframe thead th {\n",
       "        text-align: right;\n",
       "    }\n",
       "</style>\n",
       "<table border=\"1\" class=\"dataframe\">\n",
       "  <thead>\n",
       "    <tr style=\"text-align: right;\">\n",
       "      <th></th>\n",
       "      <th>notes</th>\n",
       "      <th>email</th>\n",
       "    </tr>\n",
       "  </thead>\n",
       "  <tbody>\n",
       "    <tr>\n",
       "      <th>0</th>\n",
       "      <td>Contact John at john.doe@example.com or 123-45...</td>\n",
       "      <td>john.doe@example.com</td>\n",
       "    </tr>\n",
       "    <tr>\n",
       "      <th>1</th>\n",
       "      <td>The meeting is scheduled for 2024-08-15.</td>\n",
       "      <td>NaN</td>\n",
       "    </tr>\n",
       "    <tr>\n",
       "      <th>2</th>\n",
       "      <td>Reach out to Jane at jane_smith123@example.org</td>\n",
       "      <td>jane_smith123@example.org</td>\n",
       "    </tr>\n",
       "    <tr>\n",
       "      <th>3</th>\n",
       "      <td>Emergency hotline: 555-123-4567</td>\n",
       "      <td>NaN</td>\n",
       "    </tr>\n",
       "    <tr>\n",
       "      <th>4</th>\n",
       "      <td>Previous meeting was on 2023-07-25.</td>\n",
       "      <td>NaN</td>\n",
       "    </tr>\n",
       "    <tr>\n",
       "      <th>5</th>\n",
       "      <td>Invalid phone number 12345-67890</td>\n",
       "      <td>NaN</td>\n",
       "    </tr>\n",
       "  </tbody>\n",
       "</table>\n",
       "</div>"
      ],
      "text/plain": [
       "                                               notes  \\\n",
       "0  Contact John at john.doe@example.com or 123-45...   \n",
       "1           The meeting is scheduled for 2024-08-15.   \n",
       "2     Reach out to Jane at jane_smith123@example.org   \n",
       "3                    Emergency hotline: 555-123-4567   \n",
       "4                Previous meeting was on 2023-07-25.   \n",
       "5                   Invalid phone number 12345-67890   \n",
       "\n",
       "                       email  \n",
       "0       john.doe@example.com  \n",
       "1                        NaN  \n",
       "2  jane_smith123@example.org  \n",
       "3                        NaN  \n",
       "4                        NaN  \n",
       "5                        NaN  "
      ]
     },
     "metadata": {},
     "output_type": "display_data"
    }
   ],
   "source": [
    "df['email'] = df['notes'].str.extract(r\"(\\b[A-Za-z0-9._%+-]+@[A-Za-z0-9.-]+\\.[A-Z|a-z]{2,}\\b)\")\n",
    "display(df[['notes', 'email']])\n"
   ]
  },
  {
   "cell_type": "code",
   "execution_count": 14,
   "id": "89db8c4a",
   "metadata": {},
   "outputs": [
    {
     "data": {
      "text/html": [
       "<div>\n",
       "<style scoped>\n",
       "    .dataframe tbody tr th:only-of-type {\n",
       "        vertical-align: middle;\n",
       "    }\n",
       "\n",
       "    .dataframe tbody tr th {\n",
       "        vertical-align: top;\n",
       "    }\n",
       "\n",
       "    .dataframe thead th {\n",
       "        text-align: right;\n",
       "    }\n",
       "</style>\n",
       "<table border=\"1\" class=\"dataframe\">\n",
       "  <thead>\n",
       "    <tr style=\"text-align: right;\">\n",
       "      <th></th>\n",
       "      <th>notes</th>\n",
       "      <th>email</th>\n",
       "      <th>phone</th>\n",
       "    </tr>\n",
       "  </thead>\n",
       "  <tbody>\n",
       "    <tr>\n",
       "      <th>0</th>\n",
       "      <td>Contact John at john.doe@example.com or 123-45...</td>\n",
       "      <td>john.doe@example.com</td>\n",
       "      <td>123-456-7890</td>\n",
       "    </tr>\n",
       "    <tr>\n",
       "      <th>1</th>\n",
       "      <td>The meeting is scheduled for 2024-08-15.</td>\n",
       "      <td>NaN</td>\n",
       "      <td>NaN</td>\n",
       "    </tr>\n",
       "    <tr>\n",
       "      <th>2</th>\n",
       "      <td>Reach out to Jane at jane_smith123@example.org</td>\n",
       "      <td>jane_smith123@example.org</td>\n",
       "      <td>NaN</td>\n",
       "    </tr>\n",
       "    <tr>\n",
       "      <th>3</th>\n",
       "      <td>Emergency hotline: 555-123-4567</td>\n",
       "      <td>NaN</td>\n",
       "      <td>555-123-4567</td>\n",
       "    </tr>\n",
       "    <tr>\n",
       "      <th>4</th>\n",
       "      <td>Previous meeting was on 2023-07-25.</td>\n",
       "      <td>NaN</td>\n",
       "      <td>NaN</td>\n",
       "    </tr>\n",
       "    <tr>\n",
       "      <th>5</th>\n",
       "      <td>Invalid phone number 12345-67890</td>\n",
       "      <td>NaN</td>\n",
       "      <td>NaN</td>\n",
       "    </tr>\n",
       "  </tbody>\n",
       "</table>\n",
       "</div>"
      ],
      "text/plain": [
       "                                               notes  \\\n",
       "0  Contact John at john.doe@example.com or 123-45...   \n",
       "1           The meeting is scheduled for 2024-08-15.   \n",
       "2     Reach out to Jane at jane_smith123@example.org   \n",
       "3                    Emergency hotline: 555-123-4567   \n",
       "4                Previous meeting was on 2023-07-25.   \n",
       "5                   Invalid phone number 12345-67890   \n",
       "\n",
       "                       email         phone  \n",
       "0       john.doe@example.com  123-456-7890  \n",
       "1                        NaN           NaN  \n",
       "2  jane_smith123@example.org           NaN  \n",
       "3                        NaN  555-123-4567  \n",
       "4                        NaN           NaN  \n",
       "5                        NaN           NaN  "
      ]
     },
     "metadata": {},
     "output_type": "display_data"
    }
   ],
   "source": [
    "df['phone'] = df['notes'].str.extract(r\"(\\b\\d{3}-\\d{3}-\\d{4}\\b)\")\n",
    "display(df)\n"
   ]
  },
  {
   "cell_type": "code",
   "execution_count": 15,
   "id": "b20eea81",
   "metadata": {},
   "outputs": [
    {
     "data": {
      "text/html": [
       "<div>\n",
       "<style scoped>\n",
       "    .dataframe tbody tr th:only-of-type {\n",
       "        vertical-align: middle;\n",
       "    }\n",
       "\n",
       "    .dataframe tbody tr th {\n",
       "        vertical-align: top;\n",
       "    }\n",
       "\n",
       "    .dataframe thead th {\n",
       "        text-align: right;\n",
       "    }\n",
       "</style>\n",
       "<table border=\"1\" class=\"dataframe\">\n",
       "  <thead>\n",
       "    <tr style=\"text-align: right;\">\n",
       "      <th></th>\n",
       "      <th>notes</th>\n",
       "      <th>email</th>\n",
       "      <th>phone</th>\n",
       "      <th>date</th>\n",
       "    </tr>\n",
       "  </thead>\n",
       "  <tbody>\n",
       "    <tr>\n",
       "      <th>0</th>\n",
       "      <td>Contact John at john.doe@example.com or 123-45...</td>\n",
       "      <td>john.doe@example.com</td>\n",
       "      <td>123-456-7890</td>\n",
       "      <td>NaN</td>\n",
       "    </tr>\n",
       "    <tr>\n",
       "      <th>1</th>\n",
       "      <td>The meeting is scheduled for 2024-08-15.</td>\n",
       "      <td>NaN</td>\n",
       "      <td>NaN</td>\n",
       "      <td>2024-08-15</td>\n",
       "    </tr>\n",
       "    <tr>\n",
       "      <th>2</th>\n",
       "      <td>Reach out to Jane at jane_smith123@example.org</td>\n",
       "      <td>jane_smith123@example.org</td>\n",
       "      <td>NaN</td>\n",
       "      <td>NaN</td>\n",
       "    </tr>\n",
       "    <tr>\n",
       "      <th>3</th>\n",
       "      <td>Emergency hotline: 555-123-4567</td>\n",
       "      <td>NaN</td>\n",
       "      <td>555-123-4567</td>\n",
       "      <td>NaN</td>\n",
       "    </tr>\n",
       "    <tr>\n",
       "      <th>4</th>\n",
       "      <td>Previous meeting was on 2023-07-25.</td>\n",
       "      <td>NaN</td>\n",
       "      <td>NaN</td>\n",
       "      <td>2023-07-25</td>\n",
       "    </tr>\n",
       "    <tr>\n",
       "      <th>5</th>\n",
       "      <td>Invalid phone number 12345-67890</td>\n",
       "      <td>NaN</td>\n",
       "      <td>NaN</td>\n",
       "      <td>NaN</td>\n",
       "    </tr>\n",
       "  </tbody>\n",
       "</table>\n",
       "</div>"
      ],
      "text/plain": [
       "                                               notes  \\\n",
       "0  Contact John at john.doe@example.com or 123-45...   \n",
       "1           The meeting is scheduled for 2024-08-15.   \n",
       "2     Reach out to Jane at jane_smith123@example.org   \n",
       "3                    Emergency hotline: 555-123-4567   \n",
       "4                Previous meeting was on 2023-07-25.   \n",
       "5                   Invalid phone number 12345-67890   \n",
       "\n",
       "                       email         phone        date  \n",
       "0       john.doe@example.com  123-456-7890         NaN  \n",
       "1                        NaN           NaN  2024-08-15  \n",
       "2  jane_smith123@example.org           NaN         NaN  \n",
       "3                        NaN  555-123-4567         NaN  \n",
       "4                        NaN           NaN  2023-07-25  \n",
       "5                        NaN           NaN         NaN  "
      ]
     },
     "metadata": {},
     "output_type": "display_data"
    }
   ],
   "source": [
    "df['date'] = df['notes'].str.extract(r\"(\\b\\d{4}-\\d{2}-\\d{2}\\b)\")\n",
    "display(df)\n"
   ]
  },
  {
   "cell_type": "code",
   "execution_count": 17,
   "id": "7b0dc291",
   "metadata": {},
   "outputs": [
    {
     "data": {
      "text/html": [
       "<div>\n",
       "<style scoped>\n",
       "    .dataframe tbody tr th:only-of-type {\n",
       "        vertical-align: middle;\n",
       "    }\n",
       "\n",
       "    .dataframe tbody tr th {\n",
       "        vertical-align: top;\n",
       "    }\n",
       "\n",
       "    .dataframe thead th {\n",
       "        text-align: right;\n",
       "    }\n",
       "</style>\n",
       "<table border=\"1\" class=\"dataframe\">\n",
       "  <thead>\n",
       "    <tr style=\"text-align: right;\">\n",
       "      <th></th>\n",
       "      <th>notes</th>\n",
       "      <th>email</th>\n",
       "      <th>phone</th>\n",
       "      <th>date</th>\n",
       "      <th>contains_email</th>\n",
       "    </tr>\n",
       "  </thead>\n",
       "  <tbody>\n",
       "    <tr>\n",
       "      <th>0</th>\n",
       "      <td>Contact John at john.doe@example.com or 123-45...</td>\n",
       "      <td>john.doe@example.com</td>\n",
       "      <td>123-456-7890</td>\n",
       "      <td>NaN</td>\n",
       "      <td>True</td>\n",
       "    </tr>\n",
       "    <tr>\n",
       "      <th>1</th>\n",
       "      <td>The meeting is scheduled for 2024-08-15.</td>\n",
       "      <td>NaN</td>\n",
       "      <td>NaN</td>\n",
       "      <td>2024-08-15</td>\n",
       "      <td>False</td>\n",
       "    </tr>\n",
       "    <tr>\n",
       "      <th>2</th>\n",
       "      <td>Reach out to Jane at jane_smith123@example.org</td>\n",
       "      <td>jane_smith123@example.org</td>\n",
       "      <td>NaN</td>\n",
       "      <td>NaN</td>\n",
       "      <td>True</td>\n",
       "    </tr>\n",
       "    <tr>\n",
       "      <th>3</th>\n",
       "      <td>Emergency hotline: 555-123-4567</td>\n",
       "      <td>NaN</td>\n",
       "      <td>555-123-4567</td>\n",
       "      <td>NaN</td>\n",
       "      <td>False</td>\n",
       "    </tr>\n",
       "    <tr>\n",
       "      <th>4</th>\n",
       "      <td>Previous meeting was on 2023-07-25.</td>\n",
       "      <td>NaN</td>\n",
       "      <td>NaN</td>\n",
       "      <td>2023-07-25</td>\n",
       "      <td>False</td>\n",
       "    </tr>\n",
       "    <tr>\n",
       "      <th>5</th>\n",
       "      <td>Invalid phone number 12345-67890</td>\n",
       "      <td>NaN</td>\n",
       "      <td>NaN</td>\n",
       "      <td>NaN</td>\n",
       "      <td>False</td>\n",
       "    </tr>\n",
       "  </tbody>\n",
       "</table>\n",
       "</div>"
      ],
      "text/plain": [
       "                                               notes  \\\n",
       "0  Contact John at john.doe@example.com or 123-45...   \n",
       "1           The meeting is scheduled for 2024-08-15.   \n",
       "2     Reach out to Jane at jane_smith123@example.org   \n",
       "3                    Emergency hotline: 555-123-4567   \n",
       "4                Previous meeting was on 2023-07-25.   \n",
       "5                   Invalid phone number 12345-67890   \n",
       "\n",
       "                       email         phone        date  contains_email  \n",
       "0       john.doe@example.com  123-456-7890         NaN            True  \n",
       "1                        NaN           NaN  2024-08-15           False  \n",
       "2  jane_smith123@example.org           NaN         NaN            True  \n",
       "3                        NaN  555-123-4567         NaN           False  \n",
       "4                        NaN           NaN  2023-07-25           False  \n",
       "5                        NaN           NaN         NaN           False  "
      ]
     },
     "metadata": {},
     "output_type": "display_data"
    }
   ],
   "source": [
    "df['contains_email'] = df['notes'].str.contains(r\"\\b[A-Za-z0-9._%+-]+@[A-Za-z0-9.-]+\\.[A-Z|a-z]{2,}\")\n",
    "display(df)\n"
   ]
  },
  {
   "cell_type": "code",
   "execution_count": 21,
   "id": "4a1c65c9",
   "metadata": {},
   "outputs": [
    {
     "name": "stdout",
     "output_type": "stream",
     "text": [
      "\n",
      "DataFrame after masking phone numbers:\n"
     ]
    },
    {
     "data": {
      "text/html": [
       "<div>\n",
       "<style scoped>\n",
       "    .dataframe tbody tr th:only-of-type {\n",
       "        vertical-align: middle;\n",
       "    }\n",
       "\n",
       "    .dataframe tbody tr th {\n",
       "        vertical-align: top;\n",
       "    }\n",
       "\n",
       "    .dataframe thead th {\n",
       "        text-align: right;\n",
       "    }\n",
       "</style>\n",
       "<table border=\"1\" class=\"dataframe\">\n",
       "  <thead>\n",
       "    <tr style=\"text-align: right;\">\n",
       "      <th></th>\n",
       "      <th>text</th>\n",
       "    </tr>\n",
       "  </thead>\n",
       "  <tbody>\n",
       "    <tr>\n",
       "      <th>0</th>\n",
       "      <td>Contact John at john.doe@example.com or [REDAC...</td>\n",
       "    </tr>\n",
       "    <tr>\n",
       "      <th>1</th>\n",
       "      <td>The meeting is scheduled for 2024-08-15.</td>\n",
       "    </tr>\n",
       "    <tr>\n",
       "      <th>2</th>\n",
       "      <td>Reach out to Jane at jane_smith123@example.org</td>\n",
       "    </tr>\n",
       "    <tr>\n",
       "      <th>3</th>\n",
       "      <td>Emergency hotline: [REDACTED]</td>\n",
       "    </tr>\n",
       "    <tr>\n",
       "      <th>4</th>\n",
       "      <td>Previous meeting was on 2023-07-25.</td>\n",
       "    </tr>\n",
       "    <tr>\n",
       "      <th>5</th>\n",
       "      <td>Invalid phone number 12345-67890</td>\n",
       "    </tr>\n",
       "  </tbody>\n",
       "</table>\n",
       "</div>"
      ],
      "text/plain": [
       "                                                text\n",
       "0  Contact John at john.doe@example.com or [REDAC...\n",
       "1           The meeting is scheduled for 2024-08-15.\n",
       "2     Reach out to Jane at jane_smith123@example.org\n",
       "3                      Emergency hotline: [REDACTED]\n",
       "4                Previous meeting was on 2023-07-25.\n",
       "5                   Invalid phone number 12345-67890"
      ]
     },
     "metadata": {},
     "output_type": "display_data"
    }
   ],
   "source": [
    "df['text'] = df['notes'].str.replace(r\"\\b\\d{3}-\\d{3}-\\d{4}\\b\", \"[REDACTED]\", regex=True)\n",
    "print(\"\\nDataFrame after masking phone numbers:\")\n",
    "display(pd.DataFrame(df['text']))"
   ]
  },
  {
   "cell_type": "code",
   "execution_count": null,
   "id": "5954da39",
   "metadata": {},
   "outputs": [],
   "source": [
    "import pandas as pd\n",
    "\n",
    "data = {\n",
    "    \"review\": [\n",
    "        \"Great product! Contact me at john.doe@example.com for more details.\",\n",
    "        \"My credit card number is 1234-5678-9101-1121. Please keep it safe.\",\n",
    "        \"Wonderful service, will buy again! SSN: 987-65-4321.\",\n",
    "        \"Loved it! For issues, email support@company.com.\",\n",
    "        \"Quick delivery and excellent customer support.\",\n",
    "        \"My email is jane.doe@work.net and I had a great experience.\",\n",
    "        \"Call me at 555-123-4567 for any further questions.\",\n",
    "        \"I lost my credit card, the number was 4321-8765-0987-6543.\",\n",
    "        \"SSN: 123-45-6789 should not be shared openly.\",\n",
    "        \"Best purchase ever! Reach me at user123@domain.org.\"\n",
    "    ]\n",
    "}\n",
    "\n",
    "df = pd.DataFrame(data)\n",
    "display(df)"
   ]
  },
  {
   "cell_type": "code",
   "execution_count": null,
   "id": "6ff2003c",
   "metadata": {},
   "outputs": [],
   "source": [
    "from IPython.display import display\n"
   ]
  },
  {
   "cell_type": "code",
   "execution_count": null,
   "id": "7ff40ca4",
   "metadata": {},
   "outputs": [],
   "source": [
    "df['review'] = df['review'].str.replace(r\"\\b[A-Za-z0-9._%+-]+@[A-Za-z0-9.-]+\\.[A-Z|a-z]{2,}\\b\", \"[REDACTED_EMAIL]\", regex=True)\n",
    "display(df)\n"
   ]
  },
  {
   "cell_type": "code",
   "execution_count": null,
   "id": "3cb4cb00",
   "metadata": {},
   "outputs": [],
   "source": [
    "df['review'] = df['review'].str.replace(r\"\\b\\d{4}-\\d{4}-\\d{4}-\\d{4}\\b\", \"[REDACTED_CC]\", regex=True)\n",
    "display(df)\n"
   ]
  },
  {
   "cell_type": "code",
   "execution_count": null,
   "id": "1bb5c4ea",
   "metadata": {},
   "outputs": [],
   "source": [
    "df['review'] = df['review'].str.replace(r\"\\b\\d{4}-\\d{4}-\\d{4}-\\d{4}\\b\", \"[REDACTED_CC]\", regex=True)\n",
    "display(df)\n"
   ]
  },
  {
   "cell_type": "code",
   "execution_count": null,
   "id": "819358d4",
   "metadata": {},
   "outputs": [],
   "source": [
    "df.to_csv(\"redacted_reviews.csv\", index=False)"
   ]
  },
  {
   "cell_type": "code",
   "execution_count": 23,
   "id": "636a9fae",
   "metadata": {},
   "outputs": [
    {
     "name": "stdout",
     "output_type": "stream",
     "text": [
      "1b0daa6003eab323132a33b867e2c6fb  review.csv\n"
     ]
    }
   ],
   "source": [
    "!md5sum 'review.csv'"
   ]
  },
  {
   "cell_type": "code",
   "execution_count": 25,
   "id": "03e8cd05",
   "metadata": {},
   "outputs": [
    {
     "name": "stdout",
     "output_type": "stream",
     "text": [
      "5a4859ccaa43dc64faaa2436b75acc097b561ede  review.csv\n"
     ]
    }
   ],
   "source": [
    "!sha1sum 'review.csv'"
   ]
  },
  {
   "cell_type": "code",
   "execution_count": 26,
   "id": "6955d21e",
   "metadata": {},
   "outputs": [
    {
     "name": "stdout",
     "output_type": "stream",
     "text": [
      "113ac8088cb88aa17ab8bb5666e1b9401b1c26efd34c3db7793d2a7622efbbe2  review.csv\n"
     ]
    }
   ],
   "source": [
    "!sha256sum 'review.csv'"
   ]
  },
  {
   "cell_type": "code",
   "execution_count": 29,
   "id": "b7b30391",
   "metadata": {},
   "outputs": [
    {
     "name": "stdout",
     "output_type": "stream",
     "text": [
      "REVIEW ID,REVIEW TEXT\t\t\t\t\t      |\treview\n",
      "R1,\"Great camera quality, but battery life could be better.\"  |\tGreat product! Contact me at [REDACTED_EMAIL] for more detail\n",
      "R2,Very satisfied with this smartphone. Worth every penny.    |\tMy credit card number is [REDACTED_CC]. Please keep it safe.\n",
      "R3,Excellent performance and battery life. Highly recommend.  |\t\"Wonderful service, will buy again! SSN: 987-65-4321.\"\n",
      "R4,Disappointed with the build quality. Feels cheap.\t      |\t\"Loved it! For issues, email [REDACTED_EMAIL].\"\n",
      "R5,Fantastic noise cancellation and sound quality.\t      |\tQuick delivery and excellent customer support.\n",
      "R6,Not comfortable to wear for long periods.\t\t      |\tMy email is [REDACTED_EMAIL] and I had a great experience.\n",
      "R7,Great health tracking features but too expensive.\t      |\tCall me at 555-123-4567 for any further questions.\n",
      "R8,Love the design and functionality. Would buy again.\t      |\t\"I lost my credit card, the number was [REDACTED_CC].\"\n",
      "R9,Sound quality is amazing for its size.\t\t      |\tSSN: 123-45-6789 should not be shared openly.\n",
      "R10,Battery life is too short for outdoor use.\t\t      |\tBest purchase ever! Reach me at [REDACTED_EMAIL].\n",
      "R11,Crisp and clear display. Perfect for gaming.\t      <\n",
      "R12,Experienced some dead pixels after a week.\t\t      <\n",
      "R13,Fast data transfer speeds and reliable.\t\t      <\n",
      "R14,Stopped working after a month of use.\t\t      <\n",
      "R15,Compact and takes great pictures.\t\t\t      <\n",
      "R16,Image quality is poor in low light conditions.\t      <\n",
      "R17,Very comfortable and responsive keys.\t\t      <\n",
      "R18,Keys started sticking after a week of use.\t\t      <\n",
      "R19,Charges multiple devices quickly.\t\t\t      <\n",
      "R20,Overheats when charging multiple devices at once.\t      <\n"
     ]
    }
   ],
   "source": [
    "\n",
    "# show only the different lines\n",
    "!diff -y review.csv redacted_reviews.csv\n"
   ]
  },
  {
   "cell_type": "code",
   "execution_count": 13,
   "id": "f74059ca",
   "metadata": {},
   "outputs": [
    {
     "name": "stdout",
     "output_type": "stream",
     "text": [
      "113ac8088cb88aa17ab8bb5666e1b9401b1c26efd34c3db7793d2a7622efbbe2  review.csv\n",
      "113ac8088cb88aa17ab8bb5666e1b9401b1c26efd34c3db7793d2a7622efbbe2  review2.csv\n"
     ]
    }
   ],
   "source": [
    "# compare hashes of two files\n",
    "!md5sum review.csv review2.csv"
   ]
  },
  {
   "cell_type": "code",
   "execution_count": 14,
   "id": "fd2c76e1",
   "metadata": {},
   "outputs": [
    {
     "name": "stdout",
     "output_type": "stream",
     "text": [
      "1b0daa6003eab323132a33b867e2c6fb  review.csv\n",
      "f0ccd3da30c42fa649c55827ee93dea0  redacted_reviews.csv\n"
     ]
    }
   ],
   "source": [
    "!md5sum review.csv redacted_reviews.csv"
   ]
  },
  {
   "cell_type": "code",
   "execution_count": 18,
   "id": "7b643369",
   "metadata": {},
   "outputs": [
    {
     "name": "stdout",
     "output_type": "stream",
     "text": [
      "MD5: 5eb63bbbe01eeed093cb22bb8f5acdc3\n"
     ]
    }
   ],
   "source": [
    "import hashlib\n",
    "\n",
    "data = \"hello world\"\n",
    "\n",
    "md5_hash = hashlib.md5(data.encode()).hexdigest()\n",
    "\n",
    "print(f\"MD5: {md5_hash}\")\n"
   ]
  },
  {
   "cell_type": "code",
   "execution_count": 19,
   "id": "425f8200",
   "metadata": {},
   "outputs": [
    {
     "name": "stdout",
     "output_type": "stream",
     "text": [
      "SHA-1: 2aae6c35c94fcfb415dbe95f408b9ce91ee846ed\n"
     ]
    }
   ],
   "source": [
    "sha1_hash = hashlib.sha1(data.encode()).hexdigest()\n",
    "print(f\"SHA-1: {sha1_hash}\")\n"
   ]
  },
  {
   "cell_type": "code",
   "execution_count": 20,
   "id": "7506f009",
   "metadata": {},
   "outputs": [
    {
     "name": "stdout",
     "output_type": "stream",
     "text": [
      "1b0daa6003eab323132a33b867e2c6fb\n",
      "5a4859ccaa43dc64faaa2436b75acc097b561ede\n"
     ]
    }
   ],
   "source": [
    "with open('review2.csv', 'rb') as file:\n",
    "    data = file.read()\n",
    "    md5_hash = hashlib.md5(data).hexdigest()\n",
    "    sha1_hash = hashlib.sha1(data).hexdigest()\n",
    "    print(md5_hash)\n",
    "    print(sha1_hash)"
   ]
  },
  {
   "cell_type": "code",
   "execution_count": 21,
   "id": "7b6039ce",
   "metadata": {},
   "outputs": [],
   "source": [
    "with open('review3.csv', 'wb') as file:\n",
    "    file.write(data)"
   ]
  },
  {
   "cell_type": "code",
   "execution_count": null,
   "id": "de6777f8",
   "metadata": {},
   "outputs": [],
   "source": []
  }
 ],
 "metadata": {
  "kernelspec": {
   "display_name": "Python 3",
   "language": "python",
   "name": "python3"
  },
  "language_info": {
   "codemirror_mode": {
    "name": "ipython",
    "version": 3
   },
   "file_extension": ".py",
   "mimetype": "text/x-python",
   "name": "python",
   "nbconvert_exporter": "python",
   "pygments_lexer": "ipython3",
   "version": "3.10.13"
  }
 },
 "nbformat": 4,
 "nbformat_minor": 5
}
