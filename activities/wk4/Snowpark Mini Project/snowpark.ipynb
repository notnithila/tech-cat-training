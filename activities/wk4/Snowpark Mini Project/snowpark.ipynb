{
 "cells": [
  {
   "cell_type": "markdown",
   "id": "9acd9bd4-9617-4cb3-ad07-fb5e567a05f1",
   "metadata": {
    "jp-MarkdownHeadingCollapsed": true
   },
   "source": [
    "## Installation "
   ]
  },
  {
   "cell_type": "markdown",
   "id": "68da168a-6eb0-44f1-94d6-0fd3ec7e2018",
   "metadata": {},
   "source": [
    "If you have not installed snowflake-snowpark-python you can install it here. Make sure you are in the right conda environment.\n",
    "\n",
    "If you are not sure you can try:\n",
    "\n",
    "```bash\n",
    "! which python\n",
    "```"
   ]
  },
  {
   "cell_type": "code",
   "execution_count": 119,
   "id": "121df9d6-3fb3-43b1-a260-80dd7c97d37c",
   "metadata": {},
   "outputs": [
    {
     "name": "stdout",
     "output_type": "stream",
     "text": [
      "/opt/anaconda3/envs/dev2/bin/python\n"
     ]
    }
   ],
   "source": [
    "! which python"
   ]
  },
  {
   "cell_type": "markdown",
   "id": "cf463656-381e-499a-85b7-f4257707d40c",
   "metadata": {},
   "source": [
    "Install the library"
   ]
  },
  {
   "cell_type": "code",
   "execution_count": 117,
   "id": "0a721aa0-09ff-40a8-b27c-2cbbfd8c661a",
   "metadata": {},
   "outputs": [],
   "source": [
    "# !conda install snowflake-snowpark-python -y"
   ]
  },
  {
   "cell_type": "markdown",
   "id": "0df2e1bd-fb6b-49c5-b112-2a845e7227b2",
   "metadata": {
    "jp-MarkdownHeadingCollapsed": true
   },
   "source": [
    "# THE **E**\n",
    "## Snowpark Usage - Example"
   ]
  },
  {
   "cell_type": "code",
   "execution_count": 87,
   "id": "35f770dc-3e10-47e5-8968-5733c5e434d6",
   "metadata": {},
   "outputs": [],
   "source": [
    "from snowflake.snowpark import Session"
   ]
  },
  {
   "cell_type": "markdown",
   "id": "045ac1ce-6911-48fb-949d-e0b4ee800cb5",
   "metadata": {},
   "source": [
    "Example of how the `snow.cfg` file looks like\n",
    "\n",
    "```yaml\n",
    "[SNOW]\n",
    "ACCOUNT=WPA36811\n",
    "USER=tarek\n",
    "PASSWORD=yourpassowrd\n",
    "WAREHOUSE=COMPUTE_WH\n",
    "DATABASE=TECHCATALYST_DE\n",
    "SCHEMA=PUBLIC\n",
    "ROLE=DE\n",
    "```"
   ]
  },
  {
   "cell_type": "code",
   "execution_count": 118,
   "id": "9f5a8617-6c69-4c33-9922-10db5945bf6d",
   "metadata": {},
   "outputs": [
    {
     "data": {
      "text/plain": [
       "['SNOW']"
      ]
     },
     "execution_count": 118,
     "metadata": {},
     "output_type": "execute_result"
    }
   ],
   "source": [
    "import configparser\n",
    "\n",
    "config = configparser.ConfigParser()\n",
    "config.read('snow.cfg')\n",
    "config.sections()"
   ]
  },
  {
   "cell_type": "markdown",
   "id": "0f534033-4900-42eb-8a4f-6717d880830e",
   "metadata": {},
   "source": [
    "Create a dictionary (key-value) of the parameters"
   ]
  },
  {
   "cell_type": "code",
   "execution_count": 90,
   "id": "958abed0-2533-4a1e-b80d-dafff723888b",
   "metadata": {},
   "outputs": [],
   "source": [
    "params1 = dict(config['SNOW'])"
   ]
  },
  {
   "cell_type": "markdown",
   "id": "5ea19238-50be-49b7-84d9-3e40d72915cd",
   "metadata": {},
   "source": [
    "Passing the parameters as a dictionary to Session"
   ]
  },
  {
   "cell_type": "code",
   "execution_count": 96,
   "id": "bf636e8e-8056-4602-b3b5-8fa23f2619e5",
   "metadata": {},
   "outputs": [],
   "source": [
    "session1 = Session.builder.configs(params1).create()"
   ]
  },
  {
   "cell_type": "code",
   "execution_count": 123,
   "id": "706059ab-b8fa-47e5-85e6-d777502dff57",
   "metadata": {},
   "outputs": [
    {
     "name": "stdout",
     "output_type": "stream",
     "text": [
      "\"tarek\"\n",
      "\"TECHCATALYST_DE\"\n",
      "\"PUBLIC\"\n"
     ]
    }
   ],
   "source": [
    "print(session1.get_current_user())\n",
    "print(session1.get_current_database())\n",
    "print(session1.get_current_schema())"
   ]
  },
  {
   "cell_type": "markdown",
   "id": "a7b0c0ad-b6cc-4d15-8015-dc0aa7c4542d",
   "metadata": {},
   "source": [
    "Example using the `table` methods to call a specific table. In this example I am calling the `INS_ACCIDENTS` table"
   ]
  },
  {
   "cell_type": "code",
   "execution_count": 124,
   "id": "cd754c8d-e989-42d0-8f02-fd76e4289e7f",
   "metadata": {},
   "outputs": [
    {
     "name": "stdout",
     "output_type": "stream",
     "text": [
      "-------------------------------------------------------------------------------------------------------------------------------------------------------\n",
      "|\"ACCIDENT_ID\"  |\"POLICYHOLDER_ID\"  |\"VEHICLE_ID\"  |\"ACCIDENT_TYPE\"  |\"ACCIDENT_DATE\"  |\"ESTIMATED_COST\"  |\"ACTUAL_REPAIR_COST\"  |\"AT_FAULT\"  |\"DUI\"  |\n",
      "-------------------------------------------------------------------------------------------------------------------------------------------------------\n",
      "|1              |4333               |176           |3                |2022-03-30       |6694              |7480                  |True        |True   |\n",
      "|2              |4547               |6391          |4                |2023-09-27       |2190              |3355                  |True        |False  |\n",
      "|3              |6686               |6974          |7                |2022-06-13       |4995              |7123                  |False       |False  |\n",
      "|4              |1300               |4037          |7                |2020-01-21       |694               |850                   |False       |False  |\n",
      "|5              |1638               |6061          |7                |2019-01-11       |8939              |11116                 |False       |False  |\n",
      "-------------------------------------------------------------------------------------------------------------------------------------------------------\n",
      "\n"
     ]
    }
   ],
   "source": [
    "accidents = session1.table(\"INS_ACCIDENTS\")\n",
    "accidents.show(5)"
   ]
  },
  {
   "cell_type": "markdown",
   "id": "1b22e132-97a2-4acd-9581-a6b61ab1fc61",
   "metadata": {},
   "source": [
    "Note, `accidents` is a Snowpark object (table). There is a difference between Snowpark DataFrames and Panda DataFrames. For now, you will convert to a Pandas DataFrame to do your transformations. Once done, you will convert back to a Snowpark DataFrame and write to the Database."
   ]
  },
  {
   "cell_type": "code",
   "execution_count": 125,
   "id": "a17fdcaf-47bc-4bdf-a589-4265c4f369ce",
   "metadata": {},
   "outputs": [
    {
     "data": {
      "text/plain": [
       "snowflake.snowpark.table.Table"
      ]
     },
     "execution_count": 125,
     "metadata": {},
     "output_type": "execute_result"
    }
   ],
   "source": [
    "type(accidents)"
   ]
  },
  {
   "cell_type": "code",
   "execution_count": 126,
   "id": "a108927f-1f97-4264-833d-06cc4499c43e",
   "metadata": {},
   "outputs": [],
   "source": [
    "accidents_df = accidents.to_pandas()"
   ]
  },
  {
   "cell_type": "code",
   "execution_count": 127,
   "id": "91c05750-2f2c-4758-895d-3bb4a73bda58",
   "metadata": {},
   "outputs": [
    {
     "name": "stdout",
     "output_type": "stream",
     "text": [
      "<class 'pandas.core.frame.DataFrame'>\n",
      "RangeIndex: 10000 entries, 0 to 9999\n",
      "Data columns (total 9 columns):\n",
      " #   Column              Non-Null Count  Dtype \n",
      "---  ------              --------------  ----- \n",
      " 0   ACCIDENT_ID         10000 non-null  int16 \n",
      " 1   POLICYHOLDER_ID     10000 non-null  int16 \n",
      " 2   VEHICLE_ID          10000 non-null  int16 \n",
      " 3   ACCIDENT_TYPE       10000 non-null  int8  \n",
      " 4   ACCIDENT_DATE       10000 non-null  object\n",
      " 5   ESTIMATED_COST      10000 non-null  int16 \n",
      " 6   ACTUAL_REPAIR_COST  10000 non-null  int16 \n",
      " 7   AT_FAULT            10000 non-null  bool  \n",
      " 8   DUI                 10000 non-null  bool  \n",
      "dtypes: bool(2), int16(5), int8(1), object(1)\n",
      "memory usage: 205.2+ KB\n"
     ]
    }
   ],
   "source": [
    "accidents_df.info()"
   ]
  },
  {
   "cell_type": "markdown",
   "id": "ac183ff1-b00b-4e87-ac35-2e5403739b8d",
   "metadata": {
    "jp-MarkdownHeadingCollapsed": true
   },
   "source": [
    "# The **T**\n",
    "## Your Work Here (Transformations)"
   ]
  },
  {
   "cell_type": "code",
   "execution_count": null,
   "id": "f9a30545-3085-412b-b4c9-a05f5aed8c89",
   "metadata": {},
   "outputs": [],
   "source": []
  },
  {
   "cell_type": "code",
   "execution_count": null,
   "id": "c31997c2-0dac-48cf-a545-6c3b2eab046e",
   "metadata": {},
   "outputs": [],
   "source": []
  },
  {
   "cell_type": "code",
   "execution_count": null,
   "id": "340f8aaf-46da-40d3-b464-04e36f350203",
   "metadata": {},
   "outputs": [],
   "source": []
  },
  {
   "cell_type": "code",
   "execution_count": null,
   "id": "ab81532b-2f93-4a13-bf78-92c490da987d",
   "metadata": {},
   "outputs": [],
   "source": []
  },
  {
   "cell_type": "code",
   "execution_count": null,
   "id": "2024c454-d0a2-4946-bd90-45c640536ba2",
   "metadata": {},
   "outputs": [],
   "source": []
  },
  {
   "cell_type": "code",
   "execution_count": null,
   "id": "4d6514bd-bbeb-4d2e-a51f-418da1877061",
   "metadata": {},
   "outputs": [],
   "source": []
  },
  {
   "cell_type": "markdown",
   "id": "db42f8a7-c18a-4c11-9a3b-c2fa233f7e36",
   "metadata": {
    "jp-MarkdownHeadingCollapsed": true
   },
   "source": [
    "# THE **L**\n",
    "## Write to Snowflak"
   ]
  },
  {
   "cell_type": "markdown",
   "id": "94f03f9c-152f-4522-ba9c-dbb20dcf74d2",
   "metadata": {},
   "source": [
    "To avoid mistakes, make sure you use your schema. "
   ]
  },
  {
   "cell_type": "code",
   "execution_count": 128,
   "id": "88f36951-c946-41d0-b0f9-597b5d001c67",
   "metadata": {},
   "outputs": [
    {
     "name": "stdout",
     "output_type": "stream",
     "text": [
      "techcatalyst_de.tatwan\n"
     ]
    }
   ],
   "source": [
    "yourschema = 'tatwan'\n",
    "location = f'techcatalyst_de.{yourschema}'\n",
    "print(location)"
   ]
  },
  {
   "cell_type": "markdown",
   "id": "902e4c40-5b47-4c04-8275-2df04fb735e7",
   "metadata": {},
   "source": [
    "Convert the Pandas DataFrame into a Snowpark DataFrame"
   ]
  },
  {
   "cell_type": "code",
   "execution_count": 131,
   "id": "40f29921-a7a5-4f12-a2cf-0f914f6d27ce",
   "metadata": {},
   "outputs": [],
   "source": [
    "accidents_sdf = session1.create_dataframe(accidents_df)"
   ]
  },
  {
   "cell_type": "code",
   "execution_count": 133,
   "id": "b90c1104-0d7d-4485-89ee-484812c416e3",
   "metadata": {},
   "outputs": [
    {
     "name": "stdout",
     "output_type": "stream",
     "text": [
      "<class 'pandas.core.frame.DataFrame'>\n",
      "<class 'snowflake.snowpark.table.Table'>\n"
     ]
    }
   ],
   "source": [
    "print(type(accidents_df))\n",
    "print(type(accidents_sdf))"
   ]
  },
  {
   "cell_type": "markdown",
   "id": "7135f675-e368-4c20-9264-14bf36bbabe6",
   "metadata": {},
   "source": [
    "When using the `write.mode()` method there are different options:\n",
    "\n",
    "* ”`append`”: Append data of this DataFrame to the existing table. Creates a table if it does not exist.\n",
    "\n",
    "* ”`overwrite`”: Overwrite the existing table by dropping old table.\n",
    "\n",
    "* ”`truncate`”: Overwrite the existing table by truncating old table.\n",
    "\n",
    "* ”`errorifexists`”: Throw an exception if the table already exists.\n",
    "\n",
    "* ”`ignore`”: Ignore this operation if the table already exists.\n",
    "\n",
    "* Default value is “`errorifexists`”."
   ]
  },
  {
   "cell_type": "code",
   "execution_count": 135,
   "id": "16638820-d8f8-4cdf-9d03-3fed266ec032",
   "metadata": {},
   "outputs": [],
   "source": [
    "# example using overwrite\n",
    "\n",
    "accidents_sdf.write.mode(\"overwrite\").save_as_table(f\"{location}.tatwan_test\")"
   ]
  },
  {
   "cell_type": "code",
   "execution_count": null,
   "id": "5c2948fa-a573-4638-bbe1-b6bc488fdc5c",
   "metadata": {},
   "outputs": [],
   "source": []
  }
 ],
 "metadata": {
  "kernelspec": {
   "display_name": "Python [conda env:dev2]",
   "language": "python",
   "name": "conda-env-dev2-py"
  },
  "language_info": {
   "codemirror_mode": {
    "name": "ipython",
    "version": 3
   },
   "file_extension": ".py",
   "mimetype": "text/x-python",
   "name": "python",
   "nbconvert_exporter": "python",
   "pygments_lexer": "ipython3",
   "version": "3.11.9"
  }
 },
 "nbformat": 4,
 "nbformat_minor": 5
}
