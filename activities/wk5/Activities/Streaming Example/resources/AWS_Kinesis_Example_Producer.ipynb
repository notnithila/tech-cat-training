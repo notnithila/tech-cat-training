{
  "nbformat": 4,
  "nbformat_minor": 0,
  "metadata": {
    "colab": {
      "provenance": []
    },
    "kernelspec": {
      "name": "python3",
      "display_name": "Python 3"
    },
    "language_info": {
      "name": "python"
    }
  },
  "cells": [
    {
      "cell_type": "code",
      "source": [
        "# if you run into an error you may need to run this twice\n",
        "!pip install boto3\n",
        "!pip install aws-kinesis-agg\n",
        "!pip install s3fs"
      ],
      "metadata": {
        "colab": {
          "base_uri": "https://localhost:8080/"
        },
        "id": "teipSDS2a5Of",
        "outputId": "d40b8b57-31d8-4930-a842-19620a534733"
      },
      "execution_count": 3,
      "outputs": [
        {
          "output_type": "stream",
          "name": "stdout",
          "text": [
            "Requirement already satisfied: boto3 in /usr/local/lib/python3.10/dist-packages (1.34.144)\n",
            "Collecting botocore<1.35.0,>=1.34.144 (from boto3)\n",
            "  Using cached botocore-1.34.144-py3-none-any.whl (12.4 MB)\n",
            "Requirement already satisfied: jmespath<2.0.0,>=0.7.1 in /usr/local/lib/python3.10/dist-packages (from boto3) (1.0.1)\n",
            "Requirement already satisfied: s3transfer<0.11.0,>=0.10.0 in /usr/local/lib/python3.10/dist-packages (from boto3) (0.10.2)\n",
            "Requirement already satisfied: python-dateutil<3.0.0,>=2.1 in /usr/local/lib/python3.10/dist-packages (from botocore<1.35.0,>=1.34.144->boto3) (2.8.2)\n",
            "Requirement already satisfied: urllib3!=2.2.0,<3,>=1.25.4 in /usr/local/lib/python3.10/dist-packages (from botocore<1.35.0,>=1.34.144->boto3) (2.0.7)\n",
            "Requirement already satisfied: six>=1.5 in /usr/local/lib/python3.10/dist-packages (from python-dateutil<3.0.0,>=2.1->botocore<1.35.0,>=1.34.144->boto3) (1.16.0)\n",
            "Installing collected packages: botocore\n",
            "  Attempting uninstall: botocore\n",
            "    Found existing installation: botocore 1.34.131\n",
            "    Uninstalling botocore-1.34.131:\n",
            "      Successfully uninstalled botocore-1.34.131\n",
            "\u001b[31mERROR: pip's dependency resolver does not currently take into account all the packages that are installed. This behaviour is the source of the following dependency conflicts.\n",
            "aiobotocore 2.13.1 requires botocore<1.34.132,>=1.34.70, but you have botocore 1.34.144 which is incompatible.\u001b[0m\u001b[31m\n",
            "\u001b[0mSuccessfully installed botocore-1.34.144\n",
            "Requirement already satisfied: aws-kinesis-agg in /usr/local/lib/python3.10/dist-packages (1.2.3)\n",
            "Requirement already satisfied: protobuf in /usr/local/lib/python3.10/dist-packages (from aws-kinesis-agg) (3.20.3)\n",
            "Requirement already satisfied: s3fs in /usr/local/lib/python3.10/dist-packages (2024.6.1)\n",
            "Requirement already satisfied: aiobotocore<3.0.0,>=2.5.4 in /usr/local/lib/python3.10/dist-packages (from s3fs) (2.13.1)\n",
            "Requirement already satisfied: fsspec==2024.6.1.* in /usr/local/lib/python3.10/dist-packages (from s3fs) (2024.6.1)\n",
            "Requirement already satisfied: aiohttp!=4.0.0a0,!=4.0.0a1 in /usr/local/lib/python3.10/dist-packages (from s3fs) (3.9.5)\n",
            "Collecting botocore<1.34.132,>=1.34.70 (from aiobotocore<3.0.0,>=2.5.4->s3fs)\n",
            "  Using cached botocore-1.34.131-py3-none-any.whl (12.3 MB)\n",
            "Requirement already satisfied: wrapt<2.0.0,>=1.10.10 in /usr/local/lib/python3.10/dist-packages (from aiobotocore<3.0.0,>=2.5.4->s3fs) (1.14.1)\n",
            "Requirement already satisfied: aioitertools<1.0.0,>=0.5.1 in /usr/local/lib/python3.10/dist-packages (from aiobotocore<3.0.0,>=2.5.4->s3fs) (0.11.0)\n",
            "Requirement already satisfied: aiosignal>=1.1.2 in /usr/local/lib/python3.10/dist-packages (from aiohttp!=4.0.0a0,!=4.0.0a1->s3fs) (1.3.1)\n",
            "Requirement already satisfied: attrs>=17.3.0 in /usr/local/lib/python3.10/dist-packages (from aiohttp!=4.0.0a0,!=4.0.0a1->s3fs) (23.2.0)\n",
            "Requirement already satisfied: frozenlist>=1.1.1 in /usr/local/lib/python3.10/dist-packages (from aiohttp!=4.0.0a0,!=4.0.0a1->s3fs) (1.4.1)\n",
            "Requirement already satisfied: multidict<7.0,>=4.5 in /usr/local/lib/python3.10/dist-packages (from aiohttp!=4.0.0a0,!=4.0.0a1->s3fs) (6.0.5)\n",
            "Requirement already satisfied: yarl<2.0,>=1.0 in /usr/local/lib/python3.10/dist-packages (from aiohttp!=4.0.0a0,!=4.0.0a1->s3fs) (1.9.4)\n",
            "Requirement already satisfied: async-timeout<5.0,>=4.0 in /usr/local/lib/python3.10/dist-packages (from aiohttp!=4.0.0a0,!=4.0.0a1->s3fs) (4.0.3)\n",
            "Requirement already satisfied: jmespath<2.0.0,>=0.7.1 in /usr/local/lib/python3.10/dist-packages (from botocore<1.34.132,>=1.34.70->aiobotocore<3.0.0,>=2.5.4->s3fs) (1.0.1)\n",
            "Requirement already satisfied: python-dateutil<3.0.0,>=2.1 in /usr/local/lib/python3.10/dist-packages (from botocore<1.34.132,>=1.34.70->aiobotocore<3.0.0,>=2.5.4->s3fs) (2.8.2)\n",
            "Requirement already satisfied: urllib3!=2.2.0,<3,>=1.25.4 in /usr/local/lib/python3.10/dist-packages (from botocore<1.34.132,>=1.34.70->aiobotocore<3.0.0,>=2.5.4->s3fs) (2.0.7)\n",
            "Requirement already satisfied: idna>=2.0 in /usr/local/lib/python3.10/dist-packages (from yarl<2.0,>=1.0->aiohttp!=4.0.0a0,!=4.0.0a1->s3fs) (3.7)\n",
            "Requirement already satisfied: six>=1.5 in /usr/local/lib/python3.10/dist-packages (from python-dateutil<3.0.0,>=2.1->botocore<1.34.132,>=1.34.70->aiobotocore<3.0.0,>=2.5.4->s3fs) (1.16.0)\n",
            "Installing collected packages: botocore\n",
            "  Attempting uninstall: botocore\n",
            "    Found existing installation: botocore 1.34.144\n",
            "    Uninstalling botocore-1.34.144:\n",
            "      Successfully uninstalled botocore-1.34.144\n",
            "\u001b[31mERROR: pip's dependency resolver does not currently take into account all the packages that are installed. This behaviour is the source of the following dependency conflicts.\n",
            "boto3 1.34.144 requires botocore<1.35.0,>=1.34.144, but you have botocore 1.34.131 which is incompatible.\u001b[0m\u001b[31m\n",
            "\u001b[0mSuccessfully installed botocore-1.34.131\n"
          ]
        }
      ]
    },
    {
      "cell_type": "markdown",
      "source": [
        "**Make sure to create an `aws.cfg` file and upload it here**\n",
        "\n",
        "aws.cfg example:\n",
        "\n",
        "```\n",
        "[AWS]\n",
        "aws_access_key_id = youraccesskey\n",
        "aws_secret_access_key = yoursecretkey\n",
        "region_name=us-east-1\n",
        "```\n",
        "Make sure to change the values to match yours."
      ],
      "metadata": {
        "id": "LC557PKIbPCJ"
      }
    },
    {
      "cell_type": "code",
      "execution_count": 4,
      "metadata": {
        "id": "OQf-JjBxag0E"
      },
      "outputs": [],
      "source": [
        "import boto3\n",
        "import json\n",
        "import time\n",
        "import pandas as pd\n",
        "import configparser\n",
        "\n",
        "# Read AWS credentials from config file\n",
        "config = configparser.ConfigParser()\n",
        "config.read('aws.cfg')\n",
        "\n",
        "aws_access_key_id = config['AWS']['aws_access_key_id']\n",
        "aws_secret_access_key = config['AWS']['aws_secret_access_key']\n",
        "region_name = config['AWS']['region_name']\n",
        "\n",
        "\n"
      ]
    },
    {
      "cell_type": "code",
      "source": [
        "# Initialize the boto3 client with credentials from config file\n",
        "kinesis_client = boto3.client(\n",
        "    'kinesis',\n",
        "    aws_access_key_id=aws_access_key_id,\n",
        "    aws_secret_access_key=aws_secret_access_key,\n",
        "    region_name=region_name\n",
        ")\n"
      ],
      "metadata": {
        "id": "thhDB1sXa3ip"
      },
      "execution_count": 7,
      "outputs": []
    },
    {
      "cell_type": "code",
      "source": [
        "def produce(stream_name, data, partition_key):\n",
        "    try:\n",
        "        # Convert timestamps to strings\n",
        "        for key in data:\n",
        "            if isinstance(data[key], pd.Timestamp):\n",
        "                data[key] = data[key].isoformat()\n",
        "                # using the put_record method to push the stream\n",
        "        response = kinesis_client.put_record(\n",
        "            StreamName=stream_name,\n",
        "            Data=json.dumps(data),\n",
        "            PartitionKey=partition_key\n",
        "        )\n",
        "        return response\n",
        "    except Exception as e:\n",
        "        print(f\"Error producing record: {e}\")\n",
        "\n",
        "# this function takes 5 records at a time and streams every 2-seconds\n",
        "def stream_data(df, stream_name):\n",
        "    for i in range(0, len(df), 5):\n",
        "        records = df.iloc[i:i+5].to_dict(orient='records')\n",
        "        for record in records:\n",
        "            partition_key = str(record['tpep_pickup_datetime'])  # Use a valid column as the partition key\n",
        "\n",
        "            # call the produce function\n",
        "            produce(stream_name, record, partition_key)\n",
        "        print(f\"Sent {len(records)} records to Kinesis\")\n",
        "        time.sleep(2)\n"
      ],
      "metadata": {
        "id": "lcPWqN7WbqI5"
      },
      "execution_count": 8,
      "outputs": []
    },
    {
      "cell_type": "code",
      "source": [
        "if __name__ == \"__main__\":\n",
        "    stream_name = 'input-stream'\n",
        "    # Reading the yellow_taxis parquet file and stream it\n",
        "    df = pd.read_parquet('s3://techcatalyst-public/yellow_tripdata_2024-01.parquet',\n",
        "                     storage_options={\n",
        "                      'key': aws_access_key_id,\n",
        "                     'secret': aws_secret_access_key,\n",
        "                     })\n",
        "    stream_data(df, stream_name)"
      ],
      "metadata": {
        "id": "UZRrzhtUbt64"
      },
      "execution_count": 10,
      "outputs": []
    },
    {
      "cell_type": "code",
      "source": [],
      "metadata": {
        "id": "DzcIQPLicIuv"
      },
      "execution_count": null,
      "outputs": []
    }
  ]
}